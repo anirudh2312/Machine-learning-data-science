{
 "cells": [
  {
   "cell_type": "markdown",
   "metadata": {},
   "source": [
    "__Anirudh Singh Shaktawat__                                                                                                     \n",
    "MS (Computer Engineering)                                                                                                       \n",
    "Texas A&M University                                                                                                             (email: anirudhshaktawat1@gmail.com)"
   ]
  },
  {
   "cell_type": "markdown",
   "metadata": {},
   "source": [
    "# Introduction: Titanic- Machine Learning from Disaster\n",
    "The sinking of the RMS Titanic is one of the most infamous shipwrecks in history. One of the reasons that the shipwreck led to such loss of life was that there were not enough lifeboats for the passengers and crew. Although there was some element of luck involved in surviving the sinking, some groups of people were more likely to survive than others, such as women, children, and the upper-class. \n",
    "\n",
    "The challenge is to complete the analysis of what sorts of people were likely to survive. This is an online machine learning challenge hosted by Kaggle. The objective of this notebook is to apply the tools of machine learning to predict which passengers survived the tragedy. This is a standard supervised classification task:\n",
    "- __Supervised:__ The labels are included in the training data and the goal is to train a model to learn to predict the labels from the features\n",
    "- __Classification:__ The label is a binary variable, 0 (not survived the tragedy), 1 (survived the tragedy)\n",
    "\n",
    "The __evaluation metric__ for this problem is 'accuracy', i.e. how many of our predictions are correct."
   ]
  },
  {
   "cell_type": "markdown",
   "metadata": {},
   "source": [
    "## Data\n",
    "The data is taken from the kaggle's titanic competition website. The data contains features and labels-\n",
    "\n",
    "- __Features:__ Passenger Id, Passenger Class, Passenger Name, Passenger Gender, Passenger Age, No. of Siblings, spouse, parent and children related to passenger on-board, Passenger Ticket, Ticket's Fare, Passenger Cabin, Embarked (location on the ship)\n",
    "- __Label:__ Survived\n"
   ]
  },
  {
   "cell_type": "markdown",
   "metadata": {},
   "source": [
    "## Imports"
   ]
  },
  {
   "cell_type": "code",
   "execution_count": 1,
   "metadata": {},
   "outputs": [
    {
     "data": {
      "text/html": [
       "<script>requirejs.config({paths: { 'plotly': ['https://cdn.plot.ly/plotly-latest.min']},});if(!window.Plotly) {{require(['plotly'],function(plotly) {window.Plotly=plotly;});}}</script>"
      ],
      "text/vnd.plotly.v1+html": [
       "<script>requirejs.config({paths: { 'plotly': ['https://cdn.plot.ly/plotly-latest.min']},});if(!window.Plotly) {{require(['plotly'],function(plotly) {window.Plotly=plotly;});}}</script>"
      ]
     },
     "metadata": {},
     "output_type": "display_data"
    }
   ],
   "source": [
    "# for data manipulation\n",
    "import pandas as pd\n",
    "import numpy as np\n",
    "\n",
    "# for plotting/visualising the distibution of data\n",
    "import matplotlib.pyplot as plt \n",
    "import seaborn as sns\n",
    "import plotly.graph_objs as go\n",
    "import plotly.offline as py\n",
    "py.init_notebook_mode(connected=True)\n",
    "from plotly import tools\n",
    "\n",
    "import random\n",
    "import re\n",
    "\n",
    "# for pre-processing of the data\n",
    "from sklearn.preprocessing import LabelEncoder, OneHotEncoder\n",
    "\n",
    "import warnings"
   ]
  },
  {
   "cell_type": "markdown",
   "metadata": {},
   "source": [
    "## Read in data"
   ]
  },
  {
   "cell_type": "code",
   "execution_count": 2,
   "metadata": {},
   "outputs": [],
   "source": [
    "# load the data\n",
    "train_df = pd.read_csv(\"Data/train.csv\")\n",
    "test_df = pd.read_csv(\"Data/test.csv\")"
   ]
  },
  {
   "cell_type": "code",
   "execution_count": 3,
   "metadata": {},
   "outputs": [
    {
     "data": {
      "text/html": [
       "<div>\n",
       "<style scoped>\n",
       "    .dataframe tbody tr th:only-of-type {\n",
       "        vertical-align: middle;\n",
       "    }\n",
       "\n",
       "    .dataframe tbody tr th {\n",
       "        vertical-align: top;\n",
       "    }\n",
       "\n",
       "    .dataframe thead th {\n",
       "        text-align: right;\n",
       "    }\n",
       "</style>\n",
       "<table border=\"1\" class=\"dataframe\">\n",
       "  <thead>\n",
       "    <tr style=\"text-align: right;\">\n",
       "      <th></th>\n",
       "      <th>PassengerId</th>\n",
       "      <th>Survived</th>\n",
       "      <th>Pclass</th>\n",
       "      <th>Name</th>\n",
       "      <th>Sex</th>\n",
       "      <th>Age</th>\n",
       "      <th>SibSp</th>\n",
       "      <th>Parch</th>\n",
       "      <th>Ticket</th>\n",
       "      <th>Fare</th>\n",
       "      <th>Cabin</th>\n",
       "      <th>Embarked</th>\n",
       "    </tr>\n",
       "  </thead>\n",
       "  <tbody>\n",
       "    <tr>\n",
       "      <th>0</th>\n",
       "      <td>1</td>\n",
       "      <td>0</td>\n",
       "      <td>3</td>\n",
       "      <td>Braund, Mr. Owen Harris</td>\n",
       "      <td>male</td>\n",
       "      <td>22.0</td>\n",
       "      <td>1</td>\n",
       "      <td>0</td>\n",
       "      <td>A/5 21171</td>\n",
       "      <td>7.2500</td>\n",
       "      <td>NaN</td>\n",
       "      <td>S</td>\n",
       "    </tr>\n",
       "    <tr>\n",
       "      <th>1</th>\n",
       "      <td>2</td>\n",
       "      <td>1</td>\n",
       "      <td>1</td>\n",
       "      <td>Cumings, Mrs. John Bradley (Florence Briggs Th...</td>\n",
       "      <td>female</td>\n",
       "      <td>38.0</td>\n",
       "      <td>1</td>\n",
       "      <td>0</td>\n",
       "      <td>PC 17599</td>\n",
       "      <td>71.2833</td>\n",
       "      <td>C85</td>\n",
       "      <td>C</td>\n",
       "    </tr>\n",
       "    <tr>\n",
       "      <th>2</th>\n",
       "      <td>3</td>\n",
       "      <td>1</td>\n",
       "      <td>3</td>\n",
       "      <td>Heikkinen, Miss. Laina</td>\n",
       "      <td>female</td>\n",
       "      <td>26.0</td>\n",
       "      <td>0</td>\n",
       "      <td>0</td>\n",
       "      <td>STON/O2. 3101282</td>\n",
       "      <td>7.9250</td>\n",
       "      <td>NaN</td>\n",
       "      <td>S</td>\n",
       "    </tr>\n",
       "    <tr>\n",
       "      <th>3</th>\n",
       "      <td>4</td>\n",
       "      <td>1</td>\n",
       "      <td>1</td>\n",
       "      <td>Futrelle, Mrs. Jacques Heath (Lily May Peel)</td>\n",
       "      <td>female</td>\n",
       "      <td>35.0</td>\n",
       "      <td>1</td>\n",
       "      <td>0</td>\n",
       "      <td>113803</td>\n",
       "      <td>53.1000</td>\n",
       "      <td>C123</td>\n",
       "      <td>S</td>\n",
       "    </tr>\n",
       "    <tr>\n",
       "      <th>4</th>\n",
       "      <td>5</td>\n",
       "      <td>0</td>\n",
       "      <td>3</td>\n",
       "      <td>Allen, Mr. William Henry</td>\n",
       "      <td>male</td>\n",
       "      <td>35.0</td>\n",
       "      <td>0</td>\n",
       "      <td>0</td>\n",
       "      <td>373450</td>\n",
       "      <td>8.0500</td>\n",
       "      <td>NaN</td>\n",
       "      <td>S</td>\n",
       "    </tr>\n",
       "  </tbody>\n",
       "</table>\n",
       "</div>"
      ],
      "text/plain": [
       "   PassengerId  Survived  Pclass  \\\n",
       "0            1         0       3   \n",
       "1            2         1       1   \n",
       "2            3         1       3   \n",
       "3            4         1       1   \n",
       "4            5         0       3   \n",
       "\n",
       "                                                Name     Sex   Age  SibSp  \\\n",
       "0                            Braund, Mr. Owen Harris    male  22.0      1   \n",
       "1  Cumings, Mrs. John Bradley (Florence Briggs Th...  female  38.0      1   \n",
       "2                             Heikkinen, Miss. Laina  female  26.0      0   \n",
       "3       Futrelle, Mrs. Jacques Heath (Lily May Peel)  female  35.0      1   \n",
       "4                           Allen, Mr. William Henry    male  35.0      0   \n",
       "\n",
       "   Parch            Ticket     Fare Cabin Embarked  \n",
       "0      0         A/5 21171   7.2500   NaN        S  \n",
       "1      0          PC 17599  71.2833   C85        C  \n",
       "2      0  STON/O2. 3101282   7.9250   NaN        S  \n",
       "3      0            113803  53.1000  C123        S  \n",
       "4      0            373450   8.0500   NaN        S  "
      ]
     },
     "execution_count": 3,
     "metadata": {},
     "output_type": "execute_result"
    }
   ],
   "source": [
    "train_df.head()"
   ]
  },
  {
   "cell_type": "code",
   "execution_count": 4,
   "metadata": {},
   "outputs": [
    {
     "data": {
      "text/html": [
       "<div>\n",
       "<style scoped>\n",
       "    .dataframe tbody tr th:only-of-type {\n",
       "        vertical-align: middle;\n",
       "    }\n",
       "\n",
       "    .dataframe tbody tr th {\n",
       "        vertical-align: top;\n",
       "    }\n",
       "\n",
       "    .dataframe thead th {\n",
       "        text-align: right;\n",
       "    }\n",
       "</style>\n",
       "<table border=\"1\" class=\"dataframe\">\n",
       "  <thead>\n",
       "    <tr style=\"text-align: right;\">\n",
       "      <th></th>\n",
       "      <th>PassengerId</th>\n",
       "      <th>Survived</th>\n",
       "      <th>Pclass</th>\n",
       "      <th>Name</th>\n",
       "      <th>Sex</th>\n",
       "      <th>Age</th>\n",
       "      <th>SibSp</th>\n",
       "      <th>Parch</th>\n",
       "      <th>Ticket</th>\n",
       "      <th>Fare</th>\n",
       "      <th>Cabin</th>\n",
       "      <th>Embarked</th>\n",
       "    </tr>\n",
       "  </thead>\n",
       "  <tbody>\n",
       "    <tr>\n",
       "      <th>count</th>\n",
       "      <td>891.000000</td>\n",
       "      <td>891.000000</td>\n",
       "      <td>891.000000</td>\n",
       "      <td>891</td>\n",
       "      <td>891</td>\n",
       "      <td>714.000000</td>\n",
       "      <td>891.000000</td>\n",
       "      <td>891.000000</td>\n",
       "      <td>891</td>\n",
       "      <td>891.000000</td>\n",
       "      <td>204</td>\n",
       "      <td>889</td>\n",
       "    </tr>\n",
       "    <tr>\n",
       "      <th>unique</th>\n",
       "      <td>NaN</td>\n",
       "      <td>NaN</td>\n",
       "      <td>NaN</td>\n",
       "      <td>891</td>\n",
       "      <td>2</td>\n",
       "      <td>NaN</td>\n",
       "      <td>NaN</td>\n",
       "      <td>NaN</td>\n",
       "      <td>681</td>\n",
       "      <td>NaN</td>\n",
       "      <td>147</td>\n",
       "      <td>3</td>\n",
       "    </tr>\n",
       "    <tr>\n",
       "      <th>top</th>\n",
       "      <td>NaN</td>\n",
       "      <td>NaN</td>\n",
       "      <td>NaN</td>\n",
       "      <td>Molson, Mr. Harry Markland</td>\n",
       "      <td>male</td>\n",
       "      <td>NaN</td>\n",
       "      <td>NaN</td>\n",
       "      <td>NaN</td>\n",
       "      <td>CA. 2343</td>\n",
       "      <td>NaN</td>\n",
       "      <td>G6</td>\n",
       "      <td>S</td>\n",
       "    </tr>\n",
       "    <tr>\n",
       "      <th>freq</th>\n",
       "      <td>NaN</td>\n",
       "      <td>NaN</td>\n",
       "      <td>NaN</td>\n",
       "      <td>1</td>\n",
       "      <td>577</td>\n",
       "      <td>NaN</td>\n",
       "      <td>NaN</td>\n",
       "      <td>NaN</td>\n",
       "      <td>7</td>\n",
       "      <td>NaN</td>\n",
       "      <td>4</td>\n",
       "      <td>644</td>\n",
       "    </tr>\n",
       "    <tr>\n",
       "      <th>mean</th>\n",
       "      <td>446.000000</td>\n",
       "      <td>0.383838</td>\n",
       "      <td>2.308642</td>\n",
       "      <td>NaN</td>\n",
       "      <td>NaN</td>\n",
       "      <td>29.699118</td>\n",
       "      <td>0.523008</td>\n",
       "      <td>0.381594</td>\n",
       "      <td>NaN</td>\n",
       "      <td>32.204208</td>\n",
       "      <td>NaN</td>\n",
       "      <td>NaN</td>\n",
       "    </tr>\n",
       "    <tr>\n",
       "      <th>std</th>\n",
       "      <td>257.353842</td>\n",
       "      <td>0.486592</td>\n",
       "      <td>0.836071</td>\n",
       "      <td>NaN</td>\n",
       "      <td>NaN</td>\n",
       "      <td>14.526497</td>\n",
       "      <td>1.102743</td>\n",
       "      <td>0.806057</td>\n",
       "      <td>NaN</td>\n",
       "      <td>49.693429</td>\n",
       "      <td>NaN</td>\n",
       "      <td>NaN</td>\n",
       "    </tr>\n",
       "    <tr>\n",
       "      <th>min</th>\n",
       "      <td>1.000000</td>\n",
       "      <td>0.000000</td>\n",
       "      <td>1.000000</td>\n",
       "      <td>NaN</td>\n",
       "      <td>NaN</td>\n",
       "      <td>0.420000</td>\n",
       "      <td>0.000000</td>\n",
       "      <td>0.000000</td>\n",
       "      <td>NaN</td>\n",
       "      <td>0.000000</td>\n",
       "      <td>NaN</td>\n",
       "      <td>NaN</td>\n",
       "    </tr>\n",
       "    <tr>\n",
       "      <th>25%</th>\n",
       "      <td>223.500000</td>\n",
       "      <td>0.000000</td>\n",
       "      <td>2.000000</td>\n",
       "      <td>NaN</td>\n",
       "      <td>NaN</td>\n",
       "      <td>20.125000</td>\n",
       "      <td>0.000000</td>\n",
       "      <td>0.000000</td>\n",
       "      <td>NaN</td>\n",
       "      <td>7.910400</td>\n",
       "      <td>NaN</td>\n",
       "      <td>NaN</td>\n",
       "    </tr>\n",
       "    <tr>\n",
       "      <th>50%</th>\n",
       "      <td>446.000000</td>\n",
       "      <td>0.000000</td>\n",
       "      <td>3.000000</td>\n",
       "      <td>NaN</td>\n",
       "      <td>NaN</td>\n",
       "      <td>28.000000</td>\n",
       "      <td>0.000000</td>\n",
       "      <td>0.000000</td>\n",
       "      <td>NaN</td>\n",
       "      <td>14.454200</td>\n",
       "      <td>NaN</td>\n",
       "      <td>NaN</td>\n",
       "    </tr>\n",
       "    <tr>\n",
       "      <th>75%</th>\n",
       "      <td>668.500000</td>\n",
       "      <td>1.000000</td>\n",
       "      <td>3.000000</td>\n",
       "      <td>NaN</td>\n",
       "      <td>NaN</td>\n",
       "      <td>38.000000</td>\n",
       "      <td>1.000000</td>\n",
       "      <td>0.000000</td>\n",
       "      <td>NaN</td>\n",
       "      <td>31.000000</td>\n",
       "      <td>NaN</td>\n",
       "      <td>NaN</td>\n",
       "    </tr>\n",
       "    <tr>\n",
       "      <th>max</th>\n",
       "      <td>891.000000</td>\n",
       "      <td>1.000000</td>\n",
       "      <td>3.000000</td>\n",
       "      <td>NaN</td>\n",
       "      <td>NaN</td>\n",
       "      <td>80.000000</td>\n",
       "      <td>8.000000</td>\n",
       "      <td>6.000000</td>\n",
       "      <td>NaN</td>\n",
       "      <td>512.329200</td>\n",
       "      <td>NaN</td>\n",
       "      <td>NaN</td>\n",
       "    </tr>\n",
       "  </tbody>\n",
       "</table>\n",
       "</div>"
      ],
      "text/plain": [
       "        PassengerId    Survived      Pclass                        Name   Sex  \\\n",
       "count    891.000000  891.000000  891.000000                         891   891   \n",
       "unique          NaN         NaN         NaN                         891     2   \n",
       "top             NaN         NaN         NaN  Molson, Mr. Harry Markland  male   \n",
       "freq            NaN         NaN         NaN                           1   577   \n",
       "mean     446.000000    0.383838    2.308642                         NaN   NaN   \n",
       "std      257.353842    0.486592    0.836071                         NaN   NaN   \n",
       "min        1.000000    0.000000    1.000000                         NaN   NaN   \n",
       "25%      223.500000    0.000000    2.000000                         NaN   NaN   \n",
       "50%      446.000000    0.000000    3.000000                         NaN   NaN   \n",
       "75%      668.500000    1.000000    3.000000                         NaN   NaN   \n",
       "max      891.000000    1.000000    3.000000                         NaN   NaN   \n",
       "\n",
       "               Age       SibSp       Parch    Ticket        Fare Cabin  \\\n",
       "count   714.000000  891.000000  891.000000       891  891.000000   204   \n",
       "unique         NaN         NaN         NaN       681         NaN   147   \n",
       "top            NaN         NaN         NaN  CA. 2343         NaN    G6   \n",
       "freq           NaN         NaN         NaN         7         NaN     4   \n",
       "mean     29.699118    0.523008    0.381594       NaN   32.204208   NaN   \n",
       "std      14.526497    1.102743    0.806057       NaN   49.693429   NaN   \n",
       "min       0.420000    0.000000    0.000000       NaN    0.000000   NaN   \n",
       "25%      20.125000    0.000000    0.000000       NaN    7.910400   NaN   \n",
       "50%      28.000000    0.000000    0.000000       NaN   14.454200   NaN   \n",
       "75%      38.000000    1.000000    0.000000       NaN   31.000000   NaN   \n",
       "max      80.000000    8.000000    6.000000       NaN  512.329200   NaN   \n",
       "\n",
       "       Embarked  \n",
       "count       889  \n",
       "unique        3  \n",
       "top           S  \n",
       "freq        644  \n",
       "mean        NaN  \n",
       "std         NaN  \n",
       "min         NaN  \n",
       "25%         NaN  \n",
       "50%         NaN  \n",
       "75%         NaN  \n",
       "max         NaN  "
      ]
     },
     "execution_count": 4,
     "metadata": {},
     "output_type": "execute_result"
    }
   ],
   "source": [
    "# Get the distribution of the data\n",
    "train_df.describe(include='all')"
   ]
  },
  {
   "cell_type": "markdown",
   "metadata": {},
   "source": [
    "# Explorartory Data Analysis\n",
    "Exploratory Data Analysis (EDA) is an open-ended process where we calculate statistics and make figures to find trends, anomalies, patterns, or relationships within the data. The goal of EDA is to learn what our data can tell us. It generally starts out with a high level overview, then narrows in to specific areas as we find intriguing areas of the data. The findings may be interesting in their own right, or they can be used to inform our modeling choices, such as by helping us decide which features to use."
   ]
  },
  {
   "cell_type": "markdown",
   "metadata": {},
   "source": [
    "## Examine the Distribution of the 'Survived' Column\n",
    "\n",
    "The survival is what we are asked to predict: either a 0 for the person who will not survive, or a 1 indicating the person will survive the tragedy. We can first examine the number of passengers falling into each category."
   ]
  },
  {
   "cell_type": "code",
   "execution_count": 5,
   "metadata": {},
   "outputs": [
    {
     "data": {
      "image/png": "[encoded data removed]",
      "text/plain": [
       "<Figure size 432x288 with 1 Axes>"
      ]
     },
     "metadata": {},
     "output_type": "display_data"
    }
   ],
   "source": [
    "train_df['Survived'].astype(int).plot.hist();"
   ]
  },
  {
   "cell_type": "markdown",
   "metadata": {},
   "source": [
    "From this information, we can consider this problem as a balanced class problem."
   ]
  },
  {
   "cell_type": "markdown",
   "metadata": {},
   "source": [
    "## Examine Missing Values\n",
    "\n",
    "Next we can look at the number and percentage of missing values in each column. "
   ]
  },
  {
   "cell_type": "code",
   "execution_count": 6,
   "metadata": {},
   "outputs": [],
   "source": [
    "# Function to calculate missing values by column\n",
    "def missing_values_table(df):\n",
    "        # Total missing values\n",
    "        mis_val = df.isnull().sum()\n",
    "        \n",
    "        # Percentage of missing values\n",
    "        mis_val_percent = 100 * df.isnull().sum() / len(df)\n",
    "        \n",
    "        # Make a table with the results\n",
    "        mis_val_table = pd.concat([mis_val, mis_val_percent], axis=1)\n",
    "        \n",
    "        # Rename the columns\n",
    "        mis_val_table_ren_columns = mis_val_table.rename(\n",
    "        columns = {0 : 'Missing Values', 1 : '% of Total Values'})\n",
    "        \n",
    "        # Sort the table by percentage of missing descending\n",
    "        mis_val_table_ren_columns = mis_val_table_ren_columns[\n",
    "            mis_val_table_ren_columns.iloc[:,1] != 0].sort_values(\n",
    "        '% of Total Values', ascending=False).round(1)\n",
    "        \n",
    "        # Print some summary information\n",
    "        print (\"Your selected dataframe has \" + str(df.shape[1]) + \" columns.\\n\"      \n",
    "            \"There are \" + str(mis_val_table_ren_columns.shape[0]) +\n",
    "              \" columns that have missing values.\")\n",
    "        \n",
    "        # Return the dataframe with missing information\n",
    "        return mis_val_table_ren_columns"
   ]
  },
  {
   "cell_type": "code",
   "execution_count": 7,
   "metadata": {},
   "outputs": [
    {
     "name": "stdout",
     "output_type": "stream",
     "text": [
      "Your selected dataframe has 12 columns.\n",
      "There are 3 columns that have missing values.\n"
     ]
    },
    {
     "data": {
      "text/html": [
       "<div>\n",
       "<style scoped>\n",
       "    .dataframe tbody tr th:only-of-type {\n",
       "        vertical-align: middle;\n",
       "    }\n",
       "\n",
       "    .dataframe tbody tr th {\n",
       "        vertical-align: top;\n",
       "    }\n",
       "\n",
       "    .dataframe thead th {\n",
       "        text-align: right;\n",
       "    }\n",
       "</style>\n",
       "<table border=\"1\" class=\"dataframe\">\n",
       "  <thead>\n",
       "    <tr style=\"text-align: right;\">\n",
       "      <th></th>\n",
       "      <th>Missing Values</th>\n",
       "      <th>% of Total Values</th>\n",
       "    </tr>\n",
       "  </thead>\n",
       "  <tbody>\n",
       "    <tr>\n",
       "      <th>Cabin</th>\n",
       "      <td>687</td>\n",
       "      <td>77.1</td>\n",
       "    </tr>\n",
       "    <tr>\n",
       "      <th>Age</th>\n",
       "      <td>177</td>\n",
       "      <td>19.9</td>\n",
       "    </tr>\n",
       "    <tr>\n",
       "      <th>Embarked</th>\n",
       "      <td>2</td>\n",
       "      <td>0.2</td>\n",
       "    </tr>\n",
       "  </tbody>\n",
       "</table>\n",
       "</div>"
      ],
      "text/plain": [
       "          Missing Values  % of Total Values\n",
       "Cabin                687               77.1\n",
       "Age                  177               19.9\n",
       "Embarked               2                0.2"
      ]
     },
     "execution_count": 7,
     "metadata": {},
     "output_type": "execute_result"
    }
   ],
   "source": [
    "# Missing values statistics\n",
    "missing_values = missing_values_table(train_df)\n",
    "missing_values"
   ]
  },
  {
   "cell_type": "markdown",
   "metadata": {},
   "source": [
    "When it comes to building our machine learning models, we will have to fill in these missing values (known as imputation). Also, there are some models available such as LightGBM, XGBoost that can [handle missing values with no need for imputation](https://stats.stackexchange.com/questions/235489/xgboost-can-handle-missing-data-in-the-forecasting-phase). Another option would be to drop columns with a high percentage of missing values, which do not have high feature importance or high correlation with the labels."
   ]
  },
  {
   "cell_type": "markdown",
   "metadata": {},
   "source": [
    "Since, Embarked column has very few number of missing values, only 2, we can impute it with the mode of the column. It will not affect the overall distribution of the column. "
   ]
  },
  {
   "cell_type": "code",
   "execution_count": 8,
   "metadata": {},
   "outputs": [],
   "source": [
    "train_df['Embarked'].fillna(train_df['Embarked'].mode()[0], inplace = True)"
   ]
  },
  {
   "cell_type": "markdown",
   "metadata": {},
   "source": [
    "## Feature Engineering\n",
    "  "
   ]
  },
  {
   "cell_type": "markdown",
   "metadata": {},
   "source": [
    "Passenger Name is a categorical variable and it is obviously unique for each passenger. So we cannot use the Name variable directly in our model but we can extract some useful information from this variable like a new feature called 'Title' which can guide our model. "
   ]
  },
  {
   "cell_type": "code",
   "execution_count": 9,
   "metadata": {},
   "outputs": [],
   "source": [
    "# Define function to extract titles from passenger names\n",
    "def get_title(name):\n",
    "    title_search = re.search(' ([A-Za-z]+)\\.', name)\n",
    "    # If the title exists, extract and return it.\n",
    "    if title_search:\n",
    "        return title_search.group(1)\n",
    "    return \"\"\n",
    "# Create a new feature Title, containing the titles of passenger names\n",
    "train_df['Title'] = train_df['Name'].apply(get_title)\n",
    "test_df['Title'] = test_df['Name'].apply(get_title)"
   ]
  },
  {
   "cell_type": "code",
   "execution_count": 10,
   "metadata": {},
   "outputs": [
    {
     "data": {
      "text/plain": [
       "Mr          517\n",
       "Miss        182\n",
       "Mrs         125\n",
       "Master       40\n",
       "Dr            7\n",
       "Rev           6\n",
       "Col           2\n",
       "Mlle          2\n",
       "Major         2\n",
       "Sir           1\n",
       "Jonkheer      1\n",
       "Mme           1\n",
       "Ms            1\n",
       "Capt          1\n",
       "Lady          1\n",
       "Countess      1\n",
       "Don           1\n",
       "Name: Title, dtype: int64"
      ]
     },
     "execution_count": 10,
     "metadata": {},
     "output_type": "execute_result"
    }
   ],
   "source": [
    "train_df['Title'].value_counts()"
   ]
  },
  {
   "cell_type": "code",
   "execution_count": 11,
   "metadata": {},
   "outputs": [
    {
     "data": {
      "text/plain": [
       "Mr        240\n",
       "Miss       78\n",
       "Mrs        72\n",
       "Master     21\n",
       "Col         2\n",
       "Rev         2\n",
       "Dr          1\n",
       "Ms          1\n",
       "Dona        1\n",
       "Name: Title, dtype: int64"
      ]
     },
     "execution_count": 11,
     "metadata": {},
     "output_type": "execute_result"
    }
   ],
   "source": [
    "test_df['Title'].value_counts()"
   ]
  },
  {
   "cell_type": "markdown",
   "metadata": {},
   "source": [
    "From this information, we see that some titles are very rare, so we will combine these titles under a single name - 'Others'"
   ]
  },
  {
   "cell_type": "code",
   "execution_count": 12,
   "metadata": {},
   "outputs": [],
   "source": [
    "dict1 = {'Dr':'Others', 'Rev':'Others', 'Col':'Others', 'Mlle':'Others', 'Major':'Others', 'Capt':'Others', 'Ms':'Others', \n",
    "         'Don':'Others', 'Lady':'Others', 'Countess':'Others', 'Jonkheer':'Others', 'Mme':'Others', 'Sir':'Others'}\n",
    "train_df['Title'] = train_df['Title'].replace(dict1)\n",
    "\n",
    "dict2 = {'Col':'Others', 'Rev':'Others', 'Ms':'Others', 'Dona':'Others', 'Dr':'Others'}\n",
    "test_df['Title'] = test_df['Title'].replace(dict2)"
   ]
  },
  {
   "cell_type": "code",
   "execution_count": 13,
   "metadata": {},
   "outputs": [
    {
     "data": {
      "text/plain": [
       "Mr        517\n",
       "Miss      182\n",
       "Mrs       125\n",
       "Master     40\n",
       "Others     27\n",
       "Name: Title, dtype: int64"
      ]
     },
     "execution_count": 13,
     "metadata": {},
     "output_type": "execute_result"
    }
   ],
   "source": [
    "train_df['Title'].value_counts()"
   ]
  },
  {
   "cell_type": "markdown",
   "metadata": {},
   "source": [
    "From this information of titles, we can see that there are 5 classes. Leaving out the others, 'Miss' and 'Mrs' titles are used for females and the only information that we can get from these 2 titles is that there are 125 females (Mrs) who are married and 182 females (Miss) are not married. 'Mr' and 'Master' titles are used for males. Master is used for children (people with age less than 13). This means that there are 40 male children (age less than 13) and 517 males with age greater than 13.    "
   ]
  },
  {
   "cell_type": "markdown",
   "metadata": {},
   "source": [
    "## Correction in the data\n",
    "If there is any male with age less than 13 and having a title of Mr, then that is incorrect entry and we need to correct the title, changing it to Master. Although, there is only one incorrect entry in our data of this type and changing it will not make much impact, but Data correction is an important step in building a machine learning model.  "
   ]
  },
  {
   "cell_type": "code",
   "execution_count": 14,
   "metadata": {},
   "outputs": [
    {
     "data": {
      "text/html": [
       "<div>\n",
       "<style scoped>\n",
       "    .dataframe tbody tr th:only-of-type {\n",
       "        vertical-align: middle;\n",
       "    }\n",
       "\n",
       "    .dataframe tbody tr th {\n",
       "        vertical-align: top;\n",
       "    }\n",
       "\n",
       "    .dataframe thead th {\n",
       "        text-align: right;\n",
       "    }\n",
       "</style>\n",
       "<table border=\"1\" class=\"dataframe\">\n",
       "  <thead>\n",
       "    <tr style=\"text-align: right;\">\n",
       "      <th></th>\n",
       "      <th>PassengerId</th>\n",
       "      <th>Survived</th>\n",
       "      <th>Pclass</th>\n",
       "      <th>Name</th>\n",
       "      <th>Sex</th>\n",
       "      <th>Age</th>\n",
       "      <th>SibSp</th>\n",
       "      <th>Parch</th>\n",
       "      <th>Ticket</th>\n",
       "      <th>Fare</th>\n",
       "      <th>Cabin</th>\n",
       "      <th>Embarked</th>\n",
       "      <th>Title</th>\n",
       "    </tr>\n",
       "  </thead>\n",
       "  <tbody>\n",
       "    <tr>\n",
       "      <th>731</th>\n",
       "      <td>732</td>\n",
       "      <td>0</td>\n",
       "      <td>3</td>\n",
       "      <td>Hassan, Mr. Houssein G N</td>\n",
       "      <td>male</td>\n",
       "      <td>11.0</td>\n",
       "      <td>0</td>\n",
       "      <td>0</td>\n",
       "      <td>2699</td>\n",
       "      <td>18.7875</td>\n",
       "      <td>NaN</td>\n",
       "      <td>C</td>\n",
       "      <td>Mr</td>\n",
       "    </tr>\n",
       "  </tbody>\n",
       "</table>\n",
       "</div>"
      ],
      "text/plain": [
       "     PassengerId  Survived  Pclass                      Name   Sex   Age  \\\n",
       "731          732         0       3  Hassan, Mr. Houssein G N  male  11.0   \n",
       "\n",
       "     SibSp  Parch Ticket     Fare Cabin Embarked Title  \n",
       "731      0      0   2699  18.7875   NaN        C    Mr  "
      ]
     },
     "execution_count": 14,
     "metadata": {},
     "output_type": "execute_result"
    }
   ],
   "source": [
    "# Checking the incorrect entry when age is less than 13 for male and the title is Mr.\n",
    "df = train_df.loc[train_df['Title']=='Mr']\n",
    "df = df.loc[df['Age']<13]\n",
    "df.head()"
   ]
  },
  {
   "cell_type": "code",
   "execution_count": 15,
   "metadata": {},
   "outputs": [],
   "source": [
    "# Correcting the entry\n",
    "train_df.loc[[731],['Title']] = 'Master'"
   ]
  },
  {
   "cell_type": "markdown",
   "metadata": {},
   "source": [
    "## Visualise the variables by plotting the classes on a graph"
   ]
  },
  {
   "cell_type": "code",
   "execution_count": 16,
   "metadata": {},
   "outputs": [],
   "source": [
    "# Function to plot the classes of the variables\n",
    "def random_color_generator(number_of_colors):\n",
    "    color = [\"#\"+''.join([random.choice('0123456789ABCDEF') for j in range(6)])\n",
    "                 for i in range(number_of_colors)]\n",
    "    return color\n",
    "\n",
    "def get_percent(df, temp_col, width=800, height=500):\n",
    "    cnt_srs = df[[temp_col, 'Survived']].groupby([temp_col], as_index=False).mean().sort_values(by=temp_col)\n",
    "\n",
    "    trace = go.Bar(\n",
    "        x = cnt_srs[temp_col].values[::-1],\n",
    "        y = cnt_srs['Survived'].values[::-1],\n",
    "        text = cnt_srs.values[::-1],\n",
    "        textposition = 'auto',\n",
    "        name = \"Percent\",\n",
    "        textfont = dict(\n",
    "            size=12,\n",
    "            color='rgb(0, 0, 0)'\n",
    "        ),\n",
    "        orientation = 'v',\n",
    "            marker = dict(\n",
    "                color = random_color_generator(100),\n",
    "                line=dict(color='rgb(8,48,107)',\n",
    "                  width=1.5,)\n",
    "            ),\n",
    "            opacity = 0.7,\n",
    "    )    \n",
    "    return trace\n",
    "\n",
    "def get_count(df, temp_col, width=800, height=500):\n",
    "    cnt_srs = df[temp_col].value_counts().sort_index()\n",
    "\n",
    "    trace = go.Bar(\n",
    "        x = cnt_srs.index[::-1],\n",
    "        y = cnt_srs.values[::-1],\n",
    "        text = cnt_srs.values[::-1],\n",
    "        textposition = 'auto',\n",
    "        textfont = dict(\n",
    "            size=0,\n",
    "            color='rgb(0, 0, 0)'\n",
    "        ),\n",
    "        name = 'Count',\n",
    "        orientation = 'v',\n",
    "            marker = dict(\n",
    "                color = random_color_generator(100),\n",
    "                line=dict(color='rgb(8,48,107)',\n",
    "                  width=1.5,)\n",
    "            ),\n",
    "            opacity = 0.7,\n",
    "    )    \n",
    "    return trace\n",
    "\n",
    "def plot_count_percent_for_object(df, temp_col, height=400):\n",
    "    trace1 = get_count(df, temp_col)\n",
    "    trace2 = get_percent(df, temp_col)\n",
    "\n",
    "    fig = tools.make_subplots(rows=1, cols=2, subplot_titles=('Count', 'Percent'), print_grid=False)\n",
    "    fig.append_trace(trace1, 1, 1)\n",
    "    fig.append_trace(trace2, 1, 2)\n",
    "\n",
    "    fig['layout']['yaxis1'].update(title='Count')\n",
    "    fig['layout']['yaxis2'].update(range=[0, 1], title='% Survived')\n",
    "    fig['layout'].update(title = temp_col, margin=dict(l=100), width=800, height=height, showlegend=False)\n",
    "\n",
    "    py.iplot(fig)"
   ]
  },
  {
   "cell_type": "code",
   "execution_count": 17,
   "metadata": {},
   "outputs": [
    {
     "data": {
      "application/vnd.plotly.v1+json": {
       "data": [
        {
         "marker": {
          "color": [
           "#6EA753",
           "#619AD7",
           "#7A90A4",
           "#EC6850",
           "#A585FF",
           "#F10244",
           "#CE1552",
           "#3CCD25",
           "#AF58A8",
           "#C39060",
           "#D025CD",
           "#971584",
           "#3A0CD4",
           "#5FF2C6",
           "#ED3E5B",
           "#2AB437",
           "#8723A9",
           "#E5C693",
           "#CFF66F",
           "#ABE8F4",
           "#39B8B6",
           "#341C0E",
           "#3AE845",
           "#8B1790",
           "#8F9557",
           "#45D3DF",
           "#284965",
           "#56FF59",
           "#807C30",
           "#6A866C",
           "#D1682B",
           "#A33B05",
           "#4E0BEE",
           "#3B2B32",
           "#602F31",
           "#191459",
           "#17746C",
           "#30B5F5",
           "#A8609F",
           "#5887E1",
           "#40C088",
           "#CF2417",
           "#9191A2",
           "#73AED2",
           "#F9BE99",
           "#732DBB",
           "#E23A73",
           "#93374A",
           "#0152DD",
           "#AEA81F",
           "#516A5E",
           "#F1F326",
           "#B55FB7",
           "#1B94CF",
           "#439450",
           "#59FA67",
           "#CBC937",
           "#4F0040",
           "#65693A",
           "#179C77",
           "#D72105",
           "#2C8B1E",
           "#F32259",
           "#5A457E",
           "#277730",
           "#77DAC8",
           "#C2927E",
           "#82E50E",
           "#0BED41",
           "#A2F98D",
           "#B429F8",
           "#E6E0BE",
           "#677931",
           "#A96093",
           "#C44B82",
           "#C4C723",
           "#65947A",
           "#2B197A",
           "#E60F2B",
           "#D3DAD4",
           "#AE64AC",
           "#94A6B4",
           "#B111A4",
           "#8A6BB5",
           "#F60A58",
           "#0F802B",
           "#F77D4B",
           "#25CF3F",
           "#0E2695",
           "#45B763",
           "#EDB17D",
           "#76DAD5",
           "#4AA727",
           "#274850",
           "#815779",
           "#DB2E0F",
           "#03FC5F",
           "#306697",
           "#668383",
           "#966F12"
          ],
          "line": {
           "color": "rgb(8,48,107)",
           "width": 1.5
          }
         },
         "name": "Count",
         "opacity": 0.7,
         "orientation": "v",
         "text": [
          27,
          125,
          516,
          182,
          41
         ],
         "textfont": {
          "color": "rgb(0, 0, 0)",
          "size": 0
         },
         "textposition": "auto",
         "type": "bar",
         "x": [
          "Others",
          "Mrs",
          "Mr",
          "Miss",
          "Master"
         ],
         "xaxis": "x1",
         "y": [
          27,
          125,
          516,
          182,
          41
         ],
         "yaxis": "y1"
        },
        {
         "marker": {
          "color": [
           "#AE5B77",
           "#985E9A",
           "#9DB36D",
           "#E84E02",
           "#88F0FC",
           "#17D453",
           "#13A01C",
           "#EC49FE",
           "#7D11E8",
           "#73F67F",
           "#BB0CD6",
           "#73BDD7",
           "#67FB9E",
           "#BC79A7",
           "#9E8A45",
           "#3C4068",
           "#782500",
           "#5BCF26",
           "#0C65E0",
           "#E9FE58",
           "#EC15E3",
           "#071AF3",
           "#19E1E4",
           "#03F95B",
           "#8D5DB9",
           "#1FF68B",
           "#2115B8",
           "#B491C2",
           "#3518B2",
           "#62137C",
           "#714CBC",
           "#C8D8DB",
           "#6785F1",
           "#F66A9B",
           "#EF998F",
           "#096C7C",
           "#9668B9",
           "#E65FBA",
           "#7B340E",
           "#2525E9",
           "#C8BBA3",
           "#DB08D1",
           "#38EBD0",
           "#11F6E3",
           "#616960",
           "#D1EAEE",
           "#B81C9E",
           "#00F57C",
           "#2F1290",
           "#FF0BEC",
           "#E5C754",
           "#A50536",
           "#9A60BE",
           "#978D9B",
           "#77B0E1",
           "#618A65",
           "#95387A",
           "#635249",
           "#E54EC2",
           "#BE6A33",
           "#714F74",
           "#88011A",
           "#118FA8",
           "#D66D8A",
           "#E2B135",
           "#C6573C",
           "#4A6170",
           "#6657B9",
           "#65E3E2",
           "#1BE4A1",
           "#8BA7EE",
           "#1E239F",
           "#BAA285",
           "#55DEBB",
           "#E39D03",
           "#A1F7F8",
           "#575E98",
           "#F948DE",
           "#C3E0F0",
           "#6D8499",
           "#B54CF9",
           "#077A0E",
           "#CA56BF",
           "#B5F9C2",
           "#D11840",
           "#1A2EC5",
           "#FDA6D4",
           "#1AC379",
           "#3F0116",
           "#244C4E",
           "#C8777B",
           "#E1F380",
           "#8DF721",
           "#9680AF",
           "#2AF379",
           "#E5BCA4",
           "#75B99B",
           "#2DBB1A",
           "#F096DA",
           "#F7EEC2"
          ],
          "line": {
           "color": "rgb(8,48,107)",
           "width": 1.5
          }
         },
         "name": "Percent",
         "opacity": 0.7,
         "orientation": "v",
         "text": [
          [
           "Others",
           0.4444444444444444
          ],
          [
           "Mrs",
           0.792
          ],
          [
           "Mr",
           0.1569767441860465
          ],
          [
           "Miss",
           0.6978021978021978
          ],
          [
           "Master",
           0.5609756097560976
          ]
         ],
         "textfont": {
          "color": "rgb(0, 0, 0)",
          "size": 12
         },
         "textposition": "auto",
         "type": "bar",
         "x": [
          "Others",
          "Mrs",
          "Mr",
          "Miss",
          "Master"
         ],
         "xaxis": "x2",
         "y": [
          0.4444444444444444,
          0.792,
          0.1569767441860465,
          0.6978021978021978,
          0.5609756097560976
         ],
         "yaxis": "y2"
        }
       ],
       "layout": {
        "annotations": [
         {
          "font": {
           "size": 16
          },
          "showarrow": false,
          "text": "Count",
          "x": 0.225,
          "xanchor": "center",
          "xref": "paper",
          "y": 1,
          "yanchor": "bottom",
          "yref": "paper"
         },
         {
          "font": {
           "size": 16
          },
          "showarrow": false,
          "text": "Percent",
          "x": 0.775,
          "xanchor": "center",
          "xref": "paper",
          "y": 1,
          "yanchor": "bottom",
          "yref": "paper"
         }
        ],
        "height": 400,
        "margin": {
         "l": 100
        },
        "showlegend": false,
        "title": "Title",
        "width": 800,
        "xaxis1": {
         "anchor": "y1",
         "domain": [
          0,
          0.45
         ]
        },
        "xaxis2": {
         "anchor": "y2",
         "domain": [
          0.55,
          1
         ]
        },
        "yaxis1": {
         "anchor": "x1",
         "domain": [
          0,
          1
         ],
         "title": "Count"
        },
        "yaxis2": {
         "anchor": "x2",
         "domain": [
          0,
          1
         ],
         "range": [
          0,
          1
         ],
         "title": "% Survived"
        }
       }
      },
      "text/html": [
       "<div id=\"c4469576-1fbb-4ae7-9281-b76c723dff65\" style=\"height: 400px; width: 800px;\" class=\"plotly-graph-div\"></div><script type=\"text/javascript\">require([\"plotly\"], function(Plotly) { window.PLOTLYENV=window.PLOTLYENV || {};window.PLOTLYENV.BASE_URL=\"https://plot.ly\";Plotly.newPlot(\"c4469576-1fbb-4ae7-9281-b76c723dff65\", [{\"type\": \"bar\", \"x\": [\"Others\", \"Mrs\", \"Mr\", \"Miss\", \"Master\"], \"y\": [27, 125, 516, 182, 41], \"text\": [27, 125, 516, 182, 41], \"textposition\": \"auto\", \"textfont\": {\"size\": 0, \"color\": \"rgb(0, 0, 0)\"}, \"name\": \"Count\", \"orientation\": \"v\", \"marker\": {\"color\": [\"#6EA753\", \"#619AD7\", \"#7A90A4\", \"#EC6850\", \"#A585FF\", \"#F10244\", \"#CE1552\", \"#3CCD25\", \"#AF58A8\", \"#C39060\", \"#D025CD\", \"#971584\", \"#3A0CD4\", \"#5FF2C6\", \"#ED3E5B\", \"#2AB437\", \"#8723A9\", \"#E5C693\", \"#CFF66F\", \"#ABE8F4\", \"#39B8B6\", \"#341C0E\", \"#3AE845\", \"#8B1790\", \"#8F9557\", \"#45D3DF\", \"#284965\", \"#56FF59\", \"#807C30\", \"#6A866C\", \"#D1682B\", \"#A33B05\", \"#4E0BEE\", \"#3B2B32\", \"#602F31\", \"#191459\", \"#17746C\", \"#30B5F5\", \"#A8609F\", \"#5887E1\", \"#40C088\", \"#CF2417\", \"#9191A2\", \"#73AED2\", \"#F9BE99\", \"#732DBB\", \"#E23A73\", \"#93374A\", \"#0152DD\", \"#AEA81F\", \"#516A5E\", \"#F1F326\", \"#B55FB7\", \"#1B94CF\", \"#439450\", \"#59FA67\", \"#CBC937\", \"#4F0040\", \"#65693A\", \"#179C77\", \"#D72105\", \"#2C8B1E\", \"#F32259\", \"#5A457E\", \"#277730\", \"#77DAC8\", \"#C2927E\", \"#82E50E\", \"#0BED41\", \"#A2F98D\", \"#B429F8\", \"#E6E0BE\", \"#677931\", \"#A96093\", \"#C44B82\", \"#C4C723\", \"#65947A\", \"#2B197A\", \"#E60F2B\", \"#D3DAD4\", \"#AE64AC\", \"#94A6B4\", \"#B111A4\", \"#8A6BB5\", \"#F60A58\", \"#0F802B\", \"#F77D4B\", \"#25CF3F\", \"#0E2695\", \"#45B763\", \"#EDB17D\", \"#76DAD5\", \"#4AA727\", \"#274850\", \"#815779\", \"#DB2E0F\", \"#03FC5F\", \"#306697\", \"#668383\", \"#966F12\"], \"line\": {\"color\": \"rgb(8,48,107)\", \"width\": 1.5}}, \"opacity\": 0.7, \"xaxis\": \"x1\", \"yaxis\": \"y1\"}, {\"type\": \"bar\", \"x\": [\"Others\", \"Mrs\", \"Mr\", \"Miss\", \"Master\"], \"y\": [0.4444444444444444, 0.792, 0.1569767441860465, 0.6978021978021978, 0.5609756097560976], \"text\": [[\"Others\", 0.4444444444444444], [\"Mrs\", 0.792], [\"Mr\", 0.1569767441860465], [\"Miss\", 0.6978021978021978], [\"Master\", 0.5609756097560976]], \"textposition\": \"auto\", \"name\": \"Percent\", \"textfont\": {\"size\": 12, \"color\": \"rgb(0, 0, 0)\"}, \"orientation\": \"v\", \"marker\": {\"color\": [\"#AE5B77\", \"#985E9A\", \"#9DB36D\", \"#E84E02\", \"#88F0FC\", \"#17D453\", \"#13A01C\", \"#EC49FE\", \"#7D11E8\", \"#73F67F\", \"#BB0CD6\", \"#73BDD7\", \"#67FB9E\", \"#BC79A7\", \"#9E8A45\", \"#3C4068\", \"#782500\", \"#5BCF26\", \"#0C65E0\", \"#E9FE58\", \"#EC15E3\", \"#071AF3\", \"#19E1E4\", \"#03F95B\", \"#8D5DB9\", \"#1FF68B\", \"#2115B8\", \"#B491C2\", \"#3518B2\", \"#62137C\", \"#714CBC\", \"#C8D8DB\", \"#6785F1\", \"#F66A9B\", \"#EF998F\", \"#096C7C\", \"#9668B9\", \"#E65FBA\", \"#7B340E\", \"#2525E9\", \"#C8BBA3\", \"#DB08D1\", \"#38EBD0\", \"#11F6E3\", \"#616960\", \"#D1EAEE\", \"#B81C9E\", \"#00F57C\", \"#2F1290\", \"#FF0BEC\", \"#E5C754\", \"#A50536\", \"#9A60BE\", \"#978D9B\", \"#77B0E1\", \"#618A65\", \"#95387A\", \"#635249\", \"#E54EC2\", \"#BE6A33\", \"#714F74\", \"#88011A\", \"#118FA8\", \"#D66D8A\", \"#E2B135\", \"#C6573C\", \"#4A6170\", \"#6657B9\", \"#65E3E2\", \"#1BE4A1\", \"#8BA7EE\", \"#1E239F\", \"#BAA285\", \"#55DEBB\", \"#E39D03\", \"#A1F7F8\", \"#575E98\", \"#F948DE\", \"#C3E0F0\", \"#6D8499\", \"#B54CF9\", \"#077A0E\", \"#CA56BF\", \"#B5F9C2\", \"#D11840\", \"#1A2EC5\", \"#FDA6D4\", \"#1AC379\", \"#3F0116\", \"#244C4E\", \"#C8777B\", \"#E1F380\", \"#8DF721\", \"#9680AF\", \"#2AF379\", \"#E5BCA4\", \"#75B99B\", \"#2DBB1A\", \"#F096DA\", \"#F7EEC2\"], \"line\": {\"color\": \"rgb(8,48,107)\", \"width\": 1.5}}, \"opacity\": 0.7, \"xaxis\": \"x2\", \"yaxis\": \"y2\"}], {\"xaxis1\": {\"domain\": [0.0, 0.45], \"anchor\": \"y1\"}, \"yaxis1\": {\"domain\": [0.0, 1.0], \"anchor\": \"x1\", \"title\": \"Count\"}, \"xaxis2\": {\"domain\": [0.55, 1.0], \"anchor\": \"y2\"}, \"yaxis2\": {\"domain\": [0.0, 1.0], \"anchor\": \"x2\", \"range\": [0, 1], \"title\": \"% Survived\"}, \"annotations\": [{\"y\": 1.0, \"xref\": \"paper\", \"x\": 0.225, \"yref\": \"paper\", \"text\": \"Count\", \"showarrow\": false, \"font\": {\"size\": 16}, \"xanchor\": \"center\", \"yanchor\": \"bottom\"}, {\"y\": 1.0, \"xref\": \"paper\", \"x\": 0.775, \"yref\": \"paper\", \"text\": \"Percent\", \"showarrow\": false, \"font\": {\"size\": 16}, \"xanchor\": \"center\", \"yanchor\": \"bottom\"}], \"title\": \"Title\", \"margin\": {\"l\": 100}, \"width\": 800, \"height\": 400, \"showlegend\": false}, {\"showLink\": true, \"linkText\": \"Export to plot.ly\"})});</script>"
      ],
      "text/vnd.plotly.v1+html": [
       "<div id=\"c4469576-1fbb-4ae7-9281-b76c723dff65\" style=\"height: 400px; width: 800px;\" class=\"plotly-graph-div\"></div><script type=\"text/javascript\">require([\"plotly\"], function(Plotly) { window.PLOTLYENV=window.PLOTLYENV || {};window.PLOTLYENV.BASE_URL=\"https://plot.ly\";Plotly.newPlot(\"c4469576-1fbb-4ae7-9281-b76c723dff65\", [{\"type\": \"bar\", \"x\": [\"Others\", \"Mrs\", \"Mr\", \"Miss\", \"Master\"], \"y\": [27, 125, 516, 182, 41], \"text\": [27, 125, 516, 182, 41], \"textposition\": \"auto\", \"textfont\": {\"size\": 0, \"color\": \"rgb(0, 0, 0)\"}, \"name\": \"Count\", \"orientation\": \"v\", \"marker\": {\"color\": [\"#6EA753\", \"#619AD7\", \"#7A90A4\", \"#EC6850\", \"#A585FF\", \"#F10244\", \"#CE1552\", \"#3CCD25\", \"#AF58A8\", \"#C39060\", \"#D025CD\", \"#971584\", \"#3A0CD4\", \"#5FF2C6\", \"#ED3E5B\", \"#2AB437\", \"#8723A9\", \"#E5C693\", \"#CFF66F\", \"#ABE8F4\", \"#39B8B6\", \"#341C0E\", \"#3AE845\", \"#8B1790\", \"#8F9557\", \"#45D3DF\", \"#284965\", \"#56FF59\", \"#807C30\", \"#6A866C\", \"#D1682B\", \"#A33B05\", \"#4E0BEE\", \"#3B2B32\", \"#602F31\", \"#191459\", \"#17746C\", \"#30B5F5\", \"#A8609F\", \"#5887E1\", \"#40C088\", \"#CF2417\", \"#9191A2\", \"#73AED2\", \"#F9BE99\", \"#732DBB\", \"#E23A73\", \"#93374A\", \"#0152DD\", \"#AEA81F\", \"#516A5E\", \"#F1F326\", \"#B55FB7\", \"#1B94CF\", \"#439450\", \"#59FA67\", \"#CBC937\", \"#4F0040\", \"#65693A\", \"#179C77\", \"#D72105\", \"#2C8B1E\", \"#F32259\", \"#5A457E\", \"#277730\", \"#77DAC8\", \"#C2927E\", \"#82E50E\", \"#0BED41\", \"#A2F98D\", \"#B429F8\", \"#E6E0BE\", \"#677931\", \"#A96093\", \"#C44B82\", \"#C4C723\", \"#65947A\", \"#2B197A\", \"#E60F2B\", \"#D3DAD4\", \"#AE64AC\", \"#94A6B4\", \"#B111A4\", \"#8A6BB5\", \"#F60A58\", \"#0F802B\", \"#F77D4B\", \"#25CF3F\", \"#0E2695\", \"#45B763\", \"#EDB17D\", \"#76DAD5\", \"#4AA727\", \"#274850\", \"#815779\", \"#DB2E0F\", \"#03FC5F\", \"#306697\", \"#668383\", \"#966F12\"], \"line\": {\"color\": \"rgb(8,48,107)\", \"width\": 1.5}}, \"opacity\": 0.7, \"xaxis\": \"x1\", \"yaxis\": \"y1\"}, {\"type\": \"bar\", \"x\": [\"Others\", \"Mrs\", \"Mr\", \"Miss\", \"Master\"], \"y\": [0.4444444444444444, 0.792, 0.1569767441860465, 0.6978021978021978, 0.5609756097560976], \"text\": [[\"Others\", 0.4444444444444444], [\"Mrs\", 0.792], [\"Mr\", 0.1569767441860465], [\"Miss\", 0.6978021978021978], [\"Master\", 0.5609756097560976]], \"textposition\": \"auto\", \"name\": \"Percent\", \"textfont\": {\"size\": 12, \"color\": \"rgb(0, 0, 0)\"}, \"orientation\": \"v\", \"marker\": {\"color\": [\"#AE5B77\", \"#985E9A\", \"#9DB36D\", \"#E84E02\", \"#88F0FC\", \"#17D453\", \"#13A01C\", \"#EC49FE\", \"#7D11E8\", \"#73F67F\", \"#BB0CD6\", \"#73BDD7\", \"#67FB9E\", \"#BC79A7\", \"#9E8A45\", \"#3C4068\", \"#782500\", \"#5BCF26\", \"#0C65E0\", \"#E9FE58\", \"#EC15E3\", \"#071AF3\", \"#19E1E4\", \"#03F95B\", \"#8D5DB9\", \"#1FF68B\", \"#2115B8\", \"#B491C2\", \"#3518B2\", \"#62137C\", \"#714CBC\", \"#C8D8DB\", \"#6785F1\", \"#F66A9B\", \"#EF998F\", \"#096C7C\", \"#9668B9\", \"#E65FBA\", \"#7B340E\", \"#2525E9\", \"#C8BBA3\", \"#DB08D1\", \"#38EBD0\", \"#11F6E3\", \"#616960\", \"#D1EAEE\", \"#B81C9E\", \"#00F57C\", \"#2F1290\", \"#FF0BEC\", \"#E5C754\", \"#A50536\", \"#9A60BE\", \"#978D9B\", \"#77B0E1\", \"#618A65\", \"#95387A\", \"#635249\", \"#E54EC2\", \"#BE6A33\", \"#714F74\", \"#88011A\", \"#118FA8\", \"#D66D8A\", \"#E2B135\", \"#C6573C\", \"#4A6170\", \"#6657B9\", \"#65E3E2\", \"#1BE4A1\", \"#8BA7EE\", \"#1E239F\", \"#BAA285\", \"#55DEBB\", \"#E39D03\", \"#A1F7F8\", \"#575E98\", \"#F948DE\", \"#C3E0F0\", \"#6D8499\", \"#B54CF9\", \"#077A0E\", \"#CA56BF\", \"#B5F9C2\", \"#D11840\", \"#1A2EC5\", \"#FDA6D4\", \"#1AC379\", \"#3F0116\", \"#244C4E\", \"#C8777B\", \"#E1F380\", \"#8DF721\", \"#9680AF\", \"#2AF379\", \"#E5BCA4\", \"#75B99B\", \"#2DBB1A\", \"#F096DA\", \"#F7EEC2\"], \"line\": {\"color\": \"rgb(8,48,107)\", \"width\": 1.5}}, \"opacity\": 0.7, \"xaxis\": \"x2\", \"yaxis\": \"y2\"}], {\"xaxis1\": {\"domain\": [0.0, 0.45], \"anchor\": \"y1\"}, \"yaxis1\": {\"domain\": [0.0, 1.0], \"anchor\": \"x1\", \"title\": \"Count\"}, \"xaxis2\": {\"domain\": [0.55, 1.0], \"anchor\": \"y2\"}, \"yaxis2\": {\"domain\": [0.0, 1.0], \"anchor\": \"x2\", \"range\": [0, 1], \"title\": \"% Survived\"}, \"annotations\": [{\"y\": 1.0, \"xref\": \"paper\", \"x\": 0.225, \"yref\": \"paper\", \"text\": \"Count\", \"showarrow\": false, \"font\": {\"size\": 16}, \"xanchor\": \"center\", \"yanchor\": \"bottom\"}, {\"y\": 1.0, \"xref\": \"paper\", \"x\": 0.775, \"yref\": \"paper\", \"text\": \"Percent\", \"showarrow\": false, \"font\": {\"size\": 16}, \"xanchor\": \"center\", \"yanchor\": \"bottom\"}], \"title\": \"Title\", \"margin\": {\"l\": 100}, \"width\": 800, \"height\": 400, \"showlegend\": false}, {\"showLink\": true, \"linkText\": \"Export to plot.ly\"})});</script>"
      ]
     },
     "metadata": {},
     "output_type": "display_data"
    }
   ],
   "source": [
    "# observe the distribution of title\n",
    "temp_col = train_df.columns.values[12]\n",
    "plot_count_percent_for_object(train_df, temp_col)"
   ]
  },
  {
   "cell_type": "markdown",
   "metadata": {},
   "source": [
    "From this information, we can observe that Age (Mr vs Master), Family/relationship status (Mrs vs Miss), Gender/Sex (Mr vs Mrs) variables play reasonable role in the survival of the passenger."
   ]
  },
  {
   "cell_type": "code",
   "execution_count": 18,
   "metadata": {},
   "outputs": [
    {
     "data": {
      "application/vnd.plotly.v1+json": {
       "data": [
        {
         "marker": {
          "color": [
           "#ABD397",
           "#058B18",
           "#18DC4B",
           "#F8B3D2",
           "#570B34",
           "#1689B6",
           "#EA2829",
           "#BC013A",
           "#9A0206",
           "#C18B41",
           "#8A950E",
           "#3A38A8",
           "#6B781D",
           "#B86366",
           "#A602EC",
           "#FCF534",
           "#7C9E46",
           "#82DBF6",
           "#9B644D",
           "#ACD916",
           "#A2A65B",
           "#5C0D54",
           "#DC1678",
           "#04F6B1",
           "#EAD3CC",
           "#42AA36",
           "#0A9539",
           "#464CF2",
           "#146D3D",
           "#CD5CFD",
           "#ECDD65",
           "#7FFC65",
           "#FBE1D3",
           "#B641E9",
           "#2E75AC",
           "#5C8F11",
           "#1D53FE",
           "#45BE1E",
           "#910925",
           "#81AC94",
           "#9CFD6C",
           "#A2AC7E",
           "#FCA330",
           "#9B4546",
           "#0BB18D",
           "#B964C4",
           "#2195BC",
           "#73FC1C",
           "#30EB40",
           "#8130CA",
           "#B1353B",
           "#C9916B",
           "#6E640E",
           "#78B0DB",
           "#53522E",
           "#248AA9",
           "#13F024",
           "#108E82",
           "#88B0F4",
           "#CA5C0E",
           "#78385B",
           "#133CE8",
           "#48FEF7",
           "#A43468",
           "#A0962D",
           "#DBC5EE",
           "#74612A",
           "#9CDE07",
           "#345546",
           "#180509",
           "#7938A4",
           "#E1E7EF",
           "#B0CF81",
           "#589E20",
           "#7DA9EA",
           "#8F5979",
           "#23C5C9",
           "#0DD654",
           "#80F645",
           "#8691EB",
           "#DD284B",
           "#5289A1",
           "#16591C",
           "#758437",
           "#031189",
           "#C4E284",
           "#DD10C5",
           "#9541CE",
           "#650A92",
           "#830210",
           "#3C12A6",
           "#CDEB74",
           "#7F6B18",
           "#2E0E8B",
           "#7C29BC",
           "#D5281E",
           "#445B13",
           "#6079EF",
           "#8B374F",
           "#961805"
          ],
          "line": {
           "color": "rgb(8,48,107)",
           "width": 1.5
          }
         },
         "name": "Count",
         "opacity": 0.7,
         "orientation": "v",
         "text": [
          577,
          314
         ],
         "textfont": {
          "color": "rgb(0, 0, 0)",
          "size": 0
         },
         "textposition": "auto",
         "type": "bar",
         "x": [
          "male",
          "female"
         ],
         "xaxis": "x1",
         "y": [
          577,
          314
         ],
         "yaxis": "y1"
        },
        {
         "marker": {
          "color": [
           "#0FDC28",
           "#4396F5",
           "#634A7A",
           "#B4F189",
           "#92CAD0",
           "#3873EA",
           "#813526",
           "#FD583E",
           "#FA766F",
           "#A4F6A4",
           "#95E4FF",
           "#638AD3",
           "#02DF93",
           "#EC5C43",
           "#F8C011",
           "#9CE5F9",
           "#2FC516",
           "#7CD83C",
           "#DFAD82",
           "#A30256",
           "#E1602F",
           "#F78C15",
           "#91D0E8",
           "#3F0E14",
           "#B129EF",
           "#D7F944",
           "#B68F24",
           "#91C6F4",
           "#2AD326",
           "#6839FD",
           "#3D00EE",
           "#313E59",
           "#235363",
           "#86F804",
           "#B7F737",
           "#A45026",
           "#22FA94",
           "#37649F",
           "#1C9DC3",
           "#D72B9A",
           "#254673",
           "#2E6650",
           "#9DD052",
           "#BBE56C",
           "#780FEB",
           "#F92532",
           "#9AD41A",
           "#3352D8",
           "#774A92",
           "#85D6E3",
           "#A5B1D3",
           "#0884EC",
           "#CD9916",
           "#07CFCF",
           "#4C6D8D",
           "#54376D",
           "#79FD7D",
           "#493375",
           "#0AD8F6",
           "#2C4B0A",
           "#237DF3",
           "#A154FE",
           "#739168",
           "#5D6B79",
           "#900956",
           "#E08952",
           "#BA778C",
           "#0B7CEA",
           "#855002",
           "#40CED7",
           "#CEE6B9",
           "#05B9E3",
           "#893BFE",
           "#813A01",
           "#CA0DE4",
           "#B88F03",
           "#F85FA4",
           "#C51C7A",
           "#A41E25",
           "#EDF0D4",
           "#972D8D",
           "#490E0F",
           "#44D0D1",
           "#22019F",
           "#FC2E6E",
           "#4192F1",
           "#F7D53E",
           "#BB0E90",
           "#BF53B9",
           "#E8EE71",
           "#56B16E",
           "#339E26",
           "#88B80A",
           "#99DF41",
           "#A68030",
           "#790B28",
           "#31BA91",
           "#C45926",
           "#278CF0",
           "#39099C"
          ],
          "line": {
           "color": "rgb(8,48,107)",
           "width": 1.5
          }
         },
         "name": "Percent",
         "opacity": 0.7,
         "orientation": "v",
         "text": [
          [
           "male",
           0.18890814558058924
          ],
          [
           "female",
           0.7420382165605095
          ]
         ],
         "textfont": {
          "color": "rgb(0, 0, 0)",
          "size": 12
         },
         "textposition": "auto",
         "type": "bar",
         "x": [
          "male",
          "female"
         ],
         "xaxis": "x2",
         "y": [
          0.18890814558058924,
          0.7420382165605095
         ],
         "yaxis": "y2"
        }
       ],
       "layout": {
        "annotations": [
         {
          "font": {
           "size": 16
          },
          "showarrow": false,
          "text": "Count",
          "x": 0.225,
          "xanchor": "center",
          "xref": "paper",
          "y": 1,
          "yanchor": "bottom",
          "yref": "paper"
         },
         {
          "font": {
           "size": 16
          },
          "showarrow": false,
          "text": "Percent",
          "x": 0.775,
          "xanchor": "center",
          "xref": "paper",
          "y": 1,
          "yanchor": "bottom",
          "yref": "paper"
         }
        ],
        "height": 400,
        "margin": {
         "l": 100
        },
        "showlegend": false,
        "title": "Sex",
        "width": 800,
        "xaxis1": {
         "anchor": "y1",
         "domain": [
          0,
          0.45
         ]
        },
        "xaxis2": {
         "anchor": "y2",
         "domain": [
          0.55,
          1
         ]
        },
        "yaxis1": {
         "anchor": "x1",
         "domain": [
          0,
          1
         ],
         "title": "Count"
        },
        "yaxis2": {
         "anchor": "x2",
         "domain": [
          0,
          1
         ],
         "range": [
          0,
          1
         ],
         "title": "% Survived"
        }
       }
      },
      "text/html": [
       "<div id=\"c1e42d47-ed56-4f48-adc6-dd7b36f921fd\" style=\"height: 400px; width: 800px;\" class=\"plotly-graph-div\"></div><script type=\"text/javascript\">require([\"plotly\"], function(Plotly) { window.PLOTLYENV=window.PLOTLYENV || {};window.PLOTLYENV.BASE_URL=\"https://plot.ly\";Plotly.newPlot(\"c1e42d47-ed56-4f48-adc6-dd7b36f921fd\", [{\"type\": \"bar\", \"x\": [\"male\", \"female\"], \"y\": [577, 314], \"text\": [577, 314], \"textposition\": \"auto\", \"textfont\": {\"size\": 0, \"color\": \"rgb(0, 0, 0)\"}, \"name\": \"Count\", \"orientation\": \"v\", \"marker\": {\"color\": [\"#ABD397\", \"#058B18\", \"#18DC4B\", \"#F8B3D2\", \"#570B34\", \"#1689B6\", \"#EA2829\", \"#BC013A\", \"#9A0206\", \"#C18B41\", \"#8A950E\", \"#3A38A8\", \"#6B781D\", \"#B86366\", \"#A602EC\", \"#FCF534\", \"#7C9E46\", \"#82DBF6\", \"#9B644D\", \"#ACD916\", \"#A2A65B\", \"#5C0D54\", \"#DC1678\", \"#04F6B1\", \"#EAD3CC\", \"#42AA36\", \"#0A9539\", \"#464CF2\", \"#146D3D\", \"#CD5CFD\", \"#ECDD65\", \"#7FFC65\", \"#FBE1D3\", \"#B641E9\", \"#2E75AC\", \"#5C8F11\", \"#1D53FE\", \"#45BE1E\", \"#910925\", \"#81AC94\", \"#9CFD6C\", \"#A2AC7E\", \"#FCA330\", \"#9B4546\", \"#0BB18D\", \"#B964C4\", \"#2195BC\", \"#73FC1C\", \"#30EB40\", \"#8130CA\", \"#B1353B\", \"#C9916B\", \"#6E640E\", \"#78B0DB\", \"#53522E\", \"#248AA9\", \"#13F024\", \"#108E82\", \"#88B0F4\", \"#CA5C0E\", \"#78385B\", \"#133CE8\", \"#48FEF7\", \"#A43468\", \"#A0962D\", \"#DBC5EE\", \"#74612A\", \"#9CDE07\", \"#345546\", \"#180509\", \"#7938A4\", \"#E1E7EF\", \"#B0CF81\", \"#589E20\", \"#7DA9EA\", \"#8F5979\", \"#23C5C9\", \"#0DD654\", \"#80F645\", \"#8691EB\", \"#DD284B\", \"#5289A1\", \"#16591C\", \"#758437\", \"#031189\", \"#C4E284\", \"#DD10C5\", \"#9541CE\", \"#650A92\", \"#830210\", \"#3C12A6\", \"#CDEB74\", \"#7F6B18\", \"#2E0E8B\", \"#7C29BC\", \"#D5281E\", \"#445B13\", \"#6079EF\", \"#8B374F\", \"#961805\"], \"line\": {\"color\": \"rgb(8,48,107)\", \"width\": 1.5}}, \"opacity\": 0.7, \"xaxis\": \"x1\", \"yaxis\": \"y1\"}, {\"type\": \"bar\", \"x\": [\"male\", \"female\"], \"y\": [0.18890814558058924, 0.7420382165605095], \"text\": [[\"male\", 0.18890814558058924], [\"female\", 0.7420382165605095]], \"textposition\": \"auto\", \"name\": \"Percent\", \"textfont\": {\"size\": 12, \"color\": \"rgb(0, 0, 0)\"}, \"orientation\": \"v\", \"marker\": {\"color\": [\"#0FDC28\", \"#4396F5\", \"#634A7A\", \"#B4F189\", \"#92CAD0\", \"#3873EA\", \"#813526\", \"#FD583E\", \"#FA766F\", \"#A4F6A4\", \"#95E4FF\", \"#638AD3\", \"#02DF93\", \"#EC5C43\", \"#F8C011\", \"#9CE5F9\", \"#2FC516\", \"#7CD83C\", \"#DFAD82\", \"#A30256\", \"#E1602F\", \"#F78C15\", \"#91D0E8\", \"#3F0E14\", \"#B129EF\", \"#D7F944\", \"#B68F24\", \"#91C6F4\", \"#2AD326\", \"#6839FD\", \"#3D00EE\", \"#313E59\", \"#235363\", \"#86F804\", \"#B7F737\", \"#A45026\", \"#22FA94\", \"#37649F\", \"#1C9DC3\", \"#D72B9A\", \"#254673\", \"#2E6650\", \"#9DD052\", \"#BBE56C\", \"#780FEB\", \"#F92532\", \"#9AD41A\", \"#3352D8\", \"#774A92\", \"#85D6E3\", \"#A5B1D3\", \"#0884EC\", \"#CD9916\", \"#07CFCF\", \"#4C6D8D\", \"#54376D\", \"#79FD7D\", \"#493375\", \"#0AD8F6\", \"#2C4B0A\", \"#237DF3\", \"#A154FE\", \"#739168\", \"#5D6B79\", \"#900956\", \"#E08952\", \"#BA778C\", \"#0B7CEA\", \"#855002\", \"#40CED7\", \"#CEE6B9\", \"#05B9E3\", \"#893BFE\", \"#813A01\", \"#CA0DE4\", \"#B88F03\", \"#F85FA4\", \"#C51C7A\", \"#A41E25\", \"#EDF0D4\", \"#972D8D\", \"#490E0F\", \"#44D0D1\", \"#22019F\", \"#FC2E6E\", \"#4192F1\", \"#F7D53E\", \"#BB0E90\", \"#BF53B9\", \"#E8EE71\", \"#56B16E\", \"#339E26\", \"#88B80A\", \"#99DF41\", \"#A68030\", \"#790B28\", \"#31BA91\", \"#C45926\", \"#278CF0\", \"#39099C\"], \"line\": {\"color\": \"rgb(8,48,107)\", \"width\": 1.5}}, \"opacity\": 0.7, \"xaxis\": \"x2\", \"yaxis\": \"y2\"}], {\"xaxis1\": {\"domain\": [0.0, 0.45], \"anchor\": \"y1\"}, \"yaxis1\": {\"domain\": [0.0, 1.0], \"anchor\": \"x1\", \"title\": \"Count\"}, \"xaxis2\": {\"domain\": [0.55, 1.0], \"anchor\": \"y2\"}, \"yaxis2\": {\"domain\": [0.0, 1.0], \"anchor\": \"x2\", \"range\": [0, 1], \"title\": \"% Survived\"}, \"annotations\": [{\"y\": 1.0, \"xref\": \"paper\", \"x\": 0.225, \"yref\": \"paper\", \"text\": \"Count\", \"showarrow\": false, \"font\": {\"size\": 16}, \"xanchor\": \"center\", \"yanchor\": \"bottom\"}, {\"y\": 1.0, \"xref\": \"paper\", \"x\": 0.775, \"yref\": \"paper\", \"text\": \"Percent\", \"showarrow\": false, \"font\": {\"size\": 16}, \"xanchor\": \"center\", \"yanchor\": \"bottom\"}], \"title\": \"Sex\", \"margin\": {\"l\": 100}, \"width\": 800, \"height\": 400, \"showlegend\": false}, {\"showLink\": true, \"linkText\": \"Export to plot.ly\"})});</script>"
      ],
      "text/vnd.plotly.v1+html": [
       "<div id=\"c1e42d47-ed56-4f48-adc6-dd7b36f921fd\" style=\"height: 400px; width: 800px;\" class=\"plotly-graph-div\"></div><script type=\"text/javascript\">require([\"plotly\"], function(Plotly) { window.PLOTLYENV=window.PLOTLYENV || {};window.PLOTLYENV.BASE_URL=\"https://plot.ly\";Plotly.newPlot(\"c1e42d47-ed56-4f48-adc6-dd7b36f921fd\", [{\"type\": \"bar\", \"x\": [\"male\", \"female\"], \"y\": [577, 314], \"text\": [577, 314], \"textposition\": \"auto\", \"textfont\": {\"size\": 0, \"color\": \"rgb(0, 0, 0)\"}, \"name\": \"Count\", \"orientation\": \"v\", \"marker\": {\"color\": [\"#ABD397\", \"#058B18\", \"#18DC4B\", \"#F8B3D2\", \"#570B34\", \"#1689B6\", \"#EA2829\", \"#BC013A\", \"#9A0206\", \"#C18B41\", \"#8A950E\", \"#3A38A8\", \"#6B781D\", \"#B86366\", \"#A602EC\", \"#FCF534\", \"#7C9E46\", \"#82DBF6\", \"#9B644D\", \"#ACD916\", \"#A2A65B\", \"#5C0D54\", \"#DC1678\", \"#04F6B1\", \"#EAD3CC\", \"#42AA36\", \"#0A9539\", \"#464CF2\", \"#146D3D\", \"#CD5CFD\", \"#ECDD65\", \"#7FFC65\", \"#FBE1D3\", \"#B641E9\", \"#2E75AC\", \"#5C8F11\", \"#1D53FE\", \"#45BE1E\", \"#910925\", \"#81AC94\", \"#9CFD6C\", \"#A2AC7E\", \"#FCA330\", \"#9B4546\", \"#0BB18D\", \"#B964C4\", \"#2195BC\", \"#73FC1C\", \"#30EB40\", \"#8130CA\", \"#B1353B\", \"#C9916B\", \"#6E640E\", \"#78B0DB\", \"#53522E\", \"#248AA9\", \"#13F024\", \"#108E82\", \"#88B0F4\", \"#CA5C0E\", \"#78385B\", \"#133CE8\", \"#48FEF7\", \"#A43468\", \"#A0962D\", \"#DBC5EE\", \"#74612A\", \"#9CDE07\", \"#345546\", \"#180509\", \"#7938A4\", \"#E1E7EF\", \"#B0CF81\", \"#589E20\", \"#7DA9EA\", \"#8F5979\", \"#23C5C9\", \"#0DD654\", \"#80F645\", \"#8691EB\", \"#DD284B\", \"#5289A1\", \"#16591C\", \"#758437\", \"#031189\", \"#C4E284\", \"#DD10C5\", \"#9541CE\", \"#650A92\", \"#830210\", \"#3C12A6\", \"#CDEB74\", \"#7F6B18\", \"#2E0E8B\", \"#7C29BC\", \"#D5281E\", \"#445B13\", \"#6079EF\", \"#8B374F\", \"#961805\"], \"line\": {\"color\": \"rgb(8,48,107)\", \"width\": 1.5}}, \"opacity\": 0.7, \"xaxis\": \"x1\", \"yaxis\": \"y1\"}, {\"type\": \"bar\", \"x\": [\"male\", \"female\"], \"y\": [0.18890814558058924, 0.7420382165605095], \"text\": [[\"male\", 0.18890814558058924], [\"female\", 0.7420382165605095]], \"textposition\": \"auto\", \"name\": \"Percent\", \"textfont\": {\"size\": 12, \"color\": \"rgb(0, 0, 0)\"}, \"orientation\": \"v\", \"marker\": {\"color\": [\"#0FDC28\", \"#4396F5\", \"#634A7A\", \"#B4F189\", \"#92CAD0\", \"#3873EA\", \"#813526\", \"#FD583E\", \"#FA766F\", \"#A4F6A4\", \"#95E4FF\", \"#638AD3\", \"#02DF93\", \"#EC5C43\", \"#F8C011\", \"#9CE5F9\", \"#2FC516\", \"#7CD83C\", \"#DFAD82\", \"#A30256\", \"#E1602F\", \"#F78C15\", \"#91D0E8\", \"#3F0E14\", \"#B129EF\", \"#D7F944\", \"#B68F24\", \"#91C6F4\", \"#2AD326\", \"#6839FD\", \"#3D00EE\", \"#313E59\", \"#235363\", \"#86F804\", \"#B7F737\", \"#A45026\", \"#22FA94\", \"#37649F\", \"#1C9DC3\", \"#D72B9A\", \"#254673\", \"#2E6650\", \"#9DD052\", \"#BBE56C\", \"#780FEB\", \"#F92532\", \"#9AD41A\", \"#3352D8\", \"#774A92\", \"#85D6E3\", \"#A5B1D3\", \"#0884EC\", \"#CD9916\", \"#07CFCF\", \"#4C6D8D\", \"#54376D\", \"#79FD7D\", \"#493375\", \"#0AD8F6\", \"#2C4B0A\", \"#237DF3\", \"#A154FE\", \"#739168\", \"#5D6B79\", \"#900956\", \"#E08952\", \"#BA778C\", \"#0B7CEA\", \"#855002\", \"#40CED7\", \"#CEE6B9\", \"#05B9E3\", \"#893BFE\", \"#813A01\", \"#CA0DE4\", \"#B88F03\", \"#F85FA4\", \"#C51C7A\", \"#A41E25\", \"#EDF0D4\", \"#972D8D\", \"#490E0F\", \"#44D0D1\", \"#22019F\", \"#FC2E6E\", \"#4192F1\", \"#F7D53E\", \"#BB0E90\", \"#BF53B9\", \"#E8EE71\", \"#56B16E\", \"#339E26\", \"#88B80A\", \"#99DF41\", \"#A68030\", \"#790B28\", \"#31BA91\", \"#C45926\", \"#278CF0\", \"#39099C\"], \"line\": {\"color\": \"rgb(8,48,107)\", \"width\": 1.5}}, \"opacity\": 0.7, \"xaxis\": \"x2\", \"yaxis\": \"y2\"}], {\"xaxis1\": {\"domain\": [0.0, 0.45], \"anchor\": \"y1\"}, \"yaxis1\": {\"domain\": [0.0, 1.0], \"anchor\": \"x1\", \"title\": \"Count\"}, \"xaxis2\": {\"domain\": [0.55, 1.0], \"anchor\": \"y2\"}, \"yaxis2\": {\"domain\": [0.0, 1.0], \"anchor\": \"x2\", \"range\": [0, 1], \"title\": \"% Survived\"}, \"annotations\": [{\"y\": 1.0, \"xref\": \"paper\", \"x\": 0.225, \"yref\": \"paper\", \"text\": \"Count\", \"showarrow\": false, \"font\": {\"size\": 16}, \"xanchor\": \"center\", \"yanchor\": \"bottom\"}, {\"y\": 1.0, \"xref\": \"paper\", \"x\": 0.775, \"yref\": \"paper\", \"text\": \"Percent\", \"showarrow\": false, \"font\": {\"size\": 16}, \"xanchor\": \"center\", \"yanchor\": \"bottom\"}], \"title\": \"Sex\", \"margin\": {\"l\": 100}, \"width\": 800, \"height\": 400, \"showlegend\": false}, {\"showLink\": true, \"linkText\": \"Export to plot.ly\"})});</script>"
      ]
     },
     "metadata": {},
     "output_type": "display_data"
    }
   ],
   "source": [
    "# observe the distribution of Sex\n",
    "temp_col = train_df.columns.values[4]\n",
    "plot_count_percent_for_object(train_df, temp_col)"
   ]
  },
  {
   "cell_type": "markdown",
   "metadata": {},
   "source": [
    "There are 2 features in our dataset- 'SibSp' gives the information about the sibling or spouse of the passenger onboard and 'Parch' gives information about the parents and children of the passenger onboard. But both these variables basically indicate the family information of passenger onboard. So we will combine these 2 variables into one variable 'family'.  "
   ]
  },
  {
   "cell_type": "code",
   "execution_count": 19,
   "metadata": {},
   "outputs": [],
   "source": [
    "# Making a new variable/feature 'family'\n",
    "train_df['family'] = train_df['SibSp'] + train_df['Parch'] + 1\n",
    "train_df.drop(['SibSp', 'Parch'], axis=1, inplace=True)\n",
    "\n",
    "test_df['family'] = test_df['SibSp'] + test_df['Parch'] + 1\n",
    "test_df.drop(['SibSp', 'Parch'], axis=1, inplace=True)"
   ]
  },
  {
   "cell_type": "code",
   "execution_count": 20,
   "metadata": {},
   "outputs": [
    {
     "data": {
      "application/vnd.plotly.v1+json": {
       "data": [
        {
         "marker": {
          "color": [
           "#956123",
           "#D66F05",
           "#93A69A",
           "#1B077C",
           "#2A0B0D",
           "#E515F1",
           "#152F45",
           "#190D91",
           "#801656",
           "#24FA82",
           "#DB3927",
           "#551CCA",
           "#686159",
           "#1F255D",
           "#A9C1F9",
           "#A14429",
           "#18C729",
           "#A3201A",
           "#CAA406",
           "#830D2A",
           "#32F559",
           "#576316",
           "#37BB62",
           "#CB3B9E",
           "#F9B7E5",
           "#540A1C",
           "#C66335",
           "#1B7A5F",
           "#D2DDF2",
           "#E220AB",
           "#E161D4",
           "#91D811",
           "#B552CF",
           "#3614C7",
           "#F45C53",
           "#663F20",
           "#EC0BC5",
           "#740D41",
           "#8B7630",
           "#482271",
           "#3CEA49",
           "#A21144",
           "#A29DB6",
           "#FEAF81",
           "#61E30E",
           "#47D249",
           "#518C23",
           "#C16EBB",
           "#351719",
           "#D391CC",
           "#7A3CF4",
           "#CAA035",
           "#D1E3F3",
           "#81BAA8",
           "#401A98",
           "#BCDDFB",
           "#DFE53F",
           "#6BC287",
           "#CEC770",
           "#F7BC94",
           "#382485",
           "#39ACBA",
           "#B6C692",
           "#FA0520",
           "#DB3CCB",
           "#C9EE29",
           "#CAB512",
           "#B7552B",
           "#490DB9",
           "#8FCF6B",
           "#BE7FDE",
           "#04EDF4",
           "#7E6EDC",
           "#77CDFA",
           "#9A11EA",
           "#2905E1",
           "#E29DA0",
           "#FEADF3",
           "#FBBFAD",
           "#EB4E48",
           "#FE79B5",
           "#4CB9CD",
           "#3E8665",
           "#4FD152",
           "#9E2A35",
           "#34D05A",
           "#756D45",
           "#BBE58F",
           "#E371E6",
           "#52CE34",
           "#9D055D",
           "#A00671",
           "#7C7715",
           "#5A2BD7",
           "#1646DA",
           "#86C757",
           "#15213F",
           "#2A0B43",
           "#817C0C",
           "#417329"
          ],
          "line": {
           "color": "rgb(8,48,107)",
           "width": 1.5
          }
         },
         "name": "Count",
         "opacity": 0.7,
         "orientation": "v",
         "text": [
          7,
          6,
          12,
          22,
          15,
          29,
          102,
          161,
          537
         ],
         "textfont": {
          "color": "rgb(0, 0, 0)",
          "size": 0
         },
         "textposition": "auto",
         "type": "bar",
         "x": [
          11,
          8,
          7,
          6,
          5,
          4,
          3,
          2,
          1
         ],
         "xaxis": "x1",
         "y": [
          7,
          6,
          12,
          22,
          15,
          29,
          102,
          161,
          537
         ],
         "yaxis": "y1"
        },
        {
         "marker": {
          "color": [
           "#37DF32",
           "#35FAD4",
           "#8584B3",
           "#A95319",
           "#67C820",
           "#B46310",
           "#4540DD",
           "#1F1DDD",
           "#8BD50D",
           "#07DFD9",
           "#EC4979",
           "#94F999",
           "#446E20",
           "#74A78C",
           "#F5470C",
           "#B075C7",
           "#B0D684",
           "#EB8BE3",
           "#7FEF30",
           "#7EFE11",
           "#7F4149",
           "#3028BB",
           "#F1F99A",
           "#A5BE0B",
           "#8F3B8B",
           "#A9CDAB",
           "#B34150",
           "#5B00AE",
           "#D5B75C",
           "#EAA54F",
           "#91E452",
           "#CCFEA2",
           "#2DB05A",
           "#E9AFE2",
           "#F183BC",
           "#F7B704",
           "#DA49E3",
           "#74219A",
           "#64BAF7",
           "#587433",
           "#8D236C",
           "#8F9D56",
           "#A5782A",
           "#6408CF",
           "#B989B3",
           "#B4D881",
           "#FE314C",
           "#2F9727",
           "#D50F1A",
           "#FE45B4",
           "#44157E",
           "#199923",
           "#91489C",
           "#D0AE51",
           "#356150",
           "#D95765",
           "#EAB572",
           "#EAFDBB",
           "#64F4B5",
           "#711E26",
           "#831DEA",
           "#D40E8D",
           "#7B6E53",
           "#32BE3E",
           "#DC2EC1",
           "#31B615",
           "#85BD95",
           "#5B28A2",
           "#4B56AE",
           "#C3E63C",
           "#A34FDB",
           "#E44ADF",
           "#0F8520",
           "#BFBB15",
           "#4F0CA5",
           "#223DDF",
           "#FD8B84",
           "#188378",
           "#93E898",
           "#5A4D5F",
           "#A82884",
           "#071F6D",
           "#412019",
           "#38B33C",
           "#2C01CC",
           "#46F80C",
           "#08FB9E",
           "#46BAFD",
           "#B7D561",
           "#97DCDA",
           "#B65A56",
           "#BCAF08",
           "#3DD496",
           "#7E2364",
           "#B81A10",
           "#9A57E4",
           "#5A93F9",
           "#D53689",
           "#839701",
           "#73F096"
          ],
          "line": {
           "color": "rgb(8,48,107)",
           "width": 1.5
          }
         },
         "name": "Percent",
         "opacity": 0.7,
         "orientation": "v",
         "text": [
          [
           11,
           0
          ],
          [
           8,
           0
          ],
          [
           7,
           0.3333333333333333
          ],
          [
           6,
           0.13636363636363635
          ],
          [
           5,
           0.2
          ],
          [
           4,
           0.7241379310344828
          ],
          [
           3,
           0.5784313725490197
          ],
          [
           2,
           0.5527950310559007
          ],
          [
           1,
           0.30353817504655495
          ]
         ],
         "textfont": {
          "color": "rgb(0, 0, 0)",
          "size": 12
         },
         "textposition": "auto",
         "type": "bar",
         "x": [
          11,
          8,
          7,
          6,
          5,
          4,
          3,
          2,
          1
         ],
         "xaxis": "x2",
         "y": [
          0,
          0,
          0.3333333333333333,
          0.13636363636363635,
          0.2,
          0.7241379310344828,
          0.5784313725490197,
          0.5527950310559007,
          0.30353817504655495
         ],
         "yaxis": "y2"
        }
       ],
       "layout": {
        "annotations": [
         {
          "font": {
           "size": 16
          },
          "showarrow": false,
          "text": "Count",
          "x": 0.225,
          "xanchor": "center",
          "xref": "paper",
          "y": 1,
          "yanchor": "bottom",
          "yref": "paper"
         },
         {
          "font": {
           "size": 16
          },
          "showarrow": false,
          "text": "Percent",
          "x": 0.775,
          "xanchor": "center",
          "xref": "paper",
          "y": 1,
          "yanchor": "bottom",
          "yref": "paper"
         }
        ],
        "height": 400,
        "margin": {
         "l": 100
        },
        "showlegend": false,
        "title": "family",
        "width": 800,
        "xaxis1": {
         "anchor": "y1",
         "domain": [
          0,
          0.45
         ]
        },
        "xaxis2": {
         "anchor": "y2",
         "domain": [
          0.55,
          1
         ]
        },
        "yaxis1": {
         "anchor": "x1",
         "domain": [
          0,
          1
         ],
         "title": "Count"
        },
        "yaxis2": {
         "anchor": "x2",
         "domain": [
          0,
          1
         ],
         "range": [
          0,
          1
         ],
         "title": "% Survived"
        }
       }
      },
      "text/html": [
       "<div id=\"ffe0621f-e310-458d-b0ca-49804e1758bb\" style=\"height: 400px; width: 800px;\" class=\"plotly-graph-div\"></div><script type=\"text/javascript\">require([\"plotly\"], function(Plotly) { window.PLOTLYENV=window.PLOTLYENV || {};window.PLOTLYENV.BASE_URL=\"https://plot.ly\";Plotly.newPlot(\"ffe0621f-e310-458d-b0ca-49804e1758bb\", [{\"type\": \"bar\", \"x\": [11, 8, 7, 6, 5, 4, 3, 2, 1], \"y\": [7, 6, 12, 22, 15, 29, 102, 161, 537], \"text\": [7, 6, 12, 22, 15, 29, 102, 161, 537], \"textposition\": \"auto\", \"textfont\": {\"size\": 0, \"color\": \"rgb(0, 0, 0)\"}, \"name\": \"Count\", \"orientation\": \"v\", \"marker\": {\"color\": [\"#956123\", \"#D66F05\", \"#93A69A\", \"#1B077C\", \"#2A0B0D\", \"#E515F1\", \"#152F45\", \"#190D91\", \"#801656\", \"#24FA82\", \"#DB3927\", \"#551CCA\", \"#686159\", \"#1F255D\", \"#A9C1F9\", \"#A14429\", \"#18C729\", \"#A3201A\", \"#CAA406\", \"#830D2A\", \"#32F559\", \"#576316\", \"#37BB62\", \"#CB3B9E\", \"#F9B7E5\", \"#540A1C\", \"#C66335\", \"#1B7A5F\", \"#D2DDF2\", \"#E220AB\", \"#E161D4\", \"#91D811\", \"#B552CF\", \"#3614C7\", \"#F45C53\", \"#663F20\", \"#EC0BC5\", \"#740D41\", \"#8B7630\", \"#482271\", \"#3CEA49\", \"#A21144\", \"#A29DB6\", \"#FEAF81\", \"#61E30E\", \"#47D249\", \"#518C23\", \"#C16EBB\", \"#351719\", \"#D391CC\", \"#7A3CF4\", \"#CAA035\", \"#D1E3F3\", \"#81BAA8\", \"#401A98\", \"#BCDDFB\", \"#DFE53F\", \"#6BC287\", \"#CEC770\", \"#F7BC94\", \"#382485\", \"#39ACBA\", \"#B6C692\", \"#FA0520\", \"#DB3CCB\", \"#C9EE29\", \"#CAB512\", \"#B7552B\", \"#490DB9\", \"#8FCF6B\", \"#BE7FDE\", \"#04EDF4\", \"#7E6EDC\", \"#77CDFA\", \"#9A11EA\", \"#2905E1\", \"#E29DA0\", \"#FEADF3\", \"#FBBFAD\", \"#EB4E48\", \"#FE79B5\", \"#4CB9CD\", \"#3E8665\", \"#4FD152\", \"#9E2A35\", \"#34D05A\", \"#756D45\", \"#BBE58F\", \"#E371E6\", \"#52CE34\", \"#9D055D\", \"#A00671\", \"#7C7715\", \"#5A2BD7\", \"#1646DA\", \"#86C757\", \"#15213F\", \"#2A0B43\", \"#817C0C\", \"#417329\"], \"line\": {\"color\": \"rgb(8,48,107)\", \"width\": 1.5}}, \"opacity\": 0.7, \"xaxis\": \"x1\", \"yaxis\": \"y1\"}, {\"type\": \"bar\", \"x\": [11, 8, 7, 6, 5, 4, 3, 2, 1], \"y\": [0.0, 0.0, 0.3333333333333333, 0.13636363636363635, 0.2, 0.7241379310344828, 0.5784313725490197, 0.5527950310559007, 0.30353817504655495], \"text\": [[11.0, 0.0], [8.0, 0.0], [7.0, 0.3333333333333333], [6.0, 0.13636363636363635], [5.0, 0.2], [4.0, 0.7241379310344828], [3.0, 0.5784313725490197], [2.0, 0.5527950310559007], [1.0, 0.30353817504655495]], \"textposition\": \"auto\", \"name\": \"Percent\", \"textfont\": {\"size\": 12, \"color\": \"rgb(0, 0, 0)\"}, \"orientation\": \"v\", \"marker\": {\"color\": [\"#37DF32\", \"#35FAD4\", \"#8584B3\", \"#A95319\", \"#67C820\", \"#B46310\", \"#4540DD\", \"#1F1DDD\", \"#8BD50D\", \"#07DFD9\", \"#EC4979\", \"#94F999\", \"#446E20\", \"#74A78C\", \"#F5470C\", \"#B075C7\", \"#B0D684\", \"#EB8BE3\", \"#7FEF30\", \"#7EFE11\", \"#7F4149\", \"#3028BB\", \"#F1F99A\", \"#A5BE0B\", \"#8F3B8B\", \"#A9CDAB\", \"#B34150\", \"#5B00AE\", \"#D5B75C\", \"#EAA54F\", \"#91E452\", \"#CCFEA2\", \"#2DB05A\", \"#E9AFE2\", \"#F183BC\", \"#F7B704\", \"#DA49E3\", \"#74219A\", \"#64BAF7\", \"#587433\", \"#8D236C\", \"#8F9D56\", \"#A5782A\", \"#6408CF\", \"#B989B3\", \"#B4D881\", \"#FE314C\", \"#2F9727\", \"#D50F1A\", \"#FE45B4\", \"#44157E\", \"#199923\", \"#91489C\", \"#D0AE51\", \"#356150\", \"#D95765\", \"#EAB572\", \"#EAFDBB\", \"#64F4B5\", \"#711E26\", \"#831DEA\", \"#D40E8D\", \"#7B6E53\", \"#32BE3E\", \"#DC2EC1\", \"#31B615\", \"#85BD95\", \"#5B28A2\", \"#4B56AE\", \"#C3E63C\", \"#A34FDB\", \"#E44ADF\", \"#0F8520\", \"#BFBB15\", \"#4F0CA5\", \"#223DDF\", \"#FD8B84\", \"#188378\", \"#93E898\", \"#5A4D5F\", \"#A82884\", \"#071F6D\", \"#412019\", \"#38B33C\", \"#2C01CC\", \"#46F80C\", \"#08FB9E\", \"#46BAFD\", \"#B7D561\", \"#97DCDA\", \"#B65A56\", \"#BCAF08\", \"#3DD496\", \"#7E2364\", \"#B81A10\", \"#9A57E4\", \"#5A93F9\", \"#D53689\", \"#839701\", \"#73F096\"], \"line\": {\"color\": \"rgb(8,48,107)\", \"width\": 1.5}}, \"opacity\": 0.7, \"xaxis\": \"x2\", \"yaxis\": \"y2\"}], {\"xaxis1\": {\"domain\": [0.0, 0.45], \"anchor\": \"y1\"}, \"yaxis1\": {\"domain\": [0.0, 1.0], \"anchor\": \"x1\", \"title\": \"Count\"}, \"xaxis2\": {\"domain\": [0.55, 1.0], \"anchor\": \"y2\"}, \"yaxis2\": {\"domain\": [0.0, 1.0], \"anchor\": \"x2\", \"range\": [0, 1], \"title\": \"% Survived\"}, \"annotations\": [{\"y\": 1.0, \"xref\": \"paper\", \"x\": 0.225, \"yref\": \"paper\", \"text\": \"Count\", \"showarrow\": false, \"font\": {\"size\": 16}, \"xanchor\": \"center\", \"yanchor\": \"bottom\"}, {\"y\": 1.0, \"xref\": \"paper\", \"x\": 0.775, \"yref\": \"paper\", \"text\": \"Percent\", \"showarrow\": false, \"font\": {\"size\": 16}, \"xanchor\": \"center\", \"yanchor\": \"bottom\"}], \"title\": \"family\", \"margin\": {\"l\": 100}, \"width\": 800, \"height\": 400, \"showlegend\": false}, {\"showLink\": true, \"linkText\": \"Export to plot.ly\"})});</script>"
      ],
      "text/vnd.plotly.v1+html": [
       "<div id=\"ffe0621f-e310-458d-b0ca-49804e1758bb\" style=\"height: 400px; width: 800px;\" class=\"plotly-graph-div\"></div><script type=\"text/javascript\">require([\"plotly\"], function(Plotly) { window.PLOTLYENV=window.PLOTLYENV || {};window.PLOTLYENV.BASE_URL=\"https://plot.ly\";Plotly.newPlot(\"ffe0621f-e310-458d-b0ca-49804e1758bb\", [{\"type\": \"bar\", \"x\": [11, 8, 7, 6, 5, 4, 3, 2, 1], \"y\": [7, 6, 12, 22, 15, 29, 102, 161, 537], \"text\": [7, 6, 12, 22, 15, 29, 102, 161, 537], \"textposition\": \"auto\", \"textfont\": {\"size\": 0, \"color\": \"rgb(0, 0, 0)\"}, \"name\": \"Count\", \"orientation\": \"v\", \"marker\": {\"color\": [\"#956123\", \"#D66F05\", \"#93A69A\", \"#1B077C\", \"#2A0B0D\", \"#E515F1\", \"#152F45\", \"#190D91\", \"#801656\", \"#24FA82\", \"#DB3927\", \"#551CCA\", \"#686159\", \"#1F255D\", \"#A9C1F9\", \"#A14429\", \"#18C729\", \"#A3201A\", \"#CAA406\", \"#830D2A\", \"#32F559\", \"#576316\", \"#37BB62\", \"#CB3B9E\", \"#F9B7E5\", \"#540A1C\", \"#C66335\", \"#1B7A5F\", \"#D2DDF2\", \"#E220AB\", \"#E161D4\", \"#91D811\", \"#B552CF\", \"#3614C7\", \"#F45C53\", \"#663F20\", \"#EC0BC5\", \"#740D41\", \"#8B7630\", \"#482271\", \"#3CEA49\", \"#A21144\", \"#A29DB6\", \"#FEAF81\", \"#61E30E\", \"#47D249\", \"#518C23\", \"#C16EBB\", \"#351719\", \"#D391CC\", \"#7A3CF4\", \"#CAA035\", \"#D1E3F3\", \"#81BAA8\", \"#401A98\", \"#BCDDFB\", \"#DFE53F\", \"#6BC287\", \"#CEC770\", \"#F7BC94\", \"#382485\", \"#39ACBA\", \"#B6C692\", \"#FA0520\", \"#DB3CCB\", \"#C9EE29\", \"#CAB512\", \"#B7552B\", \"#490DB9\", \"#8FCF6B\", \"#BE7FDE\", \"#04EDF4\", \"#7E6EDC\", \"#77CDFA\", \"#9A11EA\", \"#2905E1\", \"#E29DA0\", \"#FEADF3\", \"#FBBFAD\", \"#EB4E48\", \"#FE79B5\", \"#4CB9CD\", \"#3E8665\", \"#4FD152\", \"#9E2A35\", \"#34D05A\", \"#756D45\", \"#BBE58F\", \"#E371E6\", \"#52CE34\", \"#9D055D\", \"#A00671\", \"#7C7715\", \"#5A2BD7\", \"#1646DA\", \"#86C757\", \"#15213F\", \"#2A0B43\", \"#817C0C\", \"#417329\"], \"line\": {\"color\": \"rgb(8,48,107)\", \"width\": 1.5}}, \"opacity\": 0.7, \"xaxis\": \"x1\", \"yaxis\": \"y1\"}, {\"type\": \"bar\", \"x\": [11, 8, 7, 6, 5, 4, 3, 2, 1], \"y\": [0.0, 0.0, 0.3333333333333333, 0.13636363636363635, 0.2, 0.7241379310344828, 0.5784313725490197, 0.5527950310559007, 0.30353817504655495], \"text\": [[11.0, 0.0], [8.0, 0.0], [7.0, 0.3333333333333333], [6.0, 0.13636363636363635], [5.0, 0.2], [4.0, 0.7241379310344828], [3.0, 0.5784313725490197], [2.0, 0.5527950310559007], [1.0, 0.30353817504655495]], \"textposition\": \"auto\", \"name\": \"Percent\", \"textfont\": {\"size\": 12, \"color\": \"rgb(0, 0, 0)\"}, \"orientation\": \"v\", \"marker\": {\"color\": [\"#37DF32\", \"#35FAD4\", \"#8584B3\", \"#A95319\", \"#67C820\", \"#B46310\", \"#4540DD\", \"#1F1DDD\", \"#8BD50D\", \"#07DFD9\", \"#EC4979\", \"#94F999\", \"#446E20\", \"#74A78C\", \"#F5470C\", \"#B075C7\", \"#B0D684\", \"#EB8BE3\", \"#7FEF30\", \"#7EFE11\", \"#7F4149\", \"#3028BB\", \"#F1F99A\", \"#A5BE0B\", \"#8F3B8B\", \"#A9CDAB\", \"#B34150\", \"#5B00AE\", \"#D5B75C\", \"#EAA54F\", \"#91E452\", \"#CCFEA2\", \"#2DB05A\", \"#E9AFE2\", \"#F183BC\", \"#F7B704\", \"#DA49E3\", \"#74219A\", \"#64BAF7\", \"#587433\", \"#8D236C\", \"#8F9D56\", \"#A5782A\", \"#6408CF\", \"#B989B3\", \"#B4D881\", \"#FE314C\", \"#2F9727\", \"#D50F1A\", \"#FE45B4\", \"#44157E\", \"#199923\", \"#91489C\", \"#D0AE51\", \"#356150\", \"#D95765\", \"#EAB572\", \"#EAFDBB\", \"#64F4B5\", \"#711E26\", \"#831DEA\", \"#D40E8D\", \"#7B6E53\", \"#32BE3E\", \"#DC2EC1\", \"#31B615\", \"#85BD95\", \"#5B28A2\", \"#4B56AE\", \"#C3E63C\", \"#A34FDB\", \"#E44ADF\", \"#0F8520\", \"#BFBB15\", \"#4F0CA5\", \"#223DDF\", \"#FD8B84\", \"#188378\", \"#93E898\", \"#5A4D5F\", \"#A82884\", \"#071F6D\", \"#412019\", \"#38B33C\", \"#2C01CC\", \"#46F80C\", \"#08FB9E\", \"#46BAFD\", \"#B7D561\", \"#97DCDA\", \"#B65A56\", \"#BCAF08\", \"#3DD496\", \"#7E2364\", \"#B81A10\", \"#9A57E4\", \"#5A93F9\", \"#D53689\", \"#839701\", \"#73F096\"], \"line\": {\"color\": \"rgb(8,48,107)\", \"width\": 1.5}}, \"opacity\": 0.7, \"xaxis\": \"x2\", \"yaxis\": \"y2\"}], {\"xaxis1\": {\"domain\": [0.0, 0.45], \"anchor\": \"y1\"}, \"yaxis1\": {\"domain\": [0.0, 1.0], \"anchor\": \"x1\", \"title\": \"Count\"}, \"xaxis2\": {\"domain\": [0.55, 1.0], \"anchor\": \"y2\"}, \"yaxis2\": {\"domain\": [0.0, 1.0], \"anchor\": \"x2\", \"range\": [0, 1], \"title\": \"% Survived\"}, \"annotations\": [{\"y\": 1.0, \"xref\": \"paper\", \"x\": 0.225, \"yref\": \"paper\", \"text\": \"Count\", \"showarrow\": false, \"font\": {\"size\": 16}, \"xanchor\": \"center\", \"yanchor\": \"bottom\"}, {\"y\": 1.0, \"xref\": \"paper\", \"x\": 0.775, \"yref\": \"paper\", \"text\": \"Percent\", \"showarrow\": false, \"font\": {\"size\": 16}, \"xanchor\": \"center\", \"yanchor\": \"bottom\"}], \"title\": \"family\", \"margin\": {\"l\": 100}, \"width\": 800, \"height\": 400, \"showlegend\": false}, {\"showLink\": true, \"linkText\": \"Export to plot.ly\"})});</script>"
      ]
     },
     "metadata": {},
     "output_type": "display_data"
    }
   ],
   "source": [
    "# observe the distribution of family\n",
    "temp_col = train_df.columns.values[11]\n",
    "plot_count_percent_for_object(train_df, temp_col)"
   ]
  },
  {
   "cell_type": "markdown",
   "metadata": {},
   "source": [
    "From this information, we can see that there are many passengers who do not have any family member onboard. This directs us to make another variable called 'family_status' which will tell us whether the passenger was alone on the ship or with some family member (not alone).  "
   ]
  },
  {
   "cell_type": "code",
   "execution_count": 21,
   "metadata": {},
   "outputs": [],
   "source": [
    "# Making a new variable/feature 'family_status' from the variable 'family' \n",
    "train_df['family_status'] = train_df['family']\n",
    "test_df['family_status'] = test_df['family']\n",
    "dict2 = {1:'Alone', 2:'NotAlone', 3:'NotAlone', 4:'NotAlone', 5:'NotAlone', 6:'NotAlone', 7:'NotAlone', 8:'NotAlone', \n",
    "         9:'NotAlone', 10:'NotAlone', 11:'NotAlone'}\n",
    "train_df['family_status'] = train_df['family_status'].replace(dict2)\n",
    "test_df['family_status'] = test_df['family_status'].replace(dict2)"
   ]
  },
  {
   "cell_type": "code",
   "execution_count": 22,
   "metadata": {},
   "outputs": [
    {
     "data": {
      "application/vnd.plotly.v1+json": {
       "data": [
        {
         "marker": {
          "color": [
           "#7A58ED",
           "#6E2BCC",
           "#25F378",
           "#5E815C",
           "#0DB844",
           "#7A1757",
           "#37C660",
           "#62F18A",
           "#3AE145",
           "#33B4EB",
           "#3D869D",
           "#D428C7",
           "#562B82",
           "#45A044",
           "#EAB101",
           "#7B49BB",
           "#CE6BFF",
           "#9BDFEF",
           "#E47034",
           "#632673",
           "#029AE2",
           "#CAAED9",
           "#CC97CA",
           "#ED4FD6",
           "#58F8D9",
           "#75D3C7",
           "#D4E0C7",
           "#C01BE6",
           "#538099",
           "#AA9FC9",
           "#59BFCA",
           "#E10805",
           "#6A6498",
           "#FAC246",
           "#CC9AB5",
           "#7CE48C",
           "#8923AA",
           "#BD1594",
           "#64BE41",
           "#294ADB",
           "#68C08A",
           "#6F9592",
           "#A98A58",
           "#7C4D86",
           "#8E60B6",
           "#2E9A39",
           "#FB6C80",
           "#04DC0D",
           "#997B89",
           "#50B918",
           "#565F5C",
           "#8E5FEA",
           "#3A5FD2",
           "#2703D3",
           "#981DFF",
           "#9BA17D",
           "#9C5F17",
           "#FF5968",
           "#97920E",
           "#F6E1AD",
           "#C97800",
           "#55F4BE",
           "#44414A",
           "#DF0A50",
           "#BC3983",
           "#BD6C18",
           "#8665CA",
           "#AEE300",
           "#761AC1",
           "#AF6B02",
           "#52EF14",
           "#CE68BF",
           "#6866BD",
           "#D4CFEF",
           "#613045",
           "#147F09",
           "#159FDB",
           "#03E5DB",
           "#052D8A",
           "#2886AA",
           "#1578E5",
           "#A629C8",
           "#E81A0C",
           "#CBC548",
           "#A1BC28",
           "#6293FA",
           "#77DEEC",
           "#8CC458",
           "#ED3E50",
           "#08D278",
           "#D67C63",
           "#CB097E",
           "#92E066",
           "#616429",
           "#A53F45",
           "#A8B8ED",
           "#09D1F9",
           "#7CF7D3",
           "#399C46",
           "#67C39C"
          ],
          "line": {
           "color": "rgb(8,48,107)",
           "width": 1.5
          }
         },
         "name": "Count",
         "opacity": 0.7,
         "orientation": "v",
         "text": [
          354,
          537
         ],
         "textfont": {
          "color": "rgb(0, 0, 0)",
          "size": 0
         },
         "textposition": "auto",
         "type": "bar",
         "x": [
          "NotAlone",
          "Alone"
         ],
         "xaxis": "x1",
         "y": [
          354,
          537
         ],
         "yaxis": "y1"
        },
        {
         "marker": {
          "color": [
           "#FA7F4E",
           "#34E573",
           "#DB27A2",
           "#1E1CBB",
           "#B6CB79",
           "#7B74B3",
           "#E2A665",
           "#D3B1A5",
           "#D324C9",
           "#9D7CE1",
           "#7CF58F",
           "#919E61",
           "#1021FF",
           "#27B626",
           "#ACF62C",
           "#1DADA0",
           "#830BAC",
           "#E26ED3",
           "#D59C17",
           "#544F97",
           "#2F59D2",
           "#14141F",
           "#6BD763",
           "#B121E8",
           "#07056E",
           "#1BA5A6",
           "#CE21C2",
           "#D3E59F",
           "#B5E01B",
           "#787940",
           "#451B79",
           "#FFF00E",
           "#DA557B",
           "#51233C",
           "#DB626A",
           "#D7E789",
           "#2E4E9C",
           "#5FD71B",
           "#79EAA9",
           "#B183EF",
           "#04DF29",
           "#229B5A",
           "#10737A",
           "#99D00A",
           "#21CB14",
           "#9199C2",
           "#1A7E16",
           "#04E0FE",
           "#50D106",
           "#F5A50A",
           "#63CB89",
           "#25D12D",
           "#29A313",
           "#BE728B",
           "#EA14E1",
           "#3C3284",
           "#324AD4",
           "#71759A",
           "#AEC035",
           "#6BE217",
           "#A52952",
           "#629BCD",
           "#ABC1C5",
           "#19999C",
           "#CDE16E",
           "#0C9876",
           "#7E5FC0",
           "#2DF242",
           "#5EAC07",
           "#097E48",
           "#C491DD",
           "#78E8F6",
           "#F00227",
           "#053876",
           "#B3C0A0",
           "#F4838D",
           "#EC13B8",
           "#F6B219",
           "#66953F",
           "#8CFEDE",
           "#3700BE",
           "#FE6AE7",
           "#BF87D1",
           "#59A3B9",
           "#6EFB06",
           "#DCB826",
           "#6B95FA",
           "#C9BCBF",
           "#D00698",
           "#438688",
           "#C301E3",
           "#761D8E",
           "#A0A58E",
           "#53B0CE",
           "#CEE29E",
           "#A4EEB3",
           "#D145B4",
           "#58836B",
           "#678823",
           "#9DCF24"
          ],
          "line": {
           "color": "rgb(8,48,107)",
           "width": 1.5
          }
         },
         "name": "Percent",
         "opacity": 0.7,
         "orientation": "v",
         "text": [
          [
           "NotAlone",
           0.5056497175141242
          ],
          [
           "Alone",
           0.30353817504655495
          ]
         ],
         "textfont": {
          "color": "rgb(0, 0, 0)",
          "size": 12
         },
         "textposition": "auto",
         "type": "bar",
         "x": [
          "NotAlone",
          "Alone"
         ],
         "xaxis": "x2",
         "y": [
          0.5056497175141242,
          0.30353817504655495
         ],
         "yaxis": "y2"
        }
       ],
       "layout": {
        "annotations": [
         {
          "font": {
           "size": 16
          },
          "showarrow": false,
          "text": "Count",
          "x": 0.225,
          "xanchor": "center",
          "xref": "paper",
          "y": 1,
          "yanchor": "bottom",
          "yref": "paper"
         },
         {
          "font": {
           "size": 16
          },
          "showarrow": false,
          "text": "Percent",
          "x": 0.775,
          "xanchor": "center",
          "xref": "paper",
          "y": 1,
          "yanchor": "bottom",
          "yref": "paper"
         }
        ],
        "height": 400,
        "margin": {
         "l": 100
        },
        "showlegend": false,
        "title": "family_status",
        "width": 800,
        "xaxis1": {
         "anchor": "y1",
         "domain": [
          0,
          0.45
         ]
        },
        "xaxis2": {
         "anchor": "y2",
         "domain": [
          0.55,
          1
         ]
        },
        "yaxis1": {
         "anchor": "x1",
         "domain": [
          0,
          1
         ],
         "title": "Count"
        },
        "yaxis2": {
         "anchor": "x2",
         "domain": [
          0,
          1
         ],
         "range": [
          0,
          1
         ],
         "title": "% Survived"
        }
       }
      },
      "text/html": [
       "<div id=\"921efab4-7840-4387-b3ed-81515bf1b625\" style=\"height: 400px; width: 800px;\" class=\"plotly-graph-div\"></div><script type=\"text/javascript\">require([\"plotly\"], function(Plotly) { window.PLOTLYENV=window.PLOTLYENV || {};window.PLOTLYENV.BASE_URL=\"https://plot.ly\";Plotly.newPlot(\"921efab4-7840-4387-b3ed-81515bf1b625\", [{\"type\": \"bar\", \"x\": [\"NotAlone\", \"Alone\"], \"y\": [354, 537], \"text\": [354, 537], \"textposition\": \"auto\", \"textfont\": {\"size\": 0, \"color\": \"rgb(0, 0, 0)\"}, \"name\": \"Count\", \"orientation\": \"v\", \"marker\": {\"color\": [\"#7A58ED\", \"#6E2BCC\", \"#25F378\", \"#5E815C\", \"#0DB844\", \"#7A1757\", \"#37C660\", \"#62F18A\", \"#3AE145\", \"#33B4EB\", \"#3D869D\", \"#D428C7\", \"#562B82\", \"#45A044\", \"#EAB101\", \"#7B49BB\", \"#CE6BFF\", \"#9BDFEF\", \"#E47034\", \"#632673\", \"#029AE2\", \"#CAAED9\", \"#CC97CA\", \"#ED4FD6\", \"#58F8D9\", \"#75D3C7\", \"#D4E0C7\", \"#C01BE6\", \"#538099\", \"#AA9FC9\", \"#59BFCA\", \"#E10805\", \"#6A6498\", \"#FAC246\", \"#CC9AB5\", \"#7CE48C\", \"#8923AA\", \"#BD1594\", \"#64BE41\", \"#294ADB\", \"#68C08A\", \"#6F9592\", \"#A98A58\", \"#7C4D86\", \"#8E60B6\", \"#2E9A39\", \"#FB6C80\", \"#04DC0D\", \"#997B89\", \"#50B918\", \"#565F5C\", \"#8E5FEA\", \"#3A5FD2\", \"#2703D3\", \"#981DFF\", \"#9BA17D\", \"#9C5F17\", \"#FF5968\", \"#97920E\", \"#F6E1AD\", \"#C97800\", \"#55F4BE\", \"#44414A\", \"#DF0A50\", \"#BC3983\", \"#BD6C18\", \"#8665CA\", \"#AEE300\", \"#761AC1\", \"#AF6B02\", \"#52EF14\", \"#CE68BF\", \"#6866BD\", \"#D4CFEF\", \"#613045\", \"#147F09\", \"#159FDB\", \"#03E5DB\", \"#052D8A\", \"#2886AA\", \"#1578E5\", \"#A629C8\", \"#E81A0C\", \"#CBC548\", \"#A1BC28\", \"#6293FA\", \"#77DEEC\", \"#8CC458\", \"#ED3E50\", \"#08D278\", \"#D67C63\", \"#CB097E\", \"#92E066\", \"#616429\", \"#A53F45\", \"#A8B8ED\", \"#09D1F9\", \"#7CF7D3\", \"#399C46\", \"#67C39C\"], \"line\": {\"color\": \"rgb(8,48,107)\", \"width\": 1.5}}, \"opacity\": 0.7, \"xaxis\": \"x1\", \"yaxis\": \"y1\"}, {\"type\": \"bar\", \"x\": [\"NotAlone\", \"Alone\"], \"y\": [0.5056497175141242, 0.30353817504655495], \"text\": [[\"NotAlone\", 0.5056497175141242], [\"Alone\", 0.30353817504655495]], \"textposition\": \"auto\", \"name\": \"Percent\", \"textfont\": {\"size\": 12, \"color\": \"rgb(0, 0, 0)\"}, \"orientation\": \"v\", \"marker\": {\"color\": [\"#FA7F4E\", \"#34E573\", \"#DB27A2\", \"#1E1CBB\", \"#B6CB79\", \"#7B74B3\", \"#E2A665\", \"#D3B1A5\", \"#D324C9\", \"#9D7CE1\", \"#7CF58F\", \"#919E61\", \"#1021FF\", \"#27B626\", \"#ACF62C\", \"#1DADA0\", \"#830BAC\", \"#E26ED3\", \"#D59C17\", \"#544F97\", \"#2F59D2\", \"#14141F\", \"#6BD763\", \"#B121E8\", \"#07056E\", \"#1BA5A6\", \"#CE21C2\", \"#D3E59F\", \"#B5E01B\", \"#787940\", \"#451B79\", \"#FFF00E\", \"#DA557B\", \"#51233C\", \"#DB626A\", \"#D7E789\", \"#2E4E9C\", \"#5FD71B\", \"#79EAA9\", \"#B183EF\", \"#04DF29\", \"#229B5A\", \"#10737A\", \"#99D00A\", \"#21CB14\", \"#9199C2\", \"#1A7E16\", \"#04E0FE\", \"#50D106\", \"#F5A50A\", \"#63CB89\", \"#25D12D\", \"#29A313\", \"#BE728B\", \"#EA14E1\", \"#3C3284\", \"#324AD4\", \"#71759A\", \"#AEC035\", \"#6BE217\", \"#A52952\", \"#629BCD\", \"#ABC1C5\", \"#19999C\", \"#CDE16E\", \"#0C9876\", \"#7E5FC0\", \"#2DF242\", \"#5EAC07\", \"#097E48\", \"#C491DD\", \"#78E8F6\", \"#F00227\", \"#053876\", \"#B3C0A0\", \"#F4838D\", \"#EC13B8\", \"#F6B219\", \"#66953F\", \"#8CFEDE\", \"#3700BE\", \"#FE6AE7\", \"#BF87D1\", \"#59A3B9\", \"#6EFB06\", \"#DCB826\", \"#6B95FA\", \"#C9BCBF\", \"#D00698\", \"#438688\", \"#C301E3\", \"#761D8E\", \"#A0A58E\", \"#53B0CE\", \"#CEE29E\", \"#A4EEB3\", \"#D145B4\", \"#58836B\", \"#678823\", \"#9DCF24\"], \"line\": {\"color\": \"rgb(8,48,107)\", \"width\": 1.5}}, \"opacity\": 0.7, \"xaxis\": \"x2\", \"yaxis\": \"y2\"}], {\"xaxis1\": {\"domain\": [0.0, 0.45], \"anchor\": \"y1\"}, \"yaxis1\": {\"domain\": [0.0, 1.0], \"anchor\": \"x1\", \"title\": \"Count\"}, \"xaxis2\": {\"domain\": [0.55, 1.0], \"anchor\": \"y2\"}, \"yaxis2\": {\"domain\": [0.0, 1.0], \"anchor\": \"x2\", \"range\": [0, 1], \"title\": \"% Survived\"}, \"annotations\": [{\"y\": 1.0, \"xref\": \"paper\", \"x\": 0.225, \"yref\": \"paper\", \"text\": \"Count\", \"showarrow\": false, \"font\": {\"size\": 16}, \"xanchor\": \"center\", \"yanchor\": \"bottom\"}, {\"y\": 1.0, \"xref\": \"paper\", \"x\": 0.775, \"yref\": \"paper\", \"text\": \"Percent\", \"showarrow\": false, \"font\": {\"size\": 16}, \"xanchor\": \"center\", \"yanchor\": \"bottom\"}], \"title\": \"family_status\", \"margin\": {\"l\": 100}, \"width\": 800, \"height\": 400, \"showlegend\": false}, {\"showLink\": true, \"linkText\": \"Export to plot.ly\"})});</script>"
      ],
      "text/vnd.plotly.v1+html": [
       "<div id=\"921efab4-7840-4387-b3ed-81515bf1b625\" style=\"height: 400px; width: 800px;\" class=\"plotly-graph-div\"></div><script type=\"text/javascript\">require([\"plotly\"], function(Plotly) { window.PLOTLYENV=window.PLOTLYENV || {};window.PLOTLYENV.BASE_URL=\"https://plot.ly\";Plotly.newPlot(\"921efab4-7840-4387-b3ed-81515bf1b625\", [{\"type\": \"bar\", \"x\": [\"NotAlone\", \"Alone\"], \"y\": [354, 537], \"text\": [354, 537], \"textposition\": \"auto\", \"textfont\": {\"size\": 0, \"color\": \"rgb(0, 0, 0)\"}, \"name\": \"Count\", \"orientation\": \"v\", \"marker\": {\"color\": [\"#7A58ED\", \"#6E2BCC\", \"#25F378\", \"#5E815C\", \"#0DB844\", \"#7A1757\", \"#37C660\", \"#62F18A\", \"#3AE145\", \"#33B4EB\", \"#3D869D\", \"#D428C7\", \"#562B82\", \"#45A044\", \"#EAB101\", \"#7B49BB\", \"#CE6BFF\", \"#9BDFEF\", \"#E47034\", \"#632673\", \"#029AE2\", \"#CAAED9\", \"#CC97CA\", \"#ED4FD6\", \"#58F8D9\", \"#75D3C7\", \"#D4E0C7\", \"#C01BE6\", \"#538099\", \"#AA9FC9\", \"#59BFCA\", \"#E10805\", \"#6A6498\", \"#FAC246\", \"#CC9AB5\", \"#7CE48C\", \"#8923AA\", \"#BD1594\", \"#64BE41\", \"#294ADB\", \"#68C08A\", \"#6F9592\", \"#A98A58\", \"#7C4D86\", \"#8E60B6\", \"#2E9A39\", \"#FB6C80\", \"#04DC0D\", \"#997B89\", \"#50B918\", \"#565F5C\", \"#8E5FEA\", \"#3A5FD2\", \"#2703D3\", \"#981DFF\", \"#9BA17D\", \"#9C5F17\", \"#FF5968\", \"#97920E\", \"#F6E1AD\", \"#C97800\", \"#55F4BE\", \"#44414A\", \"#DF0A50\", \"#BC3983\", \"#BD6C18\", \"#8665CA\", \"#AEE300\", \"#761AC1\", \"#AF6B02\", \"#52EF14\", \"#CE68BF\", \"#6866BD\", \"#D4CFEF\", \"#613045\", \"#147F09\", \"#159FDB\", \"#03E5DB\", \"#052D8A\", \"#2886AA\", \"#1578E5\", \"#A629C8\", \"#E81A0C\", \"#CBC548\", \"#A1BC28\", \"#6293FA\", \"#77DEEC\", \"#8CC458\", \"#ED3E50\", \"#08D278\", \"#D67C63\", \"#CB097E\", \"#92E066\", \"#616429\", \"#A53F45\", \"#A8B8ED\", \"#09D1F9\", \"#7CF7D3\", \"#399C46\", \"#67C39C\"], \"line\": {\"color\": \"rgb(8,48,107)\", \"width\": 1.5}}, \"opacity\": 0.7, \"xaxis\": \"x1\", \"yaxis\": \"y1\"}, {\"type\": \"bar\", \"x\": [\"NotAlone\", \"Alone\"], \"y\": [0.5056497175141242, 0.30353817504655495], \"text\": [[\"NotAlone\", 0.5056497175141242], [\"Alone\", 0.30353817504655495]], \"textposition\": \"auto\", \"name\": \"Percent\", \"textfont\": {\"size\": 12, \"color\": \"rgb(0, 0, 0)\"}, \"orientation\": \"v\", \"marker\": {\"color\": [\"#FA7F4E\", \"#34E573\", \"#DB27A2\", \"#1E1CBB\", \"#B6CB79\", \"#7B74B3\", \"#E2A665\", \"#D3B1A5\", \"#D324C9\", \"#9D7CE1\", \"#7CF58F\", \"#919E61\", \"#1021FF\", \"#27B626\", \"#ACF62C\", \"#1DADA0\", \"#830BAC\", \"#E26ED3\", \"#D59C17\", \"#544F97\", \"#2F59D2\", \"#14141F\", \"#6BD763\", \"#B121E8\", \"#07056E\", \"#1BA5A6\", \"#CE21C2\", \"#D3E59F\", \"#B5E01B\", \"#787940\", \"#451B79\", \"#FFF00E\", \"#DA557B\", \"#51233C\", \"#DB626A\", \"#D7E789\", \"#2E4E9C\", \"#5FD71B\", \"#79EAA9\", \"#B183EF\", \"#04DF29\", \"#229B5A\", \"#10737A\", \"#99D00A\", \"#21CB14\", \"#9199C2\", \"#1A7E16\", \"#04E0FE\", \"#50D106\", \"#F5A50A\", \"#63CB89\", \"#25D12D\", \"#29A313\", \"#BE728B\", \"#EA14E1\", \"#3C3284\", \"#324AD4\", \"#71759A\", \"#AEC035\", \"#6BE217\", \"#A52952\", \"#629BCD\", \"#ABC1C5\", \"#19999C\", \"#CDE16E\", \"#0C9876\", \"#7E5FC0\", \"#2DF242\", \"#5EAC07\", \"#097E48\", \"#C491DD\", \"#78E8F6\", \"#F00227\", \"#053876\", \"#B3C0A0\", \"#F4838D\", \"#EC13B8\", \"#F6B219\", \"#66953F\", \"#8CFEDE\", \"#3700BE\", \"#FE6AE7\", \"#BF87D1\", \"#59A3B9\", \"#6EFB06\", \"#DCB826\", \"#6B95FA\", \"#C9BCBF\", \"#D00698\", \"#438688\", \"#C301E3\", \"#761D8E\", \"#A0A58E\", \"#53B0CE\", \"#CEE29E\", \"#A4EEB3\", \"#D145B4\", \"#58836B\", \"#678823\", \"#9DCF24\"], \"line\": {\"color\": \"rgb(8,48,107)\", \"width\": 1.5}}, \"opacity\": 0.7, \"xaxis\": \"x2\", \"yaxis\": \"y2\"}], {\"xaxis1\": {\"domain\": [0.0, 0.45], \"anchor\": \"y1\"}, \"yaxis1\": {\"domain\": [0.0, 1.0], \"anchor\": \"x1\", \"title\": \"Count\"}, \"xaxis2\": {\"domain\": [0.55, 1.0], \"anchor\": \"y2\"}, \"yaxis2\": {\"domain\": [0.0, 1.0], \"anchor\": \"x2\", \"range\": [0, 1], \"title\": \"% Survived\"}, \"annotations\": [{\"y\": 1.0, \"xref\": \"paper\", \"x\": 0.225, \"yref\": \"paper\", \"text\": \"Count\", \"showarrow\": false, \"font\": {\"size\": 16}, \"xanchor\": \"center\", \"yanchor\": \"bottom\"}, {\"y\": 1.0, \"xref\": \"paper\", \"x\": 0.775, \"yref\": \"paper\", \"text\": \"Percent\", \"showarrow\": false, \"font\": {\"size\": 16}, \"xanchor\": \"center\", \"yanchor\": \"bottom\"}], \"title\": \"family_status\", \"margin\": {\"l\": 100}, \"width\": 800, \"height\": 400, \"showlegend\": false}, {\"showLink\": true, \"linkText\": \"Export to plot.ly\"})});</script>"
      ]
     },
     "metadata": {},
     "output_type": "display_data"
    }
   ],
   "source": [
    "# observe the distribution of family_status\n",
    "temp_col = train_df.columns.values[12]\n",
    "plot_count_percent_for_object(train_df, temp_col)"
   ]
  },
  {
   "cell_type": "markdown",
   "metadata": {},
   "source": [
    "Now let's observe the distribution of Age. Age is a continuous variable with float data type. So, let's first plot the KDE (kernel distribution estimation) plot for age.   "
   ]
  },
  {
   "cell_type": "code",
   "execution_count": 23,
   "metadata": {},
   "outputs": [
    {
     "data": {
      "image/png": "[encoded data removed]",
      "text/plain": [
       "<Figure size 720x576 with 1 Axes>"
      ]
     },
     "metadata": {},
     "output_type": "display_data"
    }
   ],
   "source": [
    "plt.figure(figsize = (10, 8))\n",
    "\n",
    "df = train_df[['Survived', 'Age']]\n",
    "df = df.dropna()\n",
    "\n",
    "# KDE plot of passengers who did not survive \n",
    "sns.kdeplot(df.loc[df['Survived'] == 0, 'Age'], label = 'survived == 0')\n",
    "\n",
    "# KDE plot of passengers who survived\n",
    "sns.kdeplot(df.loc[df['Survived'] == 1, 'Age'], label = 'survived == 1')\n",
    "\n",
    "# Labeling of plot\n",
    "plt.xlabel('Age (years)'); plt.ylabel('Density'); plt.title('Distribution of Age');"
   ]
  },
  {
   "cell_type": "markdown",
   "metadata": {},
   "source": [
    "Although this graph is stating that children with age between 0-10 have more survival to non-survival ratio, this graph is not helping much in getting some useful information. We will examine this variable by dividing into different age groups- child, young and old. And for the null values in the age variable, we will make 'missing' class. "
   ]
  },
  {
   "cell_type": "code",
   "execution_count": 24,
   "metadata": {},
   "outputs": [],
   "source": [
    "# dividing the age variable into different classes\n",
    "train_df['Age'] = train_df['Age'].fillna(200) # this is just indicating the missing values\n",
    "train_df['Age'] = pd.cut(train_df['Age'], bins=[0,12,40,80, 250], labels = ['Child', 'Young', 'Old', 'Missing'])"
   ]
  },
  {
   "cell_type": "code",
   "execution_count": 25,
   "metadata": {},
   "outputs": [
    {
     "data": {
      "application/vnd.plotly.v1+json": {
       "data": [
        {
         "marker": {
          "color": [
           "#3E7FCC",
           "#3D343E",
           "#7CF26F",
           "#205F5D",
           "#1855FF",
           "#A6B9E1",
           "#99EA02",
           "#60F151",
           "#4DE67C",
           "#E5E602",
           "#77C0FC",
           "#DFED99",
           "#63475F",
           "#075D5B",
           "#756228",
           "#F837F5",
           "#5A7DD4",
           "#1B0905",
           "#63D062",
           "#00B259",
           "#3C2E45",
           "#335A21",
           "#4CA5B1",
           "#2A3848",
           "#6BACF2",
           "#062CB6",
           "#F168A9",
           "#44A705",
           "#0CA4B5",
           "#DC8141",
           "#FEB6AC",
           "#2E6373",
           "#2C6CDD",
           "#34914F",
           "#05F6EB",
           "#26AE83",
           "#B2C590",
           "#D9BE80",
           "#FE6173",
           "#7ACE72",
           "#0462F2",
           "#F465D7",
           "#DB1DEE",
           "#D19A1B",
           "#F8EC9E",
           "#ABBF64",
           "#20BC4E",
           "#1C7DFD",
           "#478CB5",
           "#7A8E86",
           "#9DF7EC",
           "#BC36E2",
           "#A9FA6E",
           "#2465A7",
           "#77F7BE",
           "#083369",
           "#A8B725",
           "#C3E3B1",
           "#59A42D",
           "#BFCB2A",
           "#8375AF",
           "#C2A78D",
           "#79B209",
           "#47F605",
           "#573002",
           "#40B110",
           "#FD614C",
           "#C127F0",
           "#A25425",
           "#D9C361",
           "#505C57",
           "#687ACA",
           "#C815EF",
           "#DB9373",
           "#0C15D7",
           "#F6FDAA",
           "#55227A",
           "#68BA0E",
           "#63F16E",
           "#E49DAD",
           "#AC80A1",
           "#C58C75",
           "#C28478",
           "#585B0E",
           "#8974A1",
           "#52C08F",
           "#17A029",
           "#E97CA9",
           "#CFC4A3",
           "#EADF90",
           "#6A337F",
           "#486CFD",
           "#53028D",
           "#AFEB51",
           "#95EA03",
           "#35765A",
           "#CB0C20",
           "#0350F5",
           "#122EC5",
           "#0E4109"
          ],
          "line": {
           "color": "rgb(8,48,107)",
           "width": 1.5
          }
         },
         "name": "Count",
         "opacity": 0.7,
         "orientation": "v",
         "text": [
          177,
          150,
          495,
          69
         ],
         "textfont": {
          "color": "rgb(0, 0, 0)",
          "size": 0
         },
         "textposition": "auto",
         "type": "bar",
         "x": [
          "Missing",
          "Old",
          "Young",
          "Child"
         ],
         "xaxis": "x1",
         "y": [
          177,
          150,
          495,
          69
         ],
         "yaxis": "y1"
        },
        {
         "marker": {
          "color": [
           "#F79B00",
           "#EABA49",
           "#3D4B0A",
           "#9C9B2A",
           "#C9E144",
           "#5AB912",
           "#A23BED",
           "#3B223B",
           "#EFB179",
           "#E3875A",
           "#275687",
           "#17374D",
           "#68DF19",
           "#1DE846",
           "#CFE163",
           "#1C7ED7",
           "#7E6D60",
           "#9E8EA8",
           "#C9D2DD",
           "#7ECF98",
           "#62D18C",
           "#2C4337",
           "#C530BB",
           "#EA01C1",
           "#7A13C5",
           "#2B0794",
           "#89F507",
           "#29685F",
           "#D2B43F",
           "#E5CE1D",
           "#246466",
           "#2C90CA",
           "#D147E1",
           "#AC38E1",
           "#51BDFE",
           "#FE2C74",
           "#D0F63F",
           "#776BF3",
           "#FED845",
           "#8D61FC",
           "#536268",
           "#8CA78B",
           "#9F94F1",
           "#EBDD06",
           "#BAD3D8",
           "#D1E1FC",
           "#7DE1F7",
           "#553C12",
           "#49A7B9",
           "#838845",
           "#62A5C3",
           "#F3A4D1",
           "#F5B85C",
           "#04D73C",
           "#2C9C6D",
           "#04738D",
           "#D0025A",
           "#409774",
           "#62F9A4",
           "#BDD0AB",
           "#29E315",
           "#F834C5",
           "#536C03",
           "#FF3C38",
           "#1EA75A",
           "#C9BF7D",
           "#625C45",
           "#4843FB",
           "#9502A6",
           "#0AF04F",
           "#2A2560",
           "#C90999",
           "#108BE5",
           "#BF67A0",
           "#1E6120",
           "#6C3234",
           "#CA6977",
           "#4B07AE",
           "#925D9A",
           "#25A70C",
           "#C789B6",
           "#8CD70A",
           "#3DB85D",
           "#B52563",
           "#32DFFC",
           "#729C30",
           "#D210AE",
           "#A2F5CE",
           "#1E6B29",
           "#60BC06",
           "#EA6E7A",
           "#D22EA4",
           "#CB457E",
           "#EDA6CD",
           "#5B022C",
           "#C71933",
           "#B0827C",
           "#3F9665",
           "#BDF48E",
           "#78B4B2"
          ],
          "line": {
           "color": "rgb(8,48,107)",
           "width": 1.5
          }
         },
         "name": "Percent",
         "opacity": 0.7,
         "orientation": "v",
         "text": [
          [
           "Missing",
           0.2937853107344633
          ],
          [
           "Old",
           0.36666666666666664
          ],
          [
           "Young",
           0.3939393939393939
          ],
          [
           "Child",
           0.5797101449275363
          ]
         ],
         "textfont": {
          "color": "rgb(0, 0, 0)",
          "size": 12
         },
         "textposition": "auto",
         "type": "bar",
         "x": [
          "Missing",
          "Old",
          "Young",
          "Child"
         ],
         "xaxis": "x2",
         "y": [
          0.2937853107344633,
          0.36666666666666664,
          0.3939393939393939,
          0.5797101449275363
         ],
         "yaxis": "y2"
        }
       ],
       "layout": {
        "annotations": [
         {
          "font": {
           "size": 16
          },
          "showarrow": false,
          "text": "Count",
          "x": 0.225,
          "xanchor": "center",
          "xref": "paper",
          "y": 1,
          "yanchor": "bottom",
          "yref": "paper"
         },
         {
          "font": {
           "size": 16
          },
          "showarrow": false,
          "text": "Percent",
          "x": 0.775,
          "xanchor": "center",
          "xref": "paper",
          "y": 1,
          "yanchor": "bottom",
          "yref": "paper"
         }
        ],
        "height": 400,
        "margin": {
         "l": 100
        },
        "showlegend": false,
        "title": "Age",
        "width": 800,
        "xaxis1": {
         "anchor": "y1",
         "domain": [
          0,
          0.45
         ]
        },
        "xaxis2": {
         "anchor": "y2",
         "domain": [
          0.55,
          1
         ]
        },
        "yaxis1": {
         "anchor": "x1",
         "domain": [
          0,
          1
         ],
         "title": "Count"
        },
        "yaxis2": {
         "anchor": "x2",
         "domain": [
          0,
          1
         ],
         "range": [
          0,
          1
         ],
         "title": "% Survived"
        }
       }
      },
      "text/html": [
       "<div id=\"0f5beb60-5f8c-40fc-8bc4-9e7e3a09a999\" style=\"height: 400px; width: 800px;\" class=\"plotly-graph-div\"></div><script type=\"text/javascript\">require([\"plotly\"], function(Plotly) { window.PLOTLYENV=window.PLOTLYENV || {};window.PLOTLYENV.BASE_URL=\"https://plot.ly\";Plotly.newPlot(\"0f5beb60-5f8c-40fc-8bc4-9e7e3a09a999\", [{\"type\": \"bar\", \"x\": [\"Missing\", \"Old\", \"Young\", \"Child\"], \"y\": [177, 150, 495, 69], \"text\": [177, 150, 495, 69], \"textposition\": \"auto\", \"textfont\": {\"size\": 0, \"color\": \"rgb(0, 0, 0)\"}, \"name\": \"Count\", \"orientation\": \"v\", \"marker\": {\"color\": [\"#3E7FCC\", \"#3D343E\", \"#7CF26F\", \"#205F5D\", \"#1855FF\", \"#A6B9E1\", \"#99EA02\", \"#60F151\", \"#4DE67C\", \"#E5E602\", \"#77C0FC\", \"#DFED99\", \"#63475F\", \"#075D5B\", \"#756228\", \"#F837F5\", \"#5A7DD4\", \"#1B0905\", \"#63D062\", \"#00B259\", \"#3C2E45\", \"#335A21\", \"#4CA5B1\", \"#2A3848\", \"#6BACF2\", \"#062CB6\", \"#F168A9\", \"#44A705\", \"#0CA4B5\", \"#DC8141\", \"#FEB6AC\", \"#2E6373\", \"#2C6CDD\", \"#34914F\", \"#05F6EB\", \"#26AE83\", \"#B2C590\", \"#D9BE80\", \"#FE6173\", \"#7ACE72\", \"#0462F2\", \"#F465D7\", \"#DB1DEE\", \"#D19A1B\", \"#F8EC9E\", \"#ABBF64\", \"#20BC4E\", \"#1C7DFD\", \"#478CB5\", \"#7A8E86\", \"#9DF7EC\", \"#BC36E2\", \"#A9FA6E\", \"#2465A7\", \"#77F7BE\", \"#083369\", \"#A8B725\", \"#C3E3B1\", \"#59A42D\", \"#BFCB2A\", \"#8375AF\", \"#C2A78D\", \"#79B209\", \"#47F605\", \"#573002\", \"#40B110\", \"#FD614C\", \"#C127F0\", \"#A25425\", \"#D9C361\", \"#505C57\", \"#687ACA\", \"#C815EF\", \"#DB9373\", \"#0C15D7\", \"#F6FDAA\", \"#55227A\", \"#68BA0E\", \"#63F16E\", \"#E49DAD\", \"#AC80A1\", \"#C58C75\", \"#C28478\", \"#585B0E\", \"#8974A1\", \"#52C08F\", \"#17A029\", \"#E97CA9\", \"#CFC4A3\", \"#EADF90\", \"#6A337F\", \"#486CFD\", \"#53028D\", \"#AFEB51\", \"#95EA03\", \"#35765A\", \"#CB0C20\", \"#0350F5\", \"#122EC5\", \"#0E4109\"], \"line\": {\"color\": \"rgb(8,48,107)\", \"width\": 1.5}}, \"opacity\": 0.7, \"xaxis\": \"x1\", \"yaxis\": \"y1\"}, {\"type\": \"bar\", \"x\": [\"Missing\", \"Old\", \"Young\", \"Child\"], \"y\": [0.2937853107344633, 0.36666666666666664, 0.3939393939393939, 0.5797101449275363], \"text\": [[\"Missing\", 0.2937853107344633], [\"Old\", 0.36666666666666664], [\"Young\", 0.3939393939393939], [\"Child\", 0.5797101449275363]], \"textposition\": \"auto\", \"name\": \"Percent\", \"textfont\": {\"size\": 12, \"color\": \"rgb(0, 0, 0)\"}, \"orientation\": \"v\", \"marker\": {\"color\": [\"#F79B00\", \"#EABA49\", \"#3D4B0A\", \"#9C9B2A\", \"#C9E144\", \"#5AB912\", \"#A23BED\", \"#3B223B\", \"#EFB179\", \"#E3875A\", \"#275687\", \"#17374D\", \"#68DF19\", \"#1DE846\", \"#CFE163\", \"#1C7ED7\", \"#7E6D60\", \"#9E8EA8\", \"#C9D2DD\", \"#7ECF98\", \"#62D18C\", \"#2C4337\", \"#C530BB\", \"#EA01C1\", \"#7A13C5\", \"#2B0794\", \"#89F507\", \"#29685F\", \"#D2B43F\", \"#E5CE1D\", \"#246466\", \"#2C90CA\", \"#D147E1\", \"#AC38E1\", \"#51BDFE\", \"#FE2C74\", \"#D0F63F\", \"#776BF3\", \"#FED845\", \"#8D61FC\", \"#536268\", \"#8CA78B\", \"#9F94F1\", \"#EBDD06\", \"#BAD3D8\", \"#D1E1FC\", \"#7DE1F7\", \"#553C12\", \"#49A7B9\", \"#838845\", \"#62A5C3\", \"#F3A4D1\", \"#F5B85C\", \"#04D73C\", \"#2C9C6D\", \"#04738D\", \"#D0025A\", \"#409774\", \"#62F9A4\", \"#BDD0AB\", \"#29E315\", \"#F834C5\", \"#536C03\", \"#FF3C38\", \"#1EA75A\", \"#C9BF7D\", \"#625C45\", \"#4843FB\", \"#9502A6\", \"#0AF04F\", \"#2A2560\", \"#C90999\", \"#108BE5\", \"#BF67A0\", \"#1E6120\", \"#6C3234\", \"#CA6977\", \"#4B07AE\", \"#925D9A\", \"#25A70C\", \"#C789B6\", \"#8CD70A\", \"#3DB85D\", \"#B52563\", \"#32DFFC\", \"#729C30\", \"#D210AE\", \"#A2F5CE\", \"#1E6B29\", \"#60BC06\", \"#EA6E7A\", \"#D22EA4\", \"#CB457E\", \"#EDA6CD\", \"#5B022C\", \"#C71933\", \"#B0827C\", \"#3F9665\", \"#BDF48E\", \"#78B4B2\"], \"line\": {\"color\": \"rgb(8,48,107)\", \"width\": 1.5}}, \"opacity\": 0.7, \"xaxis\": \"x2\", \"yaxis\": \"y2\"}], {\"xaxis1\": {\"domain\": [0.0, 0.45], \"anchor\": \"y1\"}, \"yaxis1\": {\"domain\": [0.0, 1.0], \"anchor\": \"x1\", \"title\": \"Count\"}, \"xaxis2\": {\"domain\": [0.55, 1.0], \"anchor\": \"y2\"}, \"yaxis2\": {\"domain\": [0.0, 1.0], \"anchor\": \"x2\", \"range\": [0, 1], \"title\": \"% Survived\"}, \"annotations\": [{\"y\": 1.0, \"xref\": \"paper\", \"x\": 0.225, \"yref\": \"paper\", \"text\": \"Count\", \"showarrow\": false, \"font\": {\"size\": 16}, \"xanchor\": \"center\", \"yanchor\": \"bottom\"}, {\"y\": 1.0, \"xref\": \"paper\", \"x\": 0.775, \"yref\": \"paper\", \"text\": \"Percent\", \"showarrow\": false, \"font\": {\"size\": 16}, \"xanchor\": \"center\", \"yanchor\": \"bottom\"}], \"title\": \"Age\", \"margin\": {\"l\": 100}, \"width\": 800, \"height\": 400, \"showlegend\": false}, {\"showLink\": true, \"linkText\": \"Export to plot.ly\"})});</script>"
      ],
      "text/vnd.plotly.v1+html": [
       "<div id=\"0f5beb60-5f8c-40fc-8bc4-9e7e3a09a999\" style=\"height: 400px; width: 800px;\" class=\"plotly-graph-div\"></div><script type=\"text/javascript\">require([\"plotly\"], function(Plotly) { window.PLOTLYENV=window.PLOTLYENV || {};window.PLOTLYENV.BASE_URL=\"https://plot.ly\";Plotly.newPlot(\"0f5beb60-5f8c-40fc-8bc4-9e7e3a09a999\", [{\"type\": \"bar\", \"x\": [\"Missing\", \"Old\", \"Young\", \"Child\"], \"y\": [177, 150, 495, 69], \"text\": [177, 150, 495, 69], \"textposition\": \"auto\", \"textfont\": {\"size\": 0, \"color\": \"rgb(0, 0, 0)\"}, \"name\": \"Count\", \"orientation\": \"v\", \"marker\": {\"color\": [\"#3E7FCC\", \"#3D343E\", \"#7CF26F\", \"#205F5D\", \"#1855FF\", \"#A6B9E1\", \"#99EA02\", \"#60F151\", \"#4DE67C\", \"#E5E602\", \"#77C0FC\", \"#DFED99\", \"#63475F\", \"#075D5B\", \"#756228\", \"#F837F5\", \"#5A7DD4\", \"#1B0905\", \"#63D062\", \"#00B259\", \"#3C2E45\", \"#335A21\", \"#4CA5B1\", \"#2A3848\", \"#6BACF2\", \"#062CB6\", \"#F168A9\", \"#44A705\", \"#0CA4B5\", \"#DC8141\", \"#FEB6AC\", \"#2E6373\", \"#2C6CDD\", \"#34914F\", \"#05F6EB\", \"#26AE83\", \"#B2C590\", \"#D9BE80\", \"#FE6173\", \"#7ACE72\", \"#0462F2\", \"#F465D7\", \"#DB1DEE\", \"#D19A1B\", \"#F8EC9E\", \"#ABBF64\", \"#20BC4E\", \"#1C7DFD\", \"#478CB5\", \"#7A8E86\", \"#9DF7EC\", \"#BC36E2\", \"#A9FA6E\", \"#2465A7\", \"#77F7BE\", \"#083369\", \"#A8B725\", \"#C3E3B1\", \"#59A42D\", \"#BFCB2A\", \"#8375AF\", \"#C2A78D\", \"#79B209\", \"#47F605\", \"#573002\", \"#40B110\", \"#FD614C\", \"#C127F0\", \"#A25425\", \"#D9C361\", \"#505C57\", \"#687ACA\", \"#C815EF\", \"#DB9373\", \"#0C15D7\", \"#F6FDAA\", \"#55227A\", \"#68BA0E\", \"#63F16E\", \"#E49DAD\", \"#AC80A1\", \"#C58C75\", \"#C28478\", \"#585B0E\", \"#8974A1\", \"#52C08F\", \"#17A029\", \"#E97CA9\", \"#CFC4A3\", \"#EADF90\", \"#6A337F\", \"#486CFD\", \"#53028D\", \"#AFEB51\", \"#95EA03\", \"#35765A\", \"#CB0C20\", \"#0350F5\", \"#122EC5\", \"#0E4109\"], \"line\": {\"color\": \"rgb(8,48,107)\", \"width\": 1.5}}, \"opacity\": 0.7, \"xaxis\": \"x1\", \"yaxis\": \"y1\"}, {\"type\": \"bar\", \"x\": [\"Missing\", \"Old\", \"Young\", \"Child\"], \"y\": [0.2937853107344633, 0.36666666666666664, 0.3939393939393939, 0.5797101449275363], \"text\": [[\"Missing\", 0.2937853107344633], [\"Old\", 0.36666666666666664], [\"Young\", 0.3939393939393939], [\"Child\", 0.5797101449275363]], \"textposition\": \"auto\", \"name\": \"Percent\", \"textfont\": {\"size\": 12, \"color\": \"rgb(0, 0, 0)\"}, \"orientation\": \"v\", \"marker\": {\"color\": [\"#F79B00\", \"#EABA49\", \"#3D4B0A\", \"#9C9B2A\", \"#C9E144\", \"#5AB912\", \"#A23BED\", \"#3B223B\", \"#EFB179\", \"#E3875A\", \"#275687\", \"#17374D\", \"#68DF19\", \"#1DE846\", \"#CFE163\", \"#1C7ED7\", \"#7E6D60\", \"#9E8EA8\", \"#C9D2DD\", \"#7ECF98\", \"#62D18C\", \"#2C4337\", \"#C530BB\", \"#EA01C1\", \"#7A13C5\", \"#2B0794\", \"#89F507\", \"#29685F\", \"#D2B43F\", \"#E5CE1D\", \"#246466\", \"#2C90CA\", \"#D147E1\", \"#AC38E1\", \"#51BDFE\", \"#FE2C74\", \"#D0F63F\", \"#776BF3\", \"#FED845\", \"#8D61FC\", \"#536268\", \"#8CA78B\", \"#9F94F1\", \"#EBDD06\", \"#BAD3D8\", \"#D1E1FC\", \"#7DE1F7\", \"#553C12\", \"#49A7B9\", \"#838845\", \"#62A5C3\", \"#F3A4D1\", \"#F5B85C\", \"#04D73C\", \"#2C9C6D\", \"#04738D\", \"#D0025A\", \"#409774\", \"#62F9A4\", \"#BDD0AB\", \"#29E315\", \"#F834C5\", \"#536C03\", \"#FF3C38\", \"#1EA75A\", \"#C9BF7D\", \"#625C45\", \"#4843FB\", \"#9502A6\", \"#0AF04F\", \"#2A2560\", \"#C90999\", \"#108BE5\", \"#BF67A0\", \"#1E6120\", \"#6C3234\", \"#CA6977\", \"#4B07AE\", \"#925D9A\", \"#25A70C\", \"#C789B6\", \"#8CD70A\", \"#3DB85D\", \"#B52563\", \"#32DFFC\", \"#729C30\", \"#D210AE\", \"#A2F5CE\", \"#1E6B29\", \"#60BC06\", \"#EA6E7A\", \"#D22EA4\", \"#CB457E\", \"#EDA6CD\", \"#5B022C\", \"#C71933\", \"#B0827C\", \"#3F9665\", \"#BDF48E\", \"#78B4B2\"], \"line\": {\"color\": \"rgb(8,48,107)\", \"width\": 1.5}}, \"opacity\": 0.7, \"xaxis\": \"x2\", \"yaxis\": \"y2\"}], {\"xaxis1\": {\"domain\": [0.0, 0.45], \"anchor\": \"y1\"}, \"yaxis1\": {\"domain\": [0.0, 1.0], \"anchor\": \"x1\", \"title\": \"Count\"}, \"xaxis2\": {\"domain\": [0.55, 1.0], \"anchor\": \"y2\"}, \"yaxis2\": {\"domain\": [0.0, 1.0], \"anchor\": \"x2\", \"range\": [0, 1], \"title\": \"% Survived\"}, \"annotations\": [{\"y\": 1.0, \"xref\": \"paper\", \"x\": 0.225, \"yref\": \"paper\", \"text\": \"Count\", \"showarrow\": false, \"font\": {\"size\": 16}, \"xanchor\": \"center\", \"yanchor\": \"bottom\"}, {\"y\": 1.0, \"xref\": \"paper\", \"x\": 0.775, \"yref\": \"paper\", \"text\": \"Percent\", \"showarrow\": false, \"font\": {\"size\": 16}, \"xanchor\": \"center\", \"yanchor\": \"bottom\"}], \"title\": \"Age\", \"margin\": {\"l\": 100}, \"width\": 800, \"height\": 400, \"showlegend\": false}, {\"showLink\": true, \"linkText\": \"Export to plot.ly\"})});</script>"
      ]
     },
     "metadata": {},
     "output_type": "display_data"
    }
   ],
   "source": [
    "temp_col = train_df.columns.values[5]\n",
    "plot_count_percent_for_object(train_df, temp_col)"
   ]
  },
  {
   "cell_type": "markdown",
   "metadata": {},
   "source": [
    "Now this plot gives us some useful information such as children are more likely to survive, followed by young and old. Maybe because there were limited lifeboats and they tried to save all the children first by sending them on the lifeboats with some adults. But Age variable has many missing entries (177 to be precise) and we need to impute them.   "
   ]
  },
  {
   "cell_type": "code",
   "execution_count": null,
   "metadata": {},
   "outputs": [],
   "source": [
    "age = pd.read_csv('Data/train.csv')\n",
    "train_df['Age'] = age['Age']\n",
    "\n",
    "# mean of the age variable\n",
    "age_avg = train_df['Age'].mean()\n",
    "# standard deviation of the age variable \n",
    "age_std = train_df['Age'].std()\n",
    "\n",
    "age_null_count = train_df['Age'].isnull().sum()\n",
    "\n",
    "# list of the random age values to be filled based on the distribution of the original age variable  \n",
    "age_null_random_list = np.random.randint(age_avg - age_std, age_avg + age_std, size=age_null_count)\n",
    "\n",
    "train_df['Age'][np.isnan(train_df['Age'])] = age_null_random_list"
   ]
  },
  {
   "cell_type": "markdown",
   "metadata": {},
   "source": [
    "Now, since we have imputed the missing age values, again divide the age variable into three groups- child, young and old."
   ]
  },
  {
   "cell_type": "code",
   "execution_count": 28,
   "metadata": {},
   "outputs": [],
   "source": [
    "# dividing the age variable into different classes\n",
    "train_df['Age'] = pd.cut(train_df['Age'], bins=[0,12,40,80], labels = ['Child', 'Young', 'Old'])\n",
    "test_df['Age'] = pd.cut(test_df['Age'], bins=[0,12,40,80], labels = ['Child', 'Young', 'Old'])"
   ]
  },
  {
   "cell_type": "code",
   "execution_count": 29,
   "metadata": {},
   "outputs": [
    {
     "data": {
      "application/vnd.plotly.v1+json": {
       "data": [
        {
         "marker": {
          "color": [
           "#8D4799",
           "#7FFA83",
           "#4F9E88",
           "#C4CBD0",
           "#69E87E",
           "#B36270",
           "#B48DE9",
           "#A6F806",
           "#4EE28D",
           "#5452CC",
           "#70FB24",
           "#FEF29F",
           "#48F81E",
           "#B0DBAC",
           "#770505",
           "#2C4E45",
           "#801347",
           "#5FD70D",
           "#56B270",
           "#DD5DB5",
           "#A63980",
           "#1C9D3B",
           "#96536C",
           "#3470B3",
           "#3019FE",
           "#1C2918",
           "#FE7BA4",
           "#FCF375",
           "#F7FA68",
           "#46A1A2",
           "#5FBE97",
           "#D29C8F",
           "#B2F3A7",
           "#E1B5D0",
           "#3F9A49",
           "#40794E",
           "#C9F078",
           "#0D8B7F",
           "#CB433D",
           "#4A2D2A",
           "#AA53FF",
           "#10C43F",
           "#3D65E8",
           "#6EA70F",
           "#0608E4",
           "#30CD47",
           "#E79866",
           "#9D2B6C",
           "#D33465",
           "#795647",
           "#BE0059",
           "#FC32D8",
           "#0A3066",
           "#94F536",
           "#8621FE",
           "#1089E4",
           "#08F6D6",
           "#F8F929",
           "#16FB42",
           "#E5EAC7",
           "#030786",
           "#28AF64",
           "#A0C86C",
           "#263F17",
           "#7E9771",
           "#C6BAAE",
           "#071CD3",
           "#864834",
           "#08D7B1",
           "#91886D",
           "#AFEEEC",
           "#110743",
           "#A27D18",
           "#17D185",
           "#E47BCB",
           "#F0C3B4",
           "#BF96F3",
           "#A8132D",
           "#94B0FB",
           "#4C27F5",
           "#77FDA7",
           "#35F2F3",
           "#34E69B",
           "#BD1421",
           "#A2008E",
           "#3143CE",
           "#2DAEBA",
           "#AF743A",
           "#15D84F",
           "#6102DE",
           "#BBDBA6",
           "#24D73E",
           "#449DC4",
           "#A142D8",
           "#DF28FF",
           "#A0DB84",
           "#54BE49",
           "#00DBC2",
           "#F553B9",
           "#831315"
          ],
          "line": {
           "color": "rgb(8,48,107)",
           "width": 1.5
          }
         },
         "name": "Count",
         "opacity": 0.7,
         "orientation": "v",
         "text": [
          173,
          649,
          69
         ],
         "textfont": {
          "color": "rgb(0, 0, 0)",
          "size": 0
         },
         "textposition": "auto",
         "type": "bar",
         "x": [
          "Old",
          "Young",
          "Child"
         ],
         "xaxis": "x1",
         "y": [
          173,
          649,
          69
         ],
         "yaxis": "y1"
        },
        {
         "marker": {
          "color": [
           "#B0A461",
           "#4246FA",
           "#C0BDD9",
           "#2ECE38",
           "#E2279D",
           "#8FB47A",
           "#DF50FB",
           "#1F6815",
           "#7A8749",
           "#53F20D",
           "#9FA2C8",
           "#CC77D3",
           "#2FDA80",
           "#0DCCBE",
           "#7156BB",
           "#D2910C",
           "#B61BD5",
           "#BD793B",
           "#954021",
           "#91F438",
           "#FE7C75",
           "#2DABBB",
           "#22C89F",
           "#DDE0BC",
           "#32CD0C",
           "#BC253E",
           "#0D5A14",
           "#6B2404",
           "#3E1D31",
           "#75C3EF",
           "#0F6718",
           "#69B0FE",
           "#6527FC",
           "#4AA86E",
           "#7F9DA8",
           "#60BF1B",
           "#4E0D49",
           "#2D7AF5",
           "#994FB2",
           "#63B586",
           "#CE9152",
           "#05AF6F",
           "#6E6B05",
           "#86D681",
           "#D45335",
           "#23570F",
           "#C7B38C",
           "#B38D98",
           "#660E0A",
           "#3700F2",
           "#FDA686",
           "#6DFFA0",
           "#86DB70",
           "#A95677",
           "#EF0577",
           "#D71ABC",
           "#09AC36",
           "#519D89",
           "#93EA5D",
           "#6F22C7",
           "#644EF0",
           "#116066",
           "#52779D",
           "#4878C8",
           "#E3F01A",
           "#80CF5C",
           "#BEB098",
           "#AF9F61",
           "#542E25",
           "#9255B3",
           "#AA157C",
           "#3542F2",
           "#0BB076",
           "#508481",
           "#15AD34",
           "#19B8B3",
           "#C88057",
           "#D9433A",
           "#13CC4E",
           "#24CD7E",
           "#E48370",
           "#D15D73",
           "#EEB5E9",
           "#618874",
           "#D0E389",
           "#3902EC",
           "#E18508",
           "#12851C",
           "#57B899",
           "#A27A0D",
           "#8FA1F5",
           "#C520FA",
           "#19B3C2",
           "#64F65C",
           "#EBD393",
           "#F62A2A",
           "#99ACEE",
           "#23D2D6",
           "#7277FE",
           "#64C380"
          ],
          "line": {
           "color": "rgb(8,48,107)",
           "width": 1.5
          }
         },
         "name": "Percent",
         "opacity": 0.7,
         "orientation": "v",
         "text": [
          [
           "Old",
           0.3468208092485549
          ],
          [
           "Young",
           0.3728813559322034
          ],
          [
           "Child",
           0.5797101449275363
          ]
         ],
         "textfont": {
          "color": "rgb(0, 0, 0)",
          "size": 12
         },
         "textposition": "auto",
         "type": "bar",
         "x": [
          "Old",
          "Young",
          "Child"
         ],
         "xaxis": "x2",
         "y": [
          0.3468208092485549,
          0.3728813559322034,
          0.5797101449275363
         ],
         "yaxis": "y2"
        }
       ],
       "layout": {
        "annotations": [
         {
          "font": {
           "size": 16
          },
          "showarrow": false,
          "text": "Count",
          "x": 0.225,
          "xanchor": "center",
          "xref": "paper",
          "y": 1,
          "yanchor": "bottom",
          "yref": "paper"
         },
         {
          "font": {
           "size": 16
          },
          "showarrow": false,
          "text": "Percent",
          "x": 0.775,
          "xanchor": "center",
          "xref": "paper",
          "y": 1,
          "yanchor": "bottom",
          "yref": "paper"
         }
        ],
        "height": 400,
        "margin": {
         "l": 100
        },
        "showlegend": false,
        "title": "Age",
        "width": 800,
        "xaxis1": {
         "anchor": "y1",
         "domain": [
          0,
          0.45
         ]
        },
        "xaxis2": {
         "anchor": "y2",
         "domain": [
          0.55,
          1
         ]
        },
        "yaxis1": {
         "anchor": "x1",
         "domain": [
          0,
          1
         ],
         "title": "Count"
        },
        "yaxis2": {
         "anchor": "x2",
         "domain": [
          0,
          1
         ],
         "range": [
          0,
          1
         ],
         "title": "% Survived"
        }
       }
      },
      "text/html": [
       "<div id=\"38bbc5a8-f9d1-42ac-af17-2d8717eb16d6\" style=\"height: 400px; width: 800px;\" class=\"plotly-graph-div\"></div><script type=\"text/javascript\">require([\"plotly\"], function(Plotly) { window.PLOTLYENV=window.PLOTLYENV || {};window.PLOTLYENV.BASE_URL=\"https://plot.ly\";Plotly.newPlot(\"38bbc5a8-f9d1-42ac-af17-2d8717eb16d6\", [{\"type\": \"bar\", \"x\": [\"Old\", \"Young\", \"Child\"], \"y\": [173, 649, 69], \"text\": [173, 649, 69], \"textposition\": \"auto\", \"textfont\": {\"size\": 0, \"color\": \"rgb(0, 0, 0)\"}, \"name\": \"Count\", \"orientation\": \"v\", \"marker\": {\"color\": [\"#8D4799\", \"#7FFA83\", \"#4F9E88\", \"#C4CBD0\", \"#69E87E\", \"#B36270\", \"#B48DE9\", \"#A6F806\", \"#4EE28D\", \"#5452CC\", \"#70FB24\", \"#FEF29F\", \"#48F81E\", \"#B0DBAC\", \"#770505\", \"#2C4E45\", \"#801347\", \"#5FD70D\", \"#56B270\", \"#DD5DB5\", \"#A63980\", \"#1C9D3B\", \"#96536C\", \"#3470B3\", \"#3019FE\", \"#1C2918\", \"#FE7BA4\", \"#FCF375\", \"#F7FA68\", \"#46A1A2\", \"#5FBE97\", \"#D29C8F\", \"#B2F3A7\", \"#E1B5D0\", \"#3F9A49\", \"#40794E\", \"#C9F078\", \"#0D8B7F\", \"#CB433D\", \"#4A2D2A\", \"#AA53FF\", \"#10C43F\", \"#3D65E8\", \"#6EA70F\", \"#0608E4\", \"#30CD47\", \"#E79866\", \"#9D2B6C\", \"#D33465\", \"#795647\", \"#BE0059\", \"#FC32D8\", \"#0A3066\", \"#94F536\", \"#8621FE\", \"#1089E4\", \"#08F6D6\", \"#F8F929\", \"#16FB42\", \"#E5EAC7\", \"#030786\", \"#28AF64\", \"#A0C86C\", \"#263F17\", \"#7E9771\", \"#C6BAAE\", \"#071CD3\", \"#864834\", \"#08D7B1\", \"#91886D\", \"#AFEEEC\", \"#110743\", \"#A27D18\", \"#17D185\", \"#E47BCB\", \"#F0C3B4\", \"#BF96F3\", \"#A8132D\", \"#94B0FB\", \"#4C27F5\", \"#77FDA7\", \"#35F2F3\", \"#34E69B\", \"#BD1421\", \"#A2008E\", \"#3143CE\", \"#2DAEBA\", \"#AF743A\", \"#15D84F\", \"#6102DE\", \"#BBDBA6\", \"#24D73E\", \"#449DC4\", \"#A142D8\", \"#DF28FF\", \"#A0DB84\", \"#54BE49\", \"#00DBC2\", \"#F553B9\", \"#831315\"], \"line\": {\"color\": \"rgb(8,48,107)\", \"width\": 1.5}}, \"opacity\": 0.7, \"xaxis\": \"x1\", \"yaxis\": \"y1\"}, {\"type\": \"bar\", \"x\": [\"Old\", \"Young\", \"Child\"], \"y\": [0.3468208092485549, 0.3728813559322034, 0.5797101449275363], \"text\": [[\"Old\", 0.3468208092485549], [\"Young\", 0.3728813559322034], [\"Child\", 0.5797101449275363]], \"textposition\": \"auto\", \"name\": \"Percent\", \"textfont\": {\"size\": 12, \"color\": \"rgb(0, 0, 0)\"}, \"orientation\": \"v\", \"marker\": {\"color\": [\"#B0A461\", \"#4246FA\", \"#C0BDD9\", \"#2ECE38\", \"#E2279D\", \"#8FB47A\", \"#DF50FB\", \"#1F6815\", \"#7A8749\", \"#53F20D\", \"#9FA2C8\", \"#CC77D3\", \"#2FDA80\", \"#0DCCBE\", \"#7156BB\", \"#D2910C\", \"#B61BD5\", \"#BD793B\", \"#954021\", \"#91F438\", \"#FE7C75\", \"#2DABBB\", \"#22C89F\", \"#DDE0BC\", \"#32CD0C\", \"#BC253E\", \"#0D5A14\", \"#6B2404\", \"#3E1D31\", \"#75C3EF\", \"#0F6718\", \"#69B0FE\", \"#6527FC\", \"#4AA86E\", \"#7F9DA8\", \"#60BF1B\", \"#4E0D49\", \"#2D7AF5\", \"#994FB2\", \"#63B586\", \"#CE9152\", \"#05AF6F\", \"#6E6B05\", \"#86D681\", \"#D45335\", \"#23570F\", \"#C7B38C\", \"#B38D98\", \"#660E0A\", \"#3700F2\", \"#FDA686\", \"#6DFFA0\", \"#86DB70\", \"#A95677\", \"#EF0577\", \"#D71ABC\", \"#09AC36\", \"#519D89\", \"#93EA5D\", \"#6F22C7\", \"#644EF0\", \"#116066\", \"#52779D\", \"#4878C8\", \"#E3F01A\", \"#80CF5C\", \"#BEB098\", \"#AF9F61\", \"#542E25\", \"#9255B3\", \"#AA157C\", \"#3542F2\", \"#0BB076\", \"#508481\", \"#15AD34\", \"#19B8B3\", \"#C88057\", \"#D9433A\", \"#13CC4E\", \"#24CD7E\", \"#E48370\", \"#D15D73\", \"#EEB5E9\", \"#618874\", \"#D0E389\", \"#3902EC\", \"#E18508\", \"#12851C\", \"#57B899\", \"#A27A0D\", \"#8FA1F5\", \"#C520FA\", \"#19B3C2\", \"#64F65C\", \"#EBD393\", \"#F62A2A\", \"#99ACEE\", \"#23D2D6\", \"#7277FE\", \"#64C380\"], \"line\": {\"color\": \"rgb(8,48,107)\", \"width\": 1.5}}, \"opacity\": 0.7, \"xaxis\": \"x2\", \"yaxis\": \"y2\"}], {\"xaxis1\": {\"domain\": [0.0, 0.45], \"anchor\": \"y1\"}, \"yaxis1\": {\"domain\": [0.0, 1.0], \"anchor\": \"x1\", \"title\": \"Count\"}, \"xaxis2\": {\"domain\": [0.55, 1.0], \"anchor\": \"y2\"}, \"yaxis2\": {\"domain\": [0.0, 1.0], \"anchor\": \"x2\", \"range\": [0, 1], \"title\": \"% Survived\"}, \"annotations\": [{\"y\": 1.0, \"xref\": \"paper\", \"x\": 0.225, \"yref\": \"paper\", \"text\": \"Count\", \"showarrow\": false, \"font\": {\"size\": 16}, \"xanchor\": \"center\", \"yanchor\": \"bottom\"}, {\"y\": 1.0, \"xref\": \"paper\", \"x\": 0.775, \"yref\": \"paper\", \"text\": \"Percent\", \"showarrow\": false, \"font\": {\"size\": 16}, \"xanchor\": \"center\", \"yanchor\": \"bottom\"}], \"title\": \"Age\", \"margin\": {\"l\": 100}, \"width\": 800, \"height\": 400, \"showlegend\": false}, {\"showLink\": true, \"linkText\": \"Export to plot.ly\"})});</script>"
      ],
      "text/vnd.plotly.v1+html": [
       "<div id=\"38bbc5a8-f9d1-42ac-af17-2d8717eb16d6\" style=\"height: 400px; width: 800px;\" class=\"plotly-graph-div\"></div><script type=\"text/javascript\">require([\"plotly\"], function(Plotly) { window.PLOTLYENV=window.PLOTLYENV || {};window.PLOTLYENV.BASE_URL=\"https://plot.ly\";Plotly.newPlot(\"38bbc5a8-f9d1-42ac-af17-2d8717eb16d6\", [{\"type\": \"bar\", \"x\": [\"Old\", \"Young\", \"Child\"], \"y\": [173, 649, 69], \"text\": [173, 649, 69], \"textposition\": \"auto\", \"textfont\": {\"size\": 0, \"color\": \"rgb(0, 0, 0)\"}, \"name\": \"Count\", \"orientation\": \"v\", \"marker\": {\"color\": [\"#8D4799\", \"#7FFA83\", \"#4F9E88\", \"#C4CBD0\", \"#69E87E\", \"#B36270\", \"#B48DE9\", \"#A6F806\", \"#4EE28D\", \"#5452CC\", \"#70FB24\", \"#FEF29F\", \"#48F81E\", \"#B0DBAC\", \"#770505\", \"#2C4E45\", \"#801347\", \"#5FD70D\", \"#56B270\", \"#DD5DB5\", \"#A63980\", \"#1C9D3B\", \"#96536C\", \"#3470B3\", \"#3019FE\", \"#1C2918\", \"#FE7BA4\", \"#FCF375\", \"#F7FA68\", \"#46A1A2\", \"#5FBE97\", \"#D29C8F\", \"#B2F3A7\", \"#E1B5D0\", \"#3F9A49\", \"#40794E\", \"#C9F078\", \"#0D8B7F\", \"#CB433D\", \"#4A2D2A\", \"#AA53FF\", \"#10C43F\", \"#3D65E8\", \"#6EA70F\", \"#0608E4\", \"#30CD47\", \"#E79866\", \"#9D2B6C\", \"#D33465\", \"#795647\", \"#BE0059\", \"#FC32D8\", \"#0A3066\", \"#94F536\", \"#8621FE\", \"#1089E4\", \"#08F6D6\", \"#F8F929\", \"#16FB42\", \"#E5EAC7\", \"#030786\", \"#28AF64\", \"#A0C86C\", \"#263F17\", \"#7E9771\", \"#C6BAAE\", \"#071CD3\", \"#864834\", \"#08D7B1\", \"#91886D\", \"#AFEEEC\", \"#110743\", \"#A27D18\", \"#17D185\", \"#E47BCB\", \"#F0C3B4\", \"#BF96F3\", \"#A8132D\", \"#94B0FB\", \"#4C27F5\", \"#77FDA7\", \"#35F2F3\", \"#34E69B\", \"#BD1421\", \"#A2008E\", \"#3143CE\", \"#2DAEBA\", \"#AF743A\", \"#15D84F\", \"#6102DE\", \"#BBDBA6\", \"#24D73E\", \"#449DC4\", \"#A142D8\", \"#DF28FF\", \"#A0DB84\", \"#54BE49\", \"#00DBC2\", \"#F553B9\", \"#831315\"], \"line\": {\"color\": \"rgb(8,48,107)\", \"width\": 1.5}}, \"opacity\": 0.7, \"xaxis\": \"x1\", \"yaxis\": \"y1\"}, {\"type\": \"bar\", \"x\": [\"Old\", \"Young\", \"Child\"], \"y\": [0.3468208092485549, 0.3728813559322034, 0.5797101449275363], \"text\": [[\"Old\", 0.3468208092485549], [\"Young\", 0.3728813559322034], [\"Child\", 0.5797101449275363]], \"textposition\": \"auto\", \"name\": \"Percent\", \"textfont\": {\"size\": 12, \"color\": \"rgb(0, 0, 0)\"}, \"orientation\": \"v\", \"marker\": {\"color\": [\"#B0A461\", \"#4246FA\", \"#C0BDD9\", \"#2ECE38\", \"#E2279D\", \"#8FB47A\", \"#DF50FB\", \"#1F6815\", \"#7A8749\", \"#53F20D\", \"#9FA2C8\", \"#CC77D3\", \"#2FDA80\", \"#0DCCBE\", \"#7156BB\", \"#D2910C\", \"#B61BD5\", \"#BD793B\", \"#954021\", \"#91F438\", \"#FE7C75\", \"#2DABBB\", \"#22C89F\", \"#DDE0BC\", \"#32CD0C\", \"#BC253E\", \"#0D5A14\", \"#6B2404\", \"#3E1D31\", \"#75C3EF\", \"#0F6718\", \"#69B0FE\", \"#6527FC\", \"#4AA86E\", \"#7F9DA8\", \"#60BF1B\", \"#4E0D49\", \"#2D7AF5\", \"#994FB2\", \"#63B586\", \"#CE9152\", \"#05AF6F\", \"#6E6B05\", \"#86D681\", \"#D45335\", \"#23570F\", \"#C7B38C\", \"#B38D98\", \"#660E0A\", \"#3700F2\", \"#FDA686\", \"#6DFFA0\", \"#86DB70\", \"#A95677\", \"#EF0577\", \"#D71ABC\", \"#09AC36\", \"#519D89\", \"#93EA5D\", \"#6F22C7\", \"#644EF0\", \"#116066\", \"#52779D\", \"#4878C8\", \"#E3F01A\", \"#80CF5C\", \"#BEB098\", \"#AF9F61\", \"#542E25\", \"#9255B3\", \"#AA157C\", \"#3542F2\", \"#0BB076\", \"#508481\", \"#15AD34\", \"#19B8B3\", \"#C88057\", \"#D9433A\", \"#13CC4E\", \"#24CD7E\", \"#E48370\", \"#D15D73\", \"#EEB5E9\", \"#618874\", \"#D0E389\", \"#3902EC\", \"#E18508\", \"#12851C\", \"#57B899\", \"#A27A0D\", \"#8FA1F5\", \"#C520FA\", \"#19B3C2\", \"#64F65C\", \"#EBD393\", \"#F62A2A\", \"#99ACEE\", \"#23D2D6\", \"#7277FE\", \"#64C380\"], \"line\": {\"color\": \"rgb(8,48,107)\", \"width\": 1.5}}, \"opacity\": 0.7, \"xaxis\": \"x2\", \"yaxis\": \"y2\"}], {\"xaxis1\": {\"domain\": [0.0, 0.45], \"anchor\": \"y1\"}, \"yaxis1\": {\"domain\": [0.0, 1.0], \"anchor\": \"x1\", \"title\": \"Count\"}, \"xaxis2\": {\"domain\": [0.55, 1.0], \"anchor\": \"y2\"}, \"yaxis2\": {\"domain\": [0.0, 1.0], \"anchor\": \"x2\", \"range\": [0, 1], \"title\": \"% Survived\"}, \"annotations\": [{\"y\": 1.0, \"xref\": \"paper\", \"x\": 0.225, \"yref\": \"paper\", \"text\": \"Count\", \"showarrow\": false, \"font\": {\"size\": 16}, \"xanchor\": \"center\", \"yanchor\": \"bottom\"}, {\"y\": 1.0, \"xref\": \"paper\", \"x\": 0.775, \"yref\": \"paper\", \"text\": \"Percent\", \"showarrow\": false, \"font\": {\"size\": 16}, \"xanchor\": \"center\", \"yanchor\": \"bottom\"}], \"title\": \"Age\", \"margin\": {\"l\": 100}, \"width\": 800, \"height\": 400, \"showlegend\": false}, {\"showLink\": true, \"linkText\": \"Export to plot.ly\"})});</script>"
      ]
     },
     "metadata": {},
     "output_type": "display_data"
    }
   ],
   "source": [
    "temp_col = train_df.columns.values[5]\n",
    "plot_count_percent_for_object(train_df, temp_col)"
   ]
  },
  {
   "cell_type": "markdown",
   "metadata": {},
   "source": [
    "We may infer from this plot that since there were limited lifeboats, they preferred children and old people in sending them on the lifeboats."
   ]
  },
  {
   "cell_type": "code",
   "execution_count": 30,
   "metadata": {},
   "outputs": [
    {
     "data": {
      "text/html": [
       "<div>\n",
       "<style scoped>\n",
       "    .dataframe tbody tr th:only-of-type {\n",
       "        vertical-align: middle;\n",
       "    }\n",
       "\n",
       "    .dataframe tbody tr th {\n",
       "        vertical-align: top;\n",
       "    }\n",
       "\n",
       "    .dataframe thead th {\n",
       "        text-align: right;\n",
       "    }\n",
       "</style>\n",
       "<table border=\"1\" class=\"dataframe\">\n",
       "  <thead>\n",
       "    <tr style=\"text-align: right;\">\n",
       "      <th></th>\n",
       "      <th>PassengerId</th>\n",
       "      <th>Survived</th>\n",
       "      <th>Pclass</th>\n",
       "      <th>Name</th>\n",
       "      <th>Sex</th>\n",
       "      <th>Age</th>\n",
       "      <th>Ticket</th>\n",
       "      <th>Fare</th>\n",
       "      <th>Cabin</th>\n",
       "      <th>Embarked</th>\n",
       "      <th>Title</th>\n",
       "      <th>family</th>\n",
       "      <th>family_status</th>\n",
       "    </tr>\n",
       "  </thead>\n",
       "  <tbody>\n",
       "    <tr>\n",
       "      <th>0</th>\n",
       "      <td>1</td>\n",
       "      <td>0</td>\n",
       "      <td>3</td>\n",
       "      <td>Braund, Mr. Owen Harris</td>\n",
       "      <td>male</td>\n",
       "      <td>Young</td>\n",
       "      <td>A/5 21171</td>\n",
       "      <td>7.2500</td>\n",
       "      <td>NaN</td>\n",
       "      <td>S</td>\n",
       "      <td>Mr</td>\n",
       "      <td>2</td>\n",
       "      <td>NotAlone</td>\n",
       "    </tr>\n",
       "    <tr>\n",
       "      <th>1</th>\n",
       "      <td>2</td>\n",
       "      <td>1</td>\n",
       "      <td>1</td>\n",
       "      <td>Cumings, Mrs. John Bradley (Florence Briggs Th...</td>\n",
       "      <td>female</td>\n",
       "      <td>Young</td>\n",
       "      <td>PC 17599</td>\n",
       "      <td>71.2833</td>\n",
       "      <td>C85</td>\n",
       "      <td>C</td>\n",
       "      <td>Mrs</td>\n",
       "      <td>2</td>\n",
       "      <td>NotAlone</td>\n",
       "    </tr>\n",
       "    <tr>\n",
       "      <th>2</th>\n",
       "      <td>3</td>\n",
       "      <td>1</td>\n",
       "      <td>3</td>\n",
       "      <td>Heikkinen, Miss. Laina</td>\n",
       "      <td>female</td>\n",
       "      <td>Young</td>\n",
       "      <td>STON/O2. 3101282</td>\n",
       "      <td>7.9250</td>\n",
       "      <td>NaN</td>\n",
       "      <td>S</td>\n",
       "      <td>Miss</td>\n",
       "      <td>1</td>\n",
       "      <td>Alone</td>\n",
       "    </tr>\n",
       "    <tr>\n",
       "      <th>3</th>\n",
       "      <td>4</td>\n",
       "      <td>1</td>\n",
       "      <td>1</td>\n",
       "      <td>Futrelle, Mrs. Jacques Heath (Lily May Peel)</td>\n",
       "      <td>female</td>\n",
       "      <td>Young</td>\n",
       "      <td>113803</td>\n",
       "      <td>53.1000</td>\n",
       "      <td>C123</td>\n",
       "      <td>S</td>\n",
       "      <td>Mrs</td>\n",
       "      <td>2</td>\n",
       "      <td>NotAlone</td>\n",
       "    </tr>\n",
       "    <tr>\n",
       "      <th>4</th>\n",
       "      <td>5</td>\n",
       "      <td>0</td>\n",
       "      <td>3</td>\n",
       "      <td>Allen, Mr. William Henry</td>\n",
       "      <td>male</td>\n",
       "      <td>Young</td>\n",
       "      <td>373450</td>\n",
       "      <td>8.0500</td>\n",
       "      <td>NaN</td>\n",
       "      <td>S</td>\n",
       "      <td>Mr</td>\n",
       "      <td>1</td>\n",
       "      <td>Alone</td>\n",
       "    </tr>\n",
       "  </tbody>\n",
       "</table>\n",
       "</div>"
      ],
      "text/plain": [
       "   PassengerId  Survived  Pclass  \\\n",
       "0            1         0       3   \n",
       "1            2         1       1   \n",
       "2            3         1       3   \n",
       "3            4         1       1   \n",
       "4            5         0       3   \n",
       "\n",
       "                                                Name     Sex    Age  \\\n",
       "0                            Braund, Mr. Owen Harris    male  Young   \n",
       "1  Cumings, Mrs. John Bradley (Florence Briggs Th...  female  Young   \n",
       "2                             Heikkinen, Miss. Laina  female  Young   \n",
       "3       Futrelle, Mrs. Jacques Heath (Lily May Peel)  female  Young   \n",
       "4                           Allen, Mr. William Henry    male  Young   \n",
       "\n",
       "             Ticket     Fare Cabin Embarked Title  family family_status  \n",
       "0         A/5 21171   7.2500   NaN        S    Mr       2      NotAlone  \n",
       "1          PC 17599  71.2833   C85        C   Mrs       2      NotAlone  \n",
       "2  STON/O2. 3101282   7.9250   NaN        S  Miss       1         Alone  \n",
       "3            113803  53.1000  C123        S   Mrs       2      NotAlone  \n",
       "4            373450   8.0500   NaN        S    Mr       1         Alone  "
      ]
     },
     "execution_count": 30,
     "metadata": {},
     "output_type": "execute_result"
    }
   ],
   "source": [
    "train_df.head()"
   ]
  },
  {
   "cell_type": "markdown",
   "metadata": {},
   "source": [
    "Passenger Id and Ticket are just random variables and they do not give any intuition for their relation with the chances of survival of a passenger. So, we would like to drop these variables. Cabin variable has more than 75% missing data, so we would want to drop this variable. Also, we have already extracted out the useful information from the Name variable, so we would drop this variable as well.  "
   ]
  },
  {
   "cell_type": "code",
   "execution_count": 31,
   "metadata": {},
   "outputs": [],
   "source": [
    "drop = ['Name', 'PassengerId', 'Ticket', 'Cabin']\n",
    "train_df = train_df.drop(drop, axis=1)\n",
    "test_df = test_df.drop(drop, axis=1)"
   ]
  },
  {
   "cell_type": "markdown",
   "metadata": {},
   "source": [
    "## Encode the categorical variable\n",
    "A machine learning model unfortunately cannot deal with categorical variables, except for some models such as LightGBM. Hence, we need to find a way to encode these variables as numbers before feeding them to our model. There are many types of encoding techniques but the two main techniques are:\n",
    "\n",
    "- Label Encoding: assign each unique class in a categorical variable with an integer, randomly. No new columns are created\n",
    "- One Hot Encoding: create a new column for each unique class in a categorical variable. Each entry recieves a 1 in the column for its corresponding class and a 0 in all other new columns\n",
    "\n",
    "The drawback of the label encoding is that it assigns arbitrary ordering to the classes of the categorical variables which do not reflect the inherent properties/information of that variable and label encoding may be misleading in this case. When we have only 2 unique classes (like male/female) for a categorical variable or if we have more than 2 unique classes and we already know the relative ordering of the classes (like, low/medium/high), then we can go with label encoding but here also, we need to ensure that the integer values assigned to these classes align with the relative order of the classes (like, low=0, medium=1 and high=2), otherwise one-hot encoding is the safe option.\n",
    "\n",
    "The drawback of the one-hot encoding is that the number of new columns/features (dimensions of the data) can explode with the categorical variable having many unique classes because there will be a new column for each unique class in the variable. To deal with the feature exploding problem, we can use dimensionality reduction techniques like, Principal Component Analysis (PCA) after one-hot encoding.   "
   ]
  },
  {
   "cell_type": "markdown",
   "metadata": {},
   "source": [
    "### Label Encoding \n",
    "In this notebook, we will implement label encoding for any categorical variable which have 2 unique classes"
   ]
  },
  {
   "cell_type": "code",
   "execution_count": 32,
   "metadata": {},
   "outputs": [
    {
     "name": "stdout",
     "output_type": "stream",
     "text": [
      "2 columns were label encoded.\n"
     ]
    }
   ],
   "source": [
    "# Create a label encoder object\n",
    "encoder = LabelEncoder()\n",
    "encoder_count = 0\n",
    "\n",
    "# Iterate through the columns\n",
    "for col in train_df:\n",
    "    if train_df[col].dtype == 'object':\n",
    "        # If 2 unique classes\n",
    "        if len(list(train_df[col].unique())) <= 2:\n",
    "            encoder.fit(train_df[col])\n",
    "            train_df[col] = encoder.transform(train_df[col])\n",
    "            test_df[col] = encoder.transform(test_df[col])\n",
    "            # Keep track of how many columns were label encoded\n",
    "            encoder_count += 1\n",
    "            \n",
    "print('%d columns were label encoded.' % encoder_count)"
   ]
  },
  {
   "cell_type": "markdown",
   "metadata": {},
   "source": [
    "Since, sex and family_status are 2 categorical variables with 2 unique classes, they are label encoded. We can also implement label encoding with the Age variable even if it has more than 2 unique classes, because we know the relative ordering of the classes, age_old > age_young > age_child "
   ]
  },
  {
   "cell_type": "code",
   "execution_count": 33,
   "metadata": {},
   "outputs": [],
   "source": [
    "dict1 = {'Child':1, 'Young':2, 'Old':3}\n",
    "train_df['Age'] = train_df['Age'].replace(dict1)\n",
    "test_df['Age'] = test_df['Age'].replace(dict1)"
   ]
  },
  {
   "cell_type": "markdown",
   "metadata": {},
   "source": [
    "### One-Hot Encoding "
   ]
  },
  {
   "cell_type": "code",
   "execution_count": 34,
   "metadata": {},
   "outputs": [],
   "source": [
    "# one-hot encoding of categorical variables\n",
    "train_df = pd.get_dummies(train_df)\n",
    "test_df = pd.get_dummies(test_df)"
   ]
  },
  {
   "cell_type": "code",
   "execution_count": 35,
   "metadata": {},
   "outputs": [
    {
     "data": {
      "text/html": [
       "<div>\n",
       "<style scoped>\n",
       "    .dataframe tbody tr th:only-of-type {\n",
       "        vertical-align: middle;\n",
       "    }\n",
       "\n",
       "    .dataframe tbody tr th {\n",
       "        vertical-align: top;\n",
       "    }\n",
       "\n",
       "    .dataframe thead th {\n",
       "        text-align: right;\n",
       "    }\n",
       "</style>\n",
       "<table border=\"1\" class=\"dataframe\">\n",
       "  <thead>\n",
       "    <tr style=\"text-align: right;\">\n",
       "      <th></th>\n",
       "      <th>Survived</th>\n",
       "      <th>Pclass</th>\n",
       "      <th>Sex</th>\n",
       "      <th>Age</th>\n",
       "      <th>Fare</th>\n",
       "      <th>family</th>\n",
       "      <th>family_status</th>\n",
       "      <th>Embarked_C</th>\n",
       "      <th>Embarked_Q</th>\n",
       "      <th>Embarked_S</th>\n",
       "      <th>Title_Master</th>\n",
       "      <th>Title_Miss</th>\n",
       "      <th>Title_Mr</th>\n",
       "      <th>Title_Mrs</th>\n",
       "      <th>Title_Others</th>\n",
       "    </tr>\n",
       "  </thead>\n",
       "  <tbody>\n",
       "    <tr>\n",
       "      <th>0</th>\n",
       "      <td>0</td>\n",
       "      <td>3</td>\n",
       "      <td>1</td>\n",
       "      <td>2</td>\n",
       "      <td>7.2500</td>\n",
       "      <td>2</td>\n",
       "      <td>1</td>\n",
       "      <td>0</td>\n",
       "      <td>0</td>\n",
       "      <td>1</td>\n",
       "      <td>0</td>\n",
       "      <td>0</td>\n",
       "      <td>1</td>\n",
       "      <td>0</td>\n",
       "      <td>0</td>\n",
       "    </tr>\n",
       "    <tr>\n",
       "      <th>1</th>\n",
       "      <td>1</td>\n",
       "      <td>1</td>\n",
       "      <td>0</td>\n",
       "      <td>2</td>\n",
       "      <td>71.2833</td>\n",
       "      <td>2</td>\n",
       "      <td>1</td>\n",
       "      <td>1</td>\n",
       "      <td>0</td>\n",
       "      <td>0</td>\n",
       "      <td>0</td>\n",
       "      <td>0</td>\n",
       "      <td>0</td>\n",
       "      <td>1</td>\n",
       "      <td>0</td>\n",
       "    </tr>\n",
       "    <tr>\n",
       "      <th>2</th>\n",
       "      <td>1</td>\n",
       "      <td>3</td>\n",
       "      <td>0</td>\n",
       "      <td>2</td>\n",
       "      <td>7.9250</td>\n",
       "      <td>1</td>\n",
       "      <td>0</td>\n",
       "      <td>0</td>\n",
       "      <td>0</td>\n",
       "      <td>1</td>\n",
       "      <td>0</td>\n",
       "      <td>1</td>\n",
       "      <td>0</td>\n",
       "      <td>0</td>\n",
       "      <td>0</td>\n",
       "    </tr>\n",
       "    <tr>\n",
       "      <th>3</th>\n",
       "      <td>1</td>\n",
       "      <td>1</td>\n",
       "      <td>0</td>\n",
       "      <td>2</td>\n",
       "      <td>53.1000</td>\n",
       "      <td>2</td>\n",
       "      <td>1</td>\n",
       "      <td>0</td>\n",
       "      <td>0</td>\n",
       "      <td>1</td>\n",
       "      <td>0</td>\n",
       "      <td>0</td>\n",
       "      <td>0</td>\n",
       "      <td>1</td>\n",
       "      <td>0</td>\n",
       "    </tr>\n",
       "    <tr>\n",
       "      <th>4</th>\n",
       "      <td>0</td>\n",
       "      <td>3</td>\n",
       "      <td>1</td>\n",
       "      <td>2</td>\n",
       "      <td>8.0500</td>\n",
       "      <td>1</td>\n",
       "      <td>0</td>\n",
       "      <td>0</td>\n",
       "      <td>0</td>\n",
       "      <td>1</td>\n",
       "      <td>0</td>\n",
       "      <td>0</td>\n",
       "      <td>1</td>\n",
       "      <td>0</td>\n",
       "      <td>0</td>\n",
       "    </tr>\n",
       "  </tbody>\n",
       "</table>\n",
       "</div>"
      ],
      "text/plain": [
       "   Survived  Pclass  Sex  Age     Fare  family  family_status  Embarked_C  \\\n",
       "0         0       3    1    2   7.2500       2              1           0   \n",
       "1         1       1    0    2  71.2833       2              1           1   \n",
       "2         1       3    0    2   7.9250       1              0           0   \n",
       "3         1       1    0    2  53.1000       2              1           0   \n",
       "4         0       3    1    2   8.0500       1              0           0   \n",
       "\n",
       "   Embarked_Q  Embarked_S  Title_Master  Title_Miss  Title_Mr  Title_Mrs  \\\n",
       "0           0           1             0           0         1          0   \n",
       "1           0           0             0           0         0          1   \n",
       "2           0           1             0           1         0          0   \n",
       "3           0           1             0           0         0          1   \n",
       "4           0           1             0           0         1          0   \n",
       "\n",
       "   Title_Others  \n",
       "0             0  \n",
       "1             0  \n",
       "2             0  \n",
       "3             0  \n",
       "4             0  "
      ]
     },
     "execution_count": 35,
     "metadata": {},
     "output_type": "execute_result"
    }
   ],
   "source": [
    "train_df.head()"
   ]
  },
  {
   "cell_type": "code",
   "execution_count": 36,
   "metadata": {},
   "outputs": [
    {
     "data": {
      "text/html": [
       "<div>\n",
       "<style scoped>\n",
       "    .dataframe tbody tr th:only-of-type {\n",
       "        vertical-align: middle;\n",
       "    }\n",
       "\n",
       "    .dataframe tbody tr th {\n",
       "        vertical-align: top;\n",
       "    }\n",
       "\n",
       "    .dataframe thead th {\n",
       "        text-align: right;\n",
       "    }\n",
       "</style>\n",
       "<table border=\"1\" class=\"dataframe\">\n",
       "  <thead>\n",
       "    <tr style=\"text-align: right;\">\n",
       "      <th></th>\n",
       "      <th>Pclass</th>\n",
       "      <th>Sex</th>\n",
       "      <th>Age</th>\n",
       "      <th>Fare</th>\n",
       "      <th>family</th>\n",
       "      <th>family_status</th>\n",
       "      <th>Embarked_C</th>\n",
       "      <th>Embarked_Q</th>\n",
       "      <th>Embarked_S</th>\n",
       "      <th>Title_Master</th>\n",
       "      <th>Title_Miss</th>\n",
       "      <th>Title_Mr</th>\n",
       "      <th>Title_Mrs</th>\n",
       "      <th>Title_Others</th>\n",
       "    </tr>\n",
       "  </thead>\n",
       "  <tbody>\n",
       "    <tr>\n",
       "      <th>0</th>\n",
       "      <td>3</td>\n",
       "      <td>1</td>\n",
       "      <td>2.0</td>\n",
       "      <td>7.8292</td>\n",
       "      <td>1</td>\n",
       "      <td>0</td>\n",
       "      <td>0</td>\n",
       "      <td>1</td>\n",
       "      <td>0</td>\n",
       "      <td>0</td>\n",
       "      <td>0</td>\n",
       "      <td>1</td>\n",
       "      <td>0</td>\n",
       "      <td>0</td>\n",
       "    </tr>\n",
       "    <tr>\n",
       "      <th>1</th>\n",
       "      <td>3</td>\n",
       "      <td>0</td>\n",
       "      <td>3.0</td>\n",
       "      <td>7.0000</td>\n",
       "      <td>2</td>\n",
       "      <td>1</td>\n",
       "      <td>0</td>\n",
       "      <td>0</td>\n",
       "      <td>1</td>\n",
       "      <td>0</td>\n",
       "      <td>0</td>\n",
       "      <td>0</td>\n",
       "      <td>1</td>\n",
       "      <td>0</td>\n",
       "    </tr>\n",
       "    <tr>\n",
       "      <th>2</th>\n",
       "      <td>2</td>\n",
       "      <td>1</td>\n",
       "      <td>3.0</td>\n",
       "      <td>9.6875</td>\n",
       "      <td>1</td>\n",
       "      <td>0</td>\n",
       "      <td>0</td>\n",
       "      <td>1</td>\n",
       "      <td>0</td>\n",
       "      <td>0</td>\n",
       "      <td>0</td>\n",
       "      <td>1</td>\n",
       "      <td>0</td>\n",
       "      <td>0</td>\n",
       "    </tr>\n",
       "    <tr>\n",
       "      <th>3</th>\n",
       "      <td>3</td>\n",
       "      <td>1</td>\n",
       "      <td>2.0</td>\n",
       "      <td>8.6625</td>\n",
       "      <td>1</td>\n",
       "      <td>0</td>\n",
       "      <td>0</td>\n",
       "      <td>0</td>\n",
       "      <td>1</td>\n",
       "      <td>0</td>\n",
       "      <td>0</td>\n",
       "      <td>1</td>\n",
       "      <td>0</td>\n",
       "      <td>0</td>\n",
       "    </tr>\n",
       "    <tr>\n",
       "      <th>4</th>\n",
       "      <td>3</td>\n",
       "      <td>0</td>\n",
       "      <td>2.0</td>\n",
       "      <td>12.2875</td>\n",
       "      <td>3</td>\n",
       "      <td>1</td>\n",
       "      <td>0</td>\n",
       "      <td>0</td>\n",
       "      <td>1</td>\n",
       "      <td>0</td>\n",
       "      <td>0</td>\n",
       "      <td>0</td>\n",
       "      <td>1</td>\n",
       "      <td>0</td>\n",
       "    </tr>\n",
       "  </tbody>\n",
       "</table>\n",
       "</div>"
      ],
      "text/plain": [
       "   Pclass  Sex  Age     Fare  family  family_status  Embarked_C  Embarked_Q  \\\n",
       "0       3    1  2.0   7.8292       1              0           0           1   \n",
       "1       3    0  3.0   7.0000       2              1           0           0   \n",
       "2       2    1  3.0   9.6875       1              0           0           1   \n",
       "3       3    1  2.0   8.6625       1              0           0           0   \n",
       "4       3    0  2.0  12.2875       3              1           0           0   \n",
       "\n",
       "   Embarked_S  Title_Master  Title_Miss  Title_Mr  Title_Mrs  Title_Others  \n",
       "0           0             0           0         1          0             0  \n",
       "1           1             0           0         0          1             0  \n",
       "2           0             0           0         1          0             0  \n",
       "3           1             0           0         1          0             0  \n",
       "4           1             0           0         0          1             0  "
      ]
     },
     "execution_count": 36,
     "metadata": {},
     "output_type": "execute_result"
    }
   ],
   "source": [
    "test_df.head()"
   ]
  },
  {
   "cell_type": "code",
   "execution_count": 37,
   "metadata": {},
   "outputs": [
    {
     "name": "stdout",
     "output_type": "stream",
     "text": [
      "(891, 15)\n",
      "(418, 14)\n"
     ]
    }
   ],
   "source": [
    "train = train_df\n",
    "test = test_df\n",
    "\n",
    "print(train.shape)\n",
    "print(test.shape)"
   ]
  },
  {
   "cell_type": "code",
   "execution_count": 38,
   "metadata": {},
   "outputs": [],
   "source": [
    "y = train['Survived']\n",
    "x = train.drop('Survived', axis=1)"
   ]
  },
  {
   "cell_type": "markdown",
   "metadata": {},
   "source": [
    "Data preprocessing is complete. Here x represents features and y represents labels."
   ]
  },
  {
   "cell_type": "markdown",
   "metadata": {},
   "source": [
    "# Build the Machine Learning Model\n",
    "The problem that we are solving is a binary classification problem and since we are given the target variable or the labels, it is a supervised learning. There is No Free Lunch (NFL) theorem in ,achine learning which states that no algorithm is the best for the generic case and all special cases. So, to build an efficient model, we need to compare the performance of various machine learning classification algorithms. But since we have identified our solution as a supervised learning classification algorithm, we can narrow down our list of choices.\n",
    "\n",
    "__Machine Learning Classificaton Algorithms:__\n",
    "- Generalized Linear Models (GLM)\n",
    "- Support Vector Machines (SVM)\n",
    "- Discriminant Analysis\n",
    "- Nearest Neighbors\n",
    "- Naive Bayes\n",
    "- Decision Trees\n",
    "- Ensemble Methods"
   ]
  },
  {
   "cell_type": "markdown",
   "metadata": {},
   "source": [
    "## Imports"
   ]
  },
  {
   "cell_type": "code",
   "execution_count": 39,
   "metadata": {},
   "outputs": [],
   "source": [
    "from sklearn.model_selection import cross_validate, ShuffleSplit, GridSearchCV\n",
    "from sklearn.linear_model import LogisticRegressionCV, SGDClassifier\n",
    "from sklearn import ensemble, naive_bayes, svm, tree, discriminant_analysis, neighbors, feature_selection"
   ]
  },
  {
   "cell_type": "markdown",
   "metadata": {},
   "source": [
    "First, run the algorithms with the default parameters to get an idea about their performances on our data and then we would tune the parameters of better performing algorithms to improve their performances."
   ]
  },
  {
   "cell_type": "code",
   "execution_count": null,
   "metadata": {},
   "outputs": [],
   "source": [
    "MLA = [    \n",
    "        # Generalized Linear Models\n",
    "        LogisticRegressionCV(),\n",
    "    \n",
    "        # SVM\n",
    "        svm.SVC(probability = True),\n",
    "        svm.LinearSVC(),\n",
    "    \n",
    "        # KNN\n",
    "        neighbors.KNeighborsClassifier(weights='distance'),\n",
    "    \n",
    "        #Discriminant Analysis\n",
    "        discriminant_analysis.LinearDiscriminantAnalysis(),\n",
    "        discriminant_analysis.QuadraticDiscriminantAnalysis(),\n",
    "     \n",
    "        # Naive Bayes\n",
    "        naive_bayes.BernoulliNB(),\n",
    "        naive_bayes.GaussianNB(),\n",
    "    \n",
    "        #Trees    \n",
    "        tree.DecisionTreeClassifier(),\n",
    "    \n",
    "        # Ensemble Methods\n",
    "        ensemble.AdaBoostClassifier(),\n",
    "        ensemble.BaggingClassifier(),\n",
    "        ensemble.ExtraTreesClassifier(),\n",
    "        ensemble.GradientBoostingClassifier(),\n",
    "        ensemble.RandomForestClassifier()\n",
    "     \n",
    "    ]\n",
    "\n",
    "cv_split = ShuffleSplit(n_splits = 10, test_size = .3, train_size = .7, random_state = 0)\n",
    "MLA_columns = ['MLA Name','MLA Train Accuracy Mean', 'MLA Test Accuracy Mean','MLA Time']\n",
    "MLA_compare = pd.DataFrame(columns = MLA_columns)\n",
    "\n",
    "row_index = 0\n",
    "for alg in MLA:\n",
    "    MLA_name = alg.__class__.__name__\n",
    "    MLA_compare.loc[row_index, 'MLA Name'] = MLA_name\n",
    "    cv_results = cross_validate(alg, x,y, cv  = cv_split, return_train_score=True)\n",
    "    \n",
    "    MLA_compare.loc[row_index, 'MLA Time'] = cv_results['fit_time'].mean()\n",
    "    MLA_compare.loc[row_index, 'MLA Train Accuracy Mean'] = cv_results['train_score'].mean()\n",
    "    MLA_compare.loc[row_index, 'MLA Test Accuracy Mean'] = cv_results['test_score'].mean()   \n",
    "        \n",
    "    row_index+=1\n",
    "   \n",
    "\n",
    "MLA_compare.sort_values(by = ['MLA Test Accuracy Mean'], ascending = False, inplace = True)\n"
   ]
  },
  {
   "cell_type": "code",
   "execution_count": 54,
   "metadata": {},
   "outputs": [
    {
     "data": {
      "text/html": [
       "<div>\n",
       "<style scoped>\n",
       "    .dataframe tbody tr th:only-of-type {\n",
       "        vertical-align: middle;\n",
       "    }\n",
       "\n",
       "    .dataframe tbody tr th {\n",
       "        vertical-align: top;\n",
       "    }\n",
       "\n",
       "    .dataframe thead th {\n",
       "        text-align: right;\n",
       "    }\n",
       "</style>\n",
       "<table border=\"1\" class=\"dataframe\">\n",
       "  <thead>\n",
       "    <tr style=\"text-align: right;\">\n",
       "      <th></th>\n",
       "      <th>MLA Name</th>\n",
       "      <th>MLA Train Accuracy Mean</th>\n",
       "      <th>MLA Test Accuracy Mean</th>\n",
       "      <th>MLA Time</th>\n",
       "    </tr>\n",
       "  </thead>\n",
       "  <tbody>\n",
       "    <tr>\n",
       "      <th>12</th>\n",
       "      <td>GradientBoostingClassifier</td>\n",
       "      <td>0.9</td>\n",
       "      <td>0.831343</td>\n",
       "      <td>0.100674</td>\n",
       "    </tr>\n",
       "    <tr>\n",
       "      <th>4</th>\n",
       "      <td>LinearDiscriminantAnalysis</td>\n",
       "      <td>0.831782</td>\n",
       "      <td>0.827985</td>\n",
       "      <td>0.00320232</td>\n",
       "    </tr>\n",
       "    <tr>\n",
       "      <th>0</th>\n",
       "      <td>LogisticRegressionCV</td>\n",
       "      <td>0.830177</td>\n",
       "      <td>0.827612</td>\n",
       "      <td>0.429107</td>\n",
       "    </tr>\n",
       "    <tr>\n",
       "      <th>10</th>\n",
       "      <td>BaggingClassifier</td>\n",
       "      <td>0.933226</td>\n",
       "      <td>0.824254</td>\n",
       "      <td>0.0204202</td>\n",
       "    </tr>\n",
       "    <tr>\n",
       "      <th>9</th>\n",
       "      <td>AdaBoostClassifier</td>\n",
       "      <td>0.841252</td>\n",
       "      <td>0.822761</td>\n",
       "      <td>0.0848603</td>\n",
       "    </tr>\n",
       "    <tr>\n",
       "      <th>2</th>\n",
       "      <td>LinearSVC</td>\n",
       "      <td>0.813323</td>\n",
       "      <td>0.816045</td>\n",
       "      <td>0.0437334</td>\n",
       "    </tr>\n",
       "    <tr>\n",
       "      <th>11</th>\n",
       "      <td>ExtraTreesClassifier</td>\n",
       "      <td>0.943178</td>\n",
       "      <td>0.803731</td>\n",
       "      <td>0.0169101</td>\n",
       "    </tr>\n",
       "    <tr>\n",
       "      <th>13</th>\n",
       "      <td>RandomForestClassifier</td>\n",
       "      <td>0.931461</td>\n",
       "      <td>0.802985</td>\n",
       "      <td>0.0189078</td>\n",
       "    </tr>\n",
       "    <tr>\n",
       "      <th>8</th>\n",
       "      <td>DecisionTreeClassifier</td>\n",
       "      <td>0.943178</td>\n",
       "      <td>0.802612</td>\n",
       "      <td>0.00330343</td>\n",
       "    </tr>\n",
       "    <tr>\n",
       "      <th>1</th>\n",
       "      <td>SVC</td>\n",
       "      <td>0.841252</td>\n",
       "      <td>0.793657</td>\n",
       "      <td>0.0993717</td>\n",
       "    </tr>\n",
       "    <tr>\n",
       "      <th>6</th>\n",
       "      <td>BernoulliNB</td>\n",
       "      <td>0.79374</td>\n",
       "      <td>0.781343</td>\n",
       "      <td>0.00230157</td>\n",
       "    </tr>\n",
       "    <tr>\n",
       "      <th>7</th>\n",
       "      <td>GaussianNB</td>\n",
       "      <td>0.789888</td>\n",
       "      <td>0.779478</td>\n",
       "      <td>0.00220151</td>\n",
       "    </tr>\n",
       "    <tr>\n",
       "      <th>3</th>\n",
       "      <td>KNeighborsClassifier</td>\n",
       "      <td>0.940128</td>\n",
       "      <td>0.779104</td>\n",
       "      <td>0.00230162</td>\n",
       "    </tr>\n",
       "    <tr>\n",
       "      <th>5</th>\n",
       "      <td>QuadraticDiscriminantAnalysis</td>\n",
       "      <td>0.449599</td>\n",
       "      <td>0.444403</td>\n",
       "      <td>0.00282524</td>\n",
       "    </tr>\n",
       "  </tbody>\n",
       "</table>\n",
       "</div>"
      ],
      "text/plain": [
       "                         MLA Name MLA Train Accuracy Mean  \\\n",
       "12     GradientBoostingClassifier                     0.9   \n",
       "4      LinearDiscriminantAnalysis                0.831782   \n",
       "0            LogisticRegressionCV                0.830177   \n",
       "10              BaggingClassifier                0.933226   \n",
       "9              AdaBoostClassifier                0.841252   \n",
       "2                       LinearSVC                0.813323   \n",
       "11           ExtraTreesClassifier                0.943178   \n",
       "13         RandomForestClassifier                0.931461   \n",
       "8          DecisionTreeClassifier                0.943178   \n",
       "1                             SVC                0.841252   \n",
       "6                     BernoulliNB                 0.79374   \n",
       "7                      GaussianNB                0.789888   \n",
       "3            KNeighborsClassifier                0.940128   \n",
       "5   QuadraticDiscriminantAnalysis                0.449599   \n",
       "\n",
       "   MLA Test Accuracy Mean    MLA Time  \n",
       "12               0.831343    0.100674  \n",
       "4                0.827985  0.00320232  \n",
       "0                0.827612    0.429107  \n",
       "10               0.824254   0.0204202  \n",
       "9                0.822761   0.0848603  \n",
       "2                0.816045   0.0437334  \n",
       "11               0.803731   0.0169101  \n",
       "13               0.802985   0.0189078  \n",
       "8                0.802612  0.00330343  \n",
       "1                0.793657   0.0993717  \n",
       "6                0.781343  0.00230157  \n",
       "7                0.779478  0.00220151  \n",
       "3                0.779104  0.00230162  \n",
       "5                0.444403  0.00282524  "
      ]
     },
     "execution_count": 54,
     "metadata": {},
     "output_type": "execute_result"
    }
   ],
   "source": [
    "MLA_compare"
   ]
  },
  {
   "cell_type": "markdown",
   "metadata": {},
   "source": [
    "From the above results, it can be seen that __Gradient Boosting Classifier__ has the highest test accuracy but it has a lot of __overfitting__ since its training accuracy is around 90%, while its test accuracy is only around 83.13%. So, this algorithm cannot be trusted as it is for our model in terms of its generalization ability. So, we will tune some of the better performing algorithms by searching for the best parameters for them.   "
   ]
  },
  {
   "cell_type": "markdown",
   "metadata": {},
   "source": [
    "## Tuning the Model with Hyper-Parameters\n",
    "We will tune our model using Parameter Grid and Grid Search CV for different algorithms."
   ]
  },
  {
   "cell_type": "markdown",
   "metadata": {},
   "source": [
    "### Grid Search for SVM"
   ]
  },
  {
   "cell_type": "code",
   "execution_count": 56,
   "metadata": {},
   "outputs": [
    {
     "name": "stdout",
     "output_type": "stream",
     "text": [
      "epoch: 1 train_score: 0.841091492776886 test_score: 0.7985074626865671\n",
      "epoch: 2 train_score: 0.8443017656500803 test_score: 0.7835820895522388\n",
      "epoch: 3 train_score: 0.8378812199036918 test_score: 0.8134328358208955\n",
      "epoch: 4 train_score: 0.8491171749598716 test_score: 0.7761194029850746\n",
      "epoch: 5 train_score: 0.8394863563402889 test_score: 0.7985074626865671\n",
      "epoch: 6 train_score: 0.841091492776886 test_score: 0.8134328358208955\n",
      "epoch: 7 train_score: 0.8443017656500803 test_score: 0.7835820895522388\n",
      "epoch: 8 train_score: 0.8475120385232745 test_score: 0.7910447761194029\n",
      "epoch: 9 train_score: 0.8459069020866774 test_score: 0.75\n",
      "epoch: 10 train_score: 0.8218298555377207 test_score: 0.8283582089552238\n",
      "----------\n",
      "BEFORE Tuning Parameters:  {'C': 1.0, 'cache_size': 200, 'class_weight': None, 'coef0': 0.0, 'decision_function_shape': 'ovr', 'degree': 3, 'gamma': 'auto', 'kernel': 'rbf', 'max_iter': -1, 'probability': False, 'random_state': None, 'shrinking': True, 'tol': 0.001, 'verbose': False}\n",
      "BEFORE Tuning Training w/bin score mean: 84.13\n",
      "BEFORE Tuning Test w/bin score mean: 79.37\n",
      "----------\n",
      "epoch: 0 train_score: 0.8346709470304976 test_score: 0.8283582089552238\n",
      "epoch: 1 train_score: 0.8346709470304976 test_score: 0.7798507462686567\n",
      "epoch: 2 train_score: 0.8330658105939005 test_score: 0.835820895522388\n",
      "epoch: 3 train_score: 0.8394863563402889 test_score: 0.8171641791044776\n",
      "epoch: 4 train_score: 0.8105939004815409 test_score: 0.7910447761194029\n",
      "epoch: 5 train_score: 0.8314606741573034 test_score: 0.8283582089552238\n",
      "epoch: 6 train_score: 0.8298555377207063 test_score: 0.832089552238806\n",
      "epoch: 7 train_score: 0.8330658105939005 test_score: 0.832089552238806\n",
      "epoch: 8 train_score: 0.8218298555377207 test_score: 0.8432835820895522\n",
      "epoch: 9 train_score: 0.8186195826645265 test_score: 0.8694029850746269\n",
      "----------\n",
      "AFTER Tuning Parameters:  {'C': 1.0, 'gamma': 0.02, 'kernel': 'linear'}\n",
      "AFTER Tuning Training w/bin score mean: 82.87\n",
      "AFTER Tuning Test w/bin score mean: 82.57\n",
      "----------\n"
     ]
    }
   ],
   "source": [
    "# grid search for svm\n",
    "classifier = svm.SVC()\n",
    "base_results = cross_validate(classifier, x, y, cv  = cv_split, return_train_score=True)\n",
    "classifier.fit(x, y)\n",
    "\n",
    "epoch=0\n",
    "for train_score,test_score in zip(base_results['train_score'], base_results['test_score']):\n",
    "        epoch +=1       \n",
    "        print(\"epoch:\",epoch,\"train_score:\",train_score, \"test_score:\",test_score)\n",
    "print('-'*10)\n",
    "\n",
    "print('BEFORE Tuning Parameters: ', classifier.get_params())\n",
    "print(\"BEFORE Tuning Training w/bin score mean: {:.2f}\". format(base_results['train_score'].mean()*100)) \n",
    "print(\"BEFORE Tuning Test w/bin score mean: {:.2f}\". format(base_results['test_score'].mean()*100))\n",
    "print('-'*10)\n",
    "\n",
    "param_grid = {'C':[0.5,1.0,2.0, 3.0],  # penalty parameter C of the error term\n",
    "              'kernel':['linear', 'rbf'], # specifies the kernel type to be used in the algorithm  \n",
    "              'gamma':[0.02, 0.08,0.2,1.0] # kernel coefficient for 'rbf'\n",
    "             }\n",
    "\n",
    "# Grid Search\n",
    "tune_model = GridSearchCV(svm.SVC(), param_grid=param_grid, scoring = 'accuracy', cv = cv_split, return_train_score=True)\n",
    "tune_model.fit(x, y)\n",
    "\n",
    "for i in range(10):\n",
    "    print(\"epoch:\",i,\"train_score:\",tune_model.cv_results_['split'+str(i)+'_train_score'][tune_model.best_index_],\n",
    "    \"test_score:\",tune_model.cv_results_['split'+str(i)+'_test_score'][tune_model.best_index_])\n",
    "\n",
    "print('-'*10)    \n",
    "\n",
    "print('AFTER Tuning Parameters: ', tune_model.best_params_)\n",
    "print(\"AFTER Tuning Training w/bin score mean: {:.2f}\". format(tune_model.cv_results_['mean_train_score'][tune_model.best_index_]*100))\n",
    "print(\"AFTER Tuning Test w/bin score mean: {:.2f}\". format(tune_model.cv_results_['mean_test_score'][tune_model.best_index_]*100))\n",
    "print('-'*10)\n"
   ]
  },
  {
   "cell_type": "markdown",
   "metadata": {},
   "source": [
    "### Grid Search for Decision Trees"
   ]
  },
  {
   "cell_type": "code",
   "execution_count": 101,
   "metadata": {},
   "outputs": [
    {
     "name": "stdout",
     "output_type": "stream",
     "text": [
      "epoch: 1 train_score: 0.9390048154093098 test_score: 0.7686567164179104\n",
      "epoch: 2 train_score: 0.9406099518459069 test_score: 0.7985074626865671\n",
      "epoch: 3 train_score: 0.9502407704654896 test_score: 0.8208955223880597\n",
      "epoch: 4 train_score: 0.9454253611556982 test_score: 0.7835820895522388\n",
      "epoch: 5 train_score: 0.9406099518459069 test_score: 0.7873134328358209\n",
      "epoch: 6 train_score: 0.9454253611556982 test_score: 0.8283582089552238\n",
      "epoch: 7 train_score: 0.9502407704654896 test_score: 0.8022388059701493\n",
      "epoch: 8 train_score: 0.9454253611556982 test_score: 0.835820895522388\n",
      "epoch: 9 train_score: 0.9406099518459069 test_score: 0.753731343283582\n",
      "epoch: 10 train_score: 0.9341894060995185 test_score: 0.8507462686567164\n",
      "----------\n",
      "BEFORE Tuning Parameters:  {'class_weight': None, 'criterion': 'gini', 'max_depth': None, 'max_features': None, 'max_leaf_nodes': None, 'min_impurity_decrease': 0.0, 'min_impurity_split': None, 'min_samples_leaf': 1, 'min_samples_split': 2, 'min_weight_fraction_leaf': 0.0, 'presort': False, 'random_state': 0, 'splitter': 'best'}\n",
      "BEFORE Tuning Training w/bin score mean: 94.32\n",
      "BEFORE Tuning Test w/bin score mean: 80.30\n",
      "----------\n",
      "epoch: 0 train_score: 0.8346709470304976 test_score: 0.8134328358208955\n",
      "epoch: 1 train_score: 0.841091492776886 test_score: 0.7985074626865671\n",
      "epoch: 2 train_score: 0.8330658105939005 test_score: 0.8470149253731343\n",
      "epoch: 3 train_score: 0.841091492776886 test_score: 0.8246268656716418\n",
      "epoch: 4 train_score: 0.8362760834670947 test_score: 0.8283582089552238\n",
      "epoch: 5 train_score: 0.8346709470304976 test_score: 0.8171641791044776\n",
      "epoch: 6 train_score: 0.8426966292134831 test_score: 0.8134328358208955\n",
      "epoch: 7 train_score: 0.8394863563402889 test_score: 0.832089552238806\n",
      "epoch: 8 train_score: 0.8282504012841091 test_score: 0.8470149253731343\n",
      "epoch: 9 train_score: 0.8202247191011236 test_score: 0.8582089552238806\n",
      "----------\n",
      "AFTER Tuning Parameters:  {'criterion': 'entropy', 'max_depth': 4, 'random_state': 0, 'splitter': 'random'}\n",
      "AFTER Tuning Training w/bin score mean: 83.52\n",
      "AFTER Tuning Test w/bin score mean: 82.80\n",
      "----------\n"
     ]
    }
   ],
   "source": [
    "# grid search for decision trees\n",
    "dtree = tree.DecisionTreeClassifier(random_state = 0)\n",
    "base_results = cross_validate(dtree, x, y, cv  = cv_split, return_train_score=True)\n",
    "dtree.fit(x, y)\n",
    "\n",
    "epoch=0\n",
    "for train_score,test_score in zip(base_results['train_score'], base_results['test_score']):\n",
    "        epoch +=1       \n",
    "        print(\"epoch:\",epoch,\"train_score:\",train_score, \"test_score:\",test_score)\n",
    "print('-'*10)\n",
    "\n",
    "print('BEFORE Tuning Parameters: ', dtree.get_params())\n",
    "print(\"BEFORE Tuning Training w/bin score mean: {:.2f}\". format(base_results['train_score'].mean()*100)) \n",
    "print(\"BEFORE Tuning Test w/bin score mean: {:.2f}\". format(base_results['test_score'].mean()*100))\n",
    "print('-'*10)\n",
    "\n",
    "param_grid = {'criterion': ['gini','entropy'],  #scoring methodology; two supported formulas for calculating information gain - default is gini\n",
    "              'splitter': ['best', 'random'], #splitting methodology; two supported strategies - default is best\n",
    "              'max_depth': [2,4,6,8,10,None], #max depth tree can grow; default is none\n",
    "              #'min_samples_split': [2,5,7,10,12], #minimum subset size BEFORE new split (fraction is % of total); default is 2\n",
    "              #'min_samples_leaf': [1,3,5,7, 10], #minimum subset size AFTER new split split (fraction is % of total); default is 1\n",
    "              #'max_features': [None, 'auto'], #max features to consider when performing split; default none or all\n",
    "              'random_state': [0] #seed or control random number generator: https://www.quora.com/What-is-seed-in-random-number-generation\n",
    "             }\n",
    "\n",
    "\n",
    "tune_model = GridSearchCV(tree.DecisionTreeClassifier(), param_grid=param_grid, scoring = 'accuracy', cv = cv_split, return_train_score=True)\n",
    "tune_model.fit(x, y)\n",
    "\n",
    "for i in range(10):\n",
    "    print(\"epoch:\",i,\"train_score:\",tune_model.cv_results_['split'+str(i)+'_train_score'][tune_model.best_index_],\n",
    "    \"test_score:\",tune_model.cv_results_['split'+str(i)+'_test_score'][tune_model.best_index_])\n",
    "\n",
    "print('-'*10)    \n",
    "\n",
    "print('AFTER Tuning Parameters: ', tune_model.best_params_)\n",
    "print(\"AFTER Tuning Training w/bin score mean: {:.2f}\". format(tune_model.cv_results_['mean_train_score'][tune_model.best_index_]*100))\n",
    "print(\"AFTER Tuning Test w/bin score mean: {:.2f}\". format(tune_model.cv_results_['mean_test_score'][tune_model.best_index_]*100))\n",
    "print('-'*10)"
   ]
  },
  {
   "cell_type": "markdown",
   "metadata": {},
   "source": [
    "### Check the Feature Importances returned by the Tuned Decision Tree"
   ]
  },
  {
   "cell_type": "code",
   "execution_count": 97,
   "metadata": {},
   "outputs": [
    {
     "data": {
      "text/plain": [
       "DecisionTreeClassifier(class_weight=None, criterion='entropy', max_depth=4,\n",
       "            max_features=None, max_leaf_nodes=None,\n",
       "            min_impurity_decrease=0.0, min_impurity_split=None,\n",
       "            min_samples_leaf=1, min_samples_split=2,\n",
       "            min_weight_fraction_leaf=0.0, presort=False, random_state=0,\n",
       "            splitter='random')"
      ]
     },
     "execution_count": 97,
     "metadata": {},
     "output_type": "execute_result"
    }
   ],
   "source": [
    "# train the model using tuned decision tree parameters\n",
    "dtree = tree.DecisionTreeClassifier(criterion= 'entropy', max_depth= 4, random_state= 0, splitter= 'random')\n",
    "base_results = cross_validate(dtree, x, y, cv  = cv_split, return_train_score=True)\n",
    "dtree.fit(x, y)"
   ]
  },
  {
   "cell_type": "code",
   "execution_count": 61,
   "metadata": {},
   "outputs": [],
   "source": [
    "def plot_feature_importances(df):\n",
    "    \n",
    "    # Sort features according to importance\n",
    "    df = df.sort_values('importance', ascending = False).reset_index()\n",
    "    \n",
    "    # Normalize the feature importances to add up to one\n",
    "    df['importance_normalized'] = df['importance'] / df['importance'].sum()\n",
    "\n",
    "    # Make a horizontal bar chart of feature importances\n",
    "    plt.figure(figsize = (10, 6))\n",
    "    ax = plt.subplot()\n",
    "    \n",
    "    # Need to reverse the index to plot most important on top\n",
    "    ax.barh(list(reversed(list(df.index[:15]))), \n",
    "            df['importance_normalized'].head(15), \n",
    "            align = 'center', edgecolor = 'k')\n",
    "    \n",
    "    # Set the yticks and labels\n",
    "    ax.set_yticks(list(reversed(list(df.index[:15]))))\n",
    "    ax.set_yticklabels(df['feature'].head(15))\n",
    "    \n",
    "    # Plot labeling\n",
    "    plt.xlabel('Normalized Importance'); plt.title('Feature Importances')\n",
    "    plt.show()\n",
    "    \n",
    "    return df"
   ]
  },
  {
   "cell_type": "code",
   "execution_count": 62,
   "metadata": {},
   "outputs": [
    {
     "data": {
      "image/png": "[encoded data removed]",
      "text/plain": [
       "<Figure size 720x432 with 1 Axes>"
      ]
     },
     "metadata": {},
     "output_type": "display_data"
    }
   ],
   "source": [
    "importance = dtree.feature_importances_\n",
    "feature = x.columns\n",
    "fi = pd.DataFrame()\n",
    "fi['importance'] = importance\n",
    "fi['feature'] = feature\n",
    "fi_sorted = plot_feature_importances(fi)"
   ]
  },
  {
   "cell_type": "markdown",
   "metadata": {},
   "source": [
    "### Grid Search for Bagging Classifier"
   ]
  },
  {
   "cell_type": "code",
   "execution_count": null,
   "metadata": {},
   "outputs": [],
   "source": [
    "# grid search for bagging classifier\n",
    "classifier = ensemble.BaggingClassifier()\n",
    "base_results = cross_validate(classifier, x, y, cv  = cv_split, return_train_score=True)\n",
    "classifier.fit(x, y)\n",
    "\n",
    "cl1 = LogisticRegressionCV()\n",
    "cl2 = tree.DecisionTreeClassifier()\n",
    "cl3 = svm.LinearSVC()\n",
    "cl4 = discriminant_analysis.LinearDiscriminantAnalysis()\n",
    "cl5 = discriminant_analysis.QuadraticDiscriminantAnalysis()\n",
    "param_grid = {'base_estimator':[cl1, cl2, cl3, cl4, cl5],\n",
    "              'n_estimators':[10,13],\n",
    "              #'warm_start':[False, True]\n",
    "             }\n",
    "\n",
    "\n",
    "tune_model = GridSearchCV(ensemble.BaggingClassifier(), param_grid=param_grid, scoring = 'accuracy', cv = cv_split, return_train_score=True)\n",
    "tune_model.fit(x, y)\n",
    "\n"
   ]
  },
  {
   "cell_type": "code",
   "execution_count": 67,
   "metadata": {},
   "outputs": [
    {
     "name": "stdout",
     "output_type": "stream",
     "text": [
      "epoch: 1 train_score: 0.9245585874799358 test_score: 0.8432835820895522\n",
      "epoch: 2 train_score: 0.9309791332263242 test_score: 0.832089552238806\n",
      "epoch: 3 train_score: 0.9438202247191011 test_score: 0.8059701492537313\n",
      "epoch: 4 train_score: 0.9390048154093098 test_score: 0.8022388059701493\n",
      "epoch: 5 train_score: 0.9293739967897271 test_score: 0.7910447761194029\n",
      "epoch: 6 train_score: 0.9309791332263242 test_score: 0.8395522388059702\n",
      "epoch: 7 train_score: 0.9406099518459069 test_score: 0.8171641791044776\n",
      "epoch: 8 train_score: 0.92776886035313 test_score: 0.8134328358208955\n",
      "epoch: 9 train_score: 0.9293739967897271 test_score: 0.8022388059701493\n",
      "epoch: 10 train_score: 0.9261637239165329 test_score: 0.8619402985074627\n",
      "----------\n",
      "BEFORE Tuning Parameters:  {'base_estimator': None, 'bootstrap': True, 'bootstrap_features': False, 'max_features': 1.0, 'max_samples': 1.0, 'n_estimators': 10, 'n_jobs': 1, 'oob_score': False, 'random_state': None, 'verbose': 0, 'warm_start': False}\n",
      "BEFORE Tuning Training w/bin score mean: 93.23\n",
      "BEFORE Tuning Test w/bin score mean: 82.09\n",
      "----------\n",
      "epoch: 0 train_score: 0.8314606741573034 test_score: 0.8283582089552238\n",
      "epoch: 1 train_score: 0.8426966292134831 test_score: 0.7910447761194029\n",
      "epoch: 2 train_score: 0.8346709470304976 test_score: 0.835820895522388\n",
      "epoch: 3 train_score: 0.8378812199036918 test_score: 0.8134328358208955\n",
      "epoch: 4 train_score: 0.826645264847512 test_score: 0.8395522388059702\n",
      "epoch: 5 train_score: 0.8298555377207063 test_score: 0.832089552238806\n",
      "epoch: 6 train_score: 0.8394863563402889 test_score: 0.8097014925373134\n",
      "epoch: 7 train_score: 0.8298555377207063 test_score: 0.8208955223880597\n",
      "epoch: 8 train_score: 0.8186195826645265 test_score: 0.8507462686567164\n",
      "epoch: 9 train_score: 0.8186195826645265 test_score: 0.8656716417910447\n",
      "----------\n",
      "AFTER Tuning Parameters:  {'base_estimator': LogisticRegressionCV(Cs=10, class_weight=None, cv=None, dual=False,\n",
      "           fit_intercept=True, intercept_scaling=1.0, max_iter=100,\n",
      "           multi_class='ovr', n_jobs=1, penalty='l2', random_state=None,\n",
      "           refit=True, scoring=None, solver='lbfgs', tol=0.0001, verbose=0), 'n_estimators': 10}\n",
      "AFTER Tuning Training w/bin score mean: 83.10\n",
      "AFTER Tuning Test w/bin score mean: 82.87\n",
      "----------\n"
     ]
    }
   ],
   "source": [
    "# printing the results of bagging before and after tuning\n",
    "epoch=0\n",
    "for train_score,test_score in zip(base_results['train_score'], base_results['test_score']):\n",
    "        epoch +=1       \n",
    "        print(\"epoch:\",epoch,\"train_score:\",train_score, \"test_score:\",test_score)\n",
    "print('-'*10)\n",
    "\n",
    "print('BEFORE Tuning Parameters: ', classifier.get_params())\n",
    "print(\"BEFORE Tuning Training w/bin score mean: {:.2f}\". format(base_results['train_score'].mean()*100)) \n",
    "print(\"BEFORE Tuning Test w/bin score mean: {:.2f}\". format(base_results['test_score'].mean()*100))\n",
    "print('-'*10)\n",
    "\n",
    "for i in range(10):\n",
    "    print(\"epoch:\",i,\"train_score:\",tune_model.cv_results_['split'+str(i)+'_train_score'][tune_model.best_index_],\n",
    "    \"test_score:\",tune_model.cv_results_['split'+str(i)+'_test_score'][tune_model.best_index_])\n",
    "\n",
    "print('-'*10)    \n",
    "\n",
    "\n",
    "print('AFTER Tuning Parameters: ', tune_model.best_params_)\n",
    "print(\"AFTER Tuning Training w/bin score mean: {:.2f}\". format(tune_model.cv_results_['mean_train_score'][tune_model.best_index_]*100))\n",
    "print(\"AFTER Tuning Test w/bin score mean: {:.2f}\". format(tune_model.cv_results_['mean_test_score'][tune_model.best_index_]*100))\n",
    "print('-'*10)"
   ]
  },
  {
   "cell_type": "markdown",
   "metadata": {},
   "source": [
    "### Grid Search for Adaboost"
   ]
  },
  {
   "cell_type": "code",
   "execution_count": 72,
   "metadata": {},
   "outputs": [
    {
     "name": "stdout",
     "output_type": "stream",
     "text": [
      "epoch: 1 train_score: 0.8443017656500803 test_score: 0.8134328358208955\n",
      "epoch: 2 train_score: 0.85553772070626 test_score: 0.7910447761194029\n",
      "epoch: 3 train_score: 0.8475120385232745 test_score: 0.8246268656716418\n",
      "epoch: 4 train_score: 0.85553772070626 test_score: 0.8022388059701493\n",
      "epoch: 5 train_score: 0.8330658105939005 test_score: 0.832089552238806\n",
      "epoch: 6 train_score: 0.8314606741573034 test_score: 0.8246268656716418\n",
      "epoch: 7 train_score: 0.8475120385232745 test_score: 0.8208955223880597\n",
      "epoch: 8 train_score: 0.8346709470304976 test_score: 0.832089552238806\n",
      "epoch: 9 train_score: 0.8426966292134831 test_score: 0.8208955223880597\n",
      "epoch: 10 train_score: 0.8202247191011236 test_score: 0.8656716417910447\n",
      "----------\n",
      "BEFORE Tuning Parameters:  {'algorithm': 'SAMME.R', 'base_estimator': None, 'learning_rate': 1.0, 'n_estimators': 50, 'random_state': None}\n",
      "BEFORE Tuning Training w/bin score mean: 84.13\n",
      "BEFORE Tuning Test w/bin score mean: 82.28\n",
      "----------\n",
      "epoch: 0 train_score: 0.8298555377207063 test_score: 0.8283582089552238\n",
      "epoch: 1 train_score: 0.8443017656500803 test_score: 0.7873134328358209\n",
      "epoch: 2 train_score: 0.8282504012841091 test_score: 0.8432835820895522\n",
      "epoch: 3 train_score: 0.8362760834670947 test_score: 0.8097014925373134\n",
      "epoch: 4 train_score: 0.8282504012841091 test_score: 0.832089552238806\n",
      "epoch: 5 train_score: 0.826645264847512 test_score: 0.832089552238806\n",
      "epoch: 6 train_score: 0.8346709470304976 test_score: 0.8059701492537313\n",
      "epoch: 7 train_score: 0.826645264847512 test_score: 0.832089552238806\n",
      "epoch: 8 train_score: 0.8234349919743178 test_score: 0.8395522388059702\n",
      "epoch: 9 train_score: 0.8170144462279294 test_score: 0.8619402985074627\n",
      "----------\n",
      "AFTER Tuning Parameters:  {'base_estimator': LogisticRegressionCV(Cs=10, class_weight=None, cv=None, dual=False,\n",
      "           fit_intercept=True, intercept_scaling=1.0, max_iter=100,\n",
      "           multi_class='ovr', n_jobs=1, penalty='l2', random_state=None,\n",
      "           refit=True, scoring=None, solver='lbfgs', tol=0.0001, verbose=0)}\n",
      "AFTER Tuning Training w/bin score mean: 82.95\n",
      "AFTER Tuning Test w/bin score mean: 82.72\n",
      "----------\n"
     ]
    }
   ],
   "source": [
    "classifier = ensemble.AdaBoostClassifier()\n",
    "base_results = cross_validate(classifier, x, y, cv  = cv_split, return_train_score=True)\n",
    "classifier.fit(x, y)\n",
    "\n",
    "epoch=0\n",
    "for train_score,test_score in zip(base_results['train_score'], base_results['test_score']):\n",
    "        epoch +=1       \n",
    "        print(\"epoch:\",epoch,\"train_score:\",train_score, \"test_score:\",test_score)\n",
    "print('-'*10)\n",
    "\n",
    "print('BEFORE Tuning Parameters: ', classifier.get_params())\n",
    "print(\"BEFORE Tuning Training w/bin score mean: {:.2f}\". format(base_results['train_score'].mean()*100)) \n",
    "print(\"BEFORE Tuning Test w/bin score mean: {:.2f}\". format(base_results['test_score'].mean()*100))\n",
    "print('-'*10)\n",
    "\n",
    "cl1 = LogisticRegressionCV()\n",
    "cl2 = tree.DecisionTreeClassifier()\n",
    "cl3 = naive_bayes.GaussianNB()\n",
    "param_grid = {'base_estimator':[cl1, cl2, cl3]\n",
    "             }\n",
    "\n",
    "\n",
    "tune_model = GridSearchCV(ensemble.AdaBoostClassifier(), param_grid=param_grid, scoring = 'accuracy', cv = cv_split, return_train_score=True)\n",
    "tune_model.fit(x, y)\n",
    "\n",
    "for i in range(10):\n",
    "    print(\"epoch:\",i,\"train_score:\",tune_model.cv_results_['split'+str(i)+'_train_score'][tune_model.best_index_],\n",
    "    \"test_score:\",tune_model.cv_results_['split'+str(i)+'_test_score'][tune_model.best_index_])\n",
    "\n",
    "print('-'*10)    \n",
    "\n",
    "\n",
    "print('AFTER Tuning Parameters: ', tune_model.best_params_)\n",
    "print(\"AFTER Tuning Training w/bin score mean: {:.2f}\". format(tune_model.cv_results_['mean_train_score'][tune_model.best_index_]*100))\n",
    "print(\"AFTER Tuning Test w/bin score mean: {:.2f}\". format(tune_model.cv_results_['mean_test_score'][tune_model.best_index_]*100))\n",
    "print('-'*10)"
   ]
  },
  {
   "cell_type": "markdown",
   "metadata": {},
   "source": [
    "### Grid Search for Random Forest"
   ]
  },
  {
   "cell_type": "code",
   "execution_count": 84,
   "metadata": {},
   "outputs": [
    {
     "name": "stdout",
     "output_type": "stream",
     "text": [
      "epoch: 1 train_score: 0.9261637239165329 test_score: 0.8246268656716418\n",
      "epoch: 2 train_score: 0.9357945425361156 test_score: 0.8059701492537313\n",
      "epoch: 3 train_score: 0.9373996789727127 test_score: 0.8059701492537313\n",
      "epoch: 4 train_score: 0.9341894060995185 test_score: 0.8171641791044776\n",
      "epoch: 5 train_score: 0.9309791332263242 test_score: 0.7985074626865671\n",
      "epoch: 6 train_score: 0.9341894060995185 test_score: 0.7910447761194029\n",
      "epoch: 7 train_score: 0.9341894060995185 test_score: 0.7910447761194029\n",
      "epoch: 8 train_score: 0.9341894060995185 test_score: 0.7985074626865671\n",
      "epoch: 9 train_score: 0.9197431781701445 test_score: 0.8171641791044776\n",
      "epoch: 10 train_score: 0.9181380417335474 test_score: 0.8544776119402985\n",
      "----------\n",
      "BEFORE Tuning Parameters:  {'bootstrap': True, 'class_weight': None, 'criterion': 'gini', 'max_depth': None, 'max_features': 'auto', 'max_leaf_nodes': None, 'min_impurity_decrease': 0.0, 'min_impurity_split': None, 'min_samples_leaf': 1, 'min_samples_split': 2, 'min_weight_fraction_leaf': 0.0, 'n_estimators': 10, 'n_jobs': 1, 'oob_score': False, 'random_state': None, 'verbose': 0, 'warm_start': False}\n",
      "BEFORE Tuning Training w/bin score mean: 93.05\n",
      "BEFORE Tuning Test w/bin score mean: 81.04\n",
      "----------\n",
      "epoch: 0 train_score: 0.8796147672552167 test_score: 0.8395522388059702\n",
      "epoch: 1 train_score: 0.8812199036918138 test_score: 0.832089552238806\n",
      "epoch: 2 train_score: 0.884430176565008 test_score: 0.8283582089552238\n",
      "epoch: 3 train_score: 0.8796147672552167 test_score: 0.8134328358208955\n",
      "epoch: 4 train_score: 0.8860353130016051 test_score: 0.8507462686567164\n",
      "epoch: 5 train_score: 0.8780096308186196 test_score: 0.8283582089552238\n",
      "epoch: 6 train_score: 0.884430176565008 test_score: 0.832089552238806\n",
      "epoch: 7 train_score: 0.8860353130016051 test_score: 0.832089552238806\n",
      "epoch: 8 train_score: 0.8828250401284109 test_score: 0.8395522388059702\n",
      "epoch: 9 train_score: 0.8539325842696629 test_score: 0.8544776119402985\n",
      "----------\n",
      "AFTER Tuning Parameters:  {'criterion': 'entropy', 'max_depth': None, 'max_features': 3, 'min_samples_split': 10, 'n_estimators': 25, 'random_state': 0}\n",
      "AFTER Tuning Training w/bin score mean: 87.96\n",
      "AFTER Tuning Test w/bin score mean: 83.51\n",
      "----------\n"
     ]
    }
   ],
   "source": [
    "classifier = ensemble.RandomForestClassifier()\n",
    "base_results = cross_validate(classifier, x, y, cv  = cv_split, return_train_score=True)\n",
    "classifier.fit(x, y)\n",
    "\n",
    "epoch=0\n",
    "for train_score,test_score in zip(base_results['train_score'], base_results['test_score']):\n",
    "        epoch +=1       \n",
    "        print(\"epoch:\",epoch,\"train_score:\",train_score, \"test_score:\",test_score)\n",
    "print('-'*10)\n",
    "\n",
    "print('BEFORE Tuning Parameters: ', classifier.get_params())\n",
    "print(\"BEFORE Tuning Training w/bin score mean: {:.2f}\". format(base_results['train_score'].mean()*100)) \n",
    "print(\"BEFORE Tuning Test w/bin score mean: {:.2f}\". format(base_results['test_score'].mean()*100))\n",
    "print('-'*10)\n",
    "\n",
    "param_grid = {'n_estimators': [15,25,30,35],\n",
    "              'criterion': ['gini','entropy'],  #scoring methodology; two supported formulas for calculating information gain - default is gini\n",
    "              'max_depth': [2,4,6,None], #max depth tree can grow; default is none\n",
    "              'min_samples_split': [2,5,7,10,12], #minimum subset size BEFORE new split (fraction is % of total); default is 2\n",
    "              #'min_samples_leaf': [1,3,5], #minimum subset size AFTER new split split (fraction is % of total); default is 1\n",
    "              'max_features': [2,3,'auto'], #max features to consider when performing split; default none or all\n",
    "              'random_state': [0] #seed or control random number generator: https://www.quora.com/What-is-seed-in-random-number-generation\n",
    "             }\n",
    "\n",
    "\n",
    "tune_model = GridSearchCV(ensemble.RandomForestClassifier(), param_grid=param_grid, scoring = 'accuracy', cv = cv_split, return_train_score=True)\n",
    "tune_model.fit(x, y)\n",
    "\n",
    "for i in range(10):\n",
    "    print(\"epoch:\",i,\"train_score:\",tune_model.cv_results_['split'+str(i)+'_train_score'][tune_model.best_index_],\n",
    "    \"test_score:\",tune_model.cv_results_['split'+str(i)+'_test_score'][tune_model.best_index_])\n",
    "\n",
    "print('-'*10)    \n",
    "\n",
    "\n",
    "print('AFTER Tuning Parameters: ', tune_model.best_params_)\n",
    "print(\"AFTER Tuning Training w/bin score mean: {:.2f}\". format(tune_model.cv_results_['mean_train_score'][tune_model.best_index_]*100))\n",
    "print(\"AFTER Tuning Test w/bin score mean: {:.2f}\". format(tune_model.cv_results_['mean_test_score'][tune_model.best_index_]*100))\n",
    "print('-'*10)"
   ]
  },
  {
   "cell_type": "markdown",
   "metadata": {},
   "source": [
    "### Check the Feature Importances returned by the Random Forest"
   ]
  },
  {
   "cell_type": "code",
   "execution_count": 78,
   "metadata": {},
   "outputs": [
    {
     "data": {
      "text/plain": [
       "RandomForestClassifier(bootstrap=True, class_weight=None, criterion='entropy',\n",
       "            max_depth=None, max_features='auto', max_leaf_nodes=None,\n",
       "            min_impurity_decrease=0.0, min_impurity_split=None,\n",
       "            min_samples_leaf=1, min_samples_split=10,\n",
       "            min_weight_fraction_leaf=0.0, n_estimators=25, n_jobs=1,\n",
       "            oob_score=False, random_state=0, verbose=0, warm_start=False)"
      ]
     },
     "execution_count": 78,
     "metadata": {},
     "output_type": "execute_result"
    }
   ],
   "source": [
    "# train the model using tuned random forest parameters\n",
    "random_forest = ensemble.RandomForestClassifier(criterion= 'entropy', max_depth= None, random_state= 0, min_samples_split= 10, n_estimators=25)\n",
    "base_results = cross_validate(random_forest, x, y, cv  = cv_split, return_train_score=True)\n",
    "random_forest.fit(x, y)"
   ]
  },
  {
   "cell_type": "code",
   "execution_count": 79,
   "metadata": {},
   "outputs": [
    {
     "data": {
      "image/png": "[encoded data removed]",
      "text/plain": [
       "<Figure size 720x432 with 1 Axes>"
      ]
     },
     "metadata": {},
     "output_type": "display_data"
    }
   ],
   "source": [
    "importance = random_forest.feature_importances_\n",
    "feature = x.columns\n",
    "fi = pd.DataFrame()\n",
    "fi['importance'] = importance\n",
    "fi['feature'] = feature\n",
    "fi_sorted = plot_feature_importances(fi)"
   ]
  },
  {
   "cell_type": "markdown",
   "metadata": {},
   "source": [
    "## Compare the performances of the tuned algorithms on our dataset"
   ]
  },
  {
   "cell_type": "code",
   "execution_count": 91,
   "metadata": {},
   "outputs": [],
   "source": [
    "MLA = [    \n",
    "        # Generalized Linear Models\n",
    "        LogisticRegressionCV(),\n",
    "    \n",
    "        # SVM\n",
    "        svm.SVC(probability=True, C=1.0, gamma=0.02, kernel='linear'),\n",
    "        svm.LinearSVC(),\n",
    "    \n",
    "        # KNN\n",
    "        neighbors.KNeighborsClassifier(weights='distance'),\n",
    "    \n",
    "        #Discriminant Analysis\n",
    "        discriminant_analysis.LinearDiscriminantAnalysis(),\n",
    "        discriminant_analysis.QuadraticDiscriminantAnalysis(),\n",
    "     \n",
    "        # Naive Bayes\n",
    "        naive_bayes.BernoulliNB(),\n",
    "        naive_bayes.GaussianNB(),\n",
    "    \n",
    "        #Trees    \n",
    "        tree.DecisionTreeClassifier(criterion= 'entropy', max_depth= 4, random_state= 0, splitter= 'random'),\n",
    "    \n",
    "        # Ensemble Methods\n",
    "        ensemble.AdaBoostClassifier(base_estimator = LogisticRegressionCV()),\n",
    "        ensemble.BaggingClassifier(base_estimator=LogisticRegressionCV(), n_estimators=10),\n",
    "        ensemble.ExtraTreesClassifier(),\n",
    "        ensemble.GradientBoostingClassifier(),\n",
    "        ensemble.RandomForestClassifier(criterion='entropy', min_samples_split=10, n_estimators=25, random_state=0, max_features=3)\n",
    "     \n",
    "    ]\n",
    "\n",
    "cv_split = ShuffleSplit(n_splits = 10, test_size = .3, train_size = .7, random_state = 0)\n",
    "MLA_columns = ['MLA Name','MLA Train Accuracy Mean', 'MLA Test Accuracy Mean','MLA Time']\n",
    "MLA_compare = pd.DataFrame(columns = MLA_columns)\n",
    "\n",
    "row_index = 0\n",
    "for alg in MLA:\n",
    "    MLA_name = alg.__class__.__name__\n",
    "    MLA_compare.loc[row_index, 'MLA Name'] = MLA_name\n",
    "    cv_results = cross_validate(alg, x,y, cv  = cv_split, return_train_score=True)\n",
    "    \n",
    "    MLA_compare.loc[row_index, 'MLA Time'] = cv_results['fit_time'].mean()\n",
    "    MLA_compare.loc[row_index, 'MLA Train Accuracy Mean'] = cv_results['train_score'].mean()\n",
    "    MLA_compare.loc[row_index, 'MLA Test Accuracy Mean'] = cv_results['test_score'].mean()   \n",
    "         \n",
    "    row_index+=1\n",
    "   \n",
    "\n",
    "MLA_compare.sort_values(by = ['MLA Test Accuracy Mean'], ascending = False, inplace = True)\n"
   ]
  },
  {
   "cell_type": "code",
   "execution_count": 92,
   "metadata": {},
   "outputs": [
    {
     "data": {
      "text/html": [
       "<div>\n",
       "<style scoped>\n",
       "    .dataframe tbody tr th:only-of-type {\n",
       "        vertical-align: middle;\n",
       "    }\n",
       "\n",
       "    .dataframe tbody tr th {\n",
       "        vertical-align: top;\n",
       "    }\n",
       "\n",
       "    .dataframe thead th {\n",
       "        text-align: right;\n",
       "    }\n",
       "</style>\n",
       "<table border=\"1\" class=\"dataframe\">\n",
       "  <thead>\n",
       "    <tr style=\"text-align: right;\">\n",
       "      <th></th>\n",
       "      <th>MLA Name</th>\n",
       "      <th>MLA Train Accuracy Mean</th>\n",
       "      <th>MLA Test Accuracy Mean</th>\n",
       "      <th>MLA Time</th>\n",
       "    </tr>\n",
       "  </thead>\n",
       "  <tbody>\n",
       "    <tr>\n",
       "      <th>13</th>\n",
       "      <td>RandomForestClassifier</td>\n",
       "      <td>0.879615</td>\n",
       "      <td>0.835075</td>\n",
       "      <td>0.0454241</td>\n",
       "    </tr>\n",
       "    <tr>\n",
       "      <th>12</th>\n",
       "      <td>GradientBoostingClassifier</td>\n",
       "      <td>0.9</td>\n",
       "      <td>0.83209</td>\n",
       "      <td>0.127756</td>\n",
       "    </tr>\n",
       "    <tr>\n",
       "      <th>4</th>\n",
       "      <td>LinearDiscriminantAnalysis</td>\n",
       "      <td>0.831782</td>\n",
       "      <td>0.827985</td>\n",
       "      <td>0.00370688</td>\n",
       "    </tr>\n",
       "    <tr>\n",
       "      <th>8</th>\n",
       "      <td>DecisionTreeClassifier</td>\n",
       "      <td>0.835152</td>\n",
       "      <td>0.827985</td>\n",
       "      <td>0.00220149</td>\n",
       "    </tr>\n",
       "    <tr>\n",
       "      <th>0</th>\n",
       "      <td>LogisticRegressionCV</td>\n",
       "      <td>0.830177</td>\n",
       "      <td>0.827612</td>\n",
       "      <td>0.505963</td>\n",
       "    </tr>\n",
       "    <tr>\n",
       "      <th>9</th>\n",
       "      <td>AdaBoostClassifier</td>\n",
       "      <td>0.829535</td>\n",
       "      <td>0.827239</td>\n",
       "      <td>16.4874</td>\n",
       "    </tr>\n",
       "    <tr>\n",
       "      <th>10</th>\n",
       "      <td>BaggingClassifier</td>\n",
       "      <td>0.830979</td>\n",
       "      <td>0.826119</td>\n",
       "      <td>5.04712</td>\n",
       "    </tr>\n",
       "    <tr>\n",
       "      <th>1</th>\n",
       "      <td>SVC</td>\n",
       "      <td>0.828732</td>\n",
       "      <td>0.825746</td>\n",
       "      <td>9.32294</td>\n",
       "    </tr>\n",
       "    <tr>\n",
       "      <th>2</th>\n",
       "      <td>LinearSVC</td>\n",
       "      <td>0.804334</td>\n",
       "      <td>0.811194</td>\n",
       "      <td>0.0521402</td>\n",
       "    </tr>\n",
       "    <tr>\n",
       "      <th>11</th>\n",
       "      <td>ExtraTreesClassifier</td>\n",
       "      <td>0.943178</td>\n",
       "      <td>0.805597</td>\n",
       "      <td>0.0187139</td>\n",
       "    </tr>\n",
       "    <tr>\n",
       "      <th>6</th>\n",
       "      <td>BernoulliNB</td>\n",
       "      <td>0.79374</td>\n",
       "      <td>0.781343</td>\n",
       "      <td>0.00290649</td>\n",
       "    </tr>\n",
       "    <tr>\n",
       "      <th>7</th>\n",
       "      <td>GaussianNB</td>\n",
       "      <td>0.789888</td>\n",
       "      <td>0.779478</td>\n",
       "      <td>0.00279815</td>\n",
       "    </tr>\n",
       "    <tr>\n",
       "      <th>3</th>\n",
       "      <td>KNeighborsClassifier</td>\n",
       "      <td>0.940128</td>\n",
       "      <td>0.779104</td>\n",
       "      <td>0.00289772</td>\n",
       "    </tr>\n",
       "    <tr>\n",
       "      <th>5</th>\n",
       "      <td>QuadraticDiscriminantAnalysis</td>\n",
       "      <td>0.449599</td>\n",
       "      <td>0.444403</td>\n",
       "      <td>0.00270398</td>\n",
       "    </tr>\n",
       "  </tbody>\n",
       "</table>\n",
       "</div>"
      ],
      "text/plain": [
       "                         MLA Name MLA Train Accuracy Mean  \\\n",
       "13         RandomForestClassifier                0.879615   \n",
       "12     GradientBoostingClassifier                     0.9   \n",
       "4      LinearDiscriminantAnalysis                0.831782   \n",
       "8          DecisionTreeClassifier                0.835152   \n",
       "0            LogisticRegressionCV                0.830177   \n",
       "9              AdaBoostClassifier                0.829535   \n",
       "10              BaggingClassifier                0.830979   \n",
       "1                             SVC                0.828732   \n",
       "2                       LinearSVC                0.804334   \n",
       "11           ExtraTreesClassifier                0.943178   \n",
       "6                     BernoulliNB                 0.79374   \n",
       "7                      GaussianNB                0.789888   \n",
       "3            KNeighborsClassifier                0.940128   \n",
       "5   QuadraticDiscriminantAnalysis                0.449599   \n",
       "\n",
       "   MLA Test Accuracy Mean    MLA Time  \n",
       "13               0.835075   0.0454241  \n",
       "12                0.83209    0.127756  \n",
       "4                0.827985  0.00370688  \n",
       "8                0.827985  0.00220149  \n",
       "0                0.827612    0.505963  \n",
       "9                0.827239     16.4874  \n",
       "10               0.826119     5.04712  \n",
       "1                0.825746     9.32294  \n",
       "2                0.811194   0.0521402  \n",
       "11               0.805597   0.0187139  \n",
       "6                0.781343  0.00290649  \n",
       "7                0.779478  0.00279815  \n",
       "3                0.779104  0.00289772  \n",
       "5                0.444403  0.00270398  "
      ]
     },
     "execution_count": 92,
     "metadata": {},
     "output_type": "execute_result"
    }
   ],
   "source": [
    "MLA_compare"
   ]
  },
  {
   "cell_type": "markdown",
   "metadata": {},
   "source": [
    "## Conclusion\n",
    "From the above table, it can be infered that the ensemble methods are not a good fit for our dataset. Although they are among the highest performers in terms of mean test accuracy, but they are facing the overfitting problem. \n",
    "\n",
    "Ensemble methods mainly works in two ways:\n",
    "\n",
    "- either they sample the data multiple times and make many datasets (like bootstrapping), and on each dataset a classifier is being trained and then the combined result of each classifier is presented as output\n",
    "- or on each dataset produced, a classifier is being trained with a randomly chosen subset of the features set, and then the combined result of each classifier is presented as output. \n",
    "\n",
    "In our case the dataset as well as the feature set, both are very small. So, while building the ensemble model, there is high probability that the different datasets produced have almost the same type of samples or since there are very few features, the different classifiers are considering the same features again and again. Due to these two reasons, the different classifiers in an ensemble model maybe having high correlations with each other. Hence, they can create the problem of overfitting, when the results of all these classifiers are combined.     \n",
    "\n",
    "Now, since decision tree algorithm is among the top performers, we can further try to improve the performance of this algorithm with sklearn's feature selection method by exploiting the feature_importance attribute of decision trees.  "
   ]
  },
  {
   "cell_type": "markdown",
   "metadata": {},
   "source": [
    "## Tune the Decision Tree Model with Feature Selection\n",
    "We will use Recursive Feature Elimination (RFE) method which selects features by recursively considering smaller and smaller sets of features. First, the estimator is trained on the initial set of features and the importance of each feature is obtained through a feature_importances_ attribute. Then, the least important features are pruned from current set of features. That procedure is recursively repeated on the pruned set until the desired number of features to select is eventually reached. "
   ]
  },
  {
   "cell_type": "code",
   "execution_count": 103,
   "metadata": {},
   "outputs": [
    {
     "name": "stdout",
     "output_type": "stream",
     "text": [
      "BEFORE RFE Training Shape Old:  (891, 14)\n",
      "BEFORE RFE Training Columns Old:  ['Pclass' 'Sex' 'Age' 'Fare' 'family' 'family_status' 'Embarked_C'\n",
      " 'Embarked_Q' 'Embarked_S' 'Title_Master' 'Title_Miss' 'Title_Mr'\n",
      " 'Title_Mrs' 'Title_Others']\n",
      "BEFORE RFE Training w/bin score mean: 94.32\n",
      "BEFORE RFE Test w/bin score mean: 80.30\n",
      "----------\n",
      "AFTER RFE Training Shape New:  (891, 6)\n",
      "AFTER RFE Training Columns New:  ['Pclass' 'Sex' 'Fare' 'family' 'Title_Mr' 'Title_Others']\n",
      "AFTER RFE Training w/bin score mean: 92.94\n",
      "AFTER RFE Test w/bin score mean: 82.80\n",
      "----------\n",
      "AFTER RFE Tuned Parameters:  {'criterion': 'gini', 'max_depth': 8, 'random_state': 0, 'splitter': 'best'}\n",
      "AFTER RFE Tuned Training w/bin score mean: 83.56\n",
      "AFTER RFE Tuned Test w/bin score mean: 83.02\n",
      "----------\n"
     ]
    }
   ],
   "source": [
    "print('BEFORE RFE Training Shape Old: ', x.shape) \n",
    "print('BEFORE RFE Training Columns Old: ', x.columns.values)\n",
    "\n",
    "print(\"BEFORE RFE Training w/bin score mean: {:.2f}\". format(base_results['train_score'].mean()*100)) \n",
    "print(\"BEFORE RFE Test w/bin score mean: {:.2f}\". format(base_results['test_score'].mean()*100))\n",
    "print('-'*10)\n",
    "\n",
    "#feature selection\n",
    "dtree_rfe = feature_selection.RFECV(tree.DecisionTreeClassifier(), step = 1, scoring = 'accuracy', cv = cv_split)\n",
    "dtree_rfe.fit(x, y)\n",
    "\n",
    "#transform x&y to reduced features and fit new model\n",
    "X_rfe = x.columns.values[dtree_rfe.get_support()]\n",
    "rfe_results = cross_validate(dtree, x[X_rfe], y, cv  = cv_split)\n",
    "\n",
    "print('AFTER RFE Training Shape New: ', x[X_rfe].shape) \n",
    "print('AFTER RFE Training Columns New: ', X_rfe)\n",
    "\n",
    "print(\"AFTER RFE Training w/bin score mean: {:.2f}\". format(rfe_results['train_score'].mean()*100)) \n",
    "print(\"AFTER RFE Test w/bin score mean: {:.2f}\". format(rfe_results['test_score'].mean()*100))\n",
    "print('-'*10)\n",
    "\n",
    "#tune rfe model\n",
    "rfe_tune_model = GridSearchCV(tree.DecisionTreeClassifier(), param_grid=param_grid, scoring = 'accuracy', cv = cv_split)\n",
    "rfe_tune_model.fit(x[X_rfe], y)\n",
    "\n",
    "print('AFTER RFE Tuned Parameters: ', rfe_tune_model.best_params_)\n",
    "print(\"AFTER RFE Tuned Training w/bin score mean: {:.2f}\". format(rfe_tune_model.cv_results_['mean_train_score'][tune_model.best_index_]*100)) \n",
    "print(\"AFTER RFE Tuned Test w/bin score mean: {:.2f}\". format(rfe_tune_model.cv_results_['mean_test_score'][tune_model.best_index_]*100))\n",
    "print('-'*10)"
   ]
  },
  {
   "cell_type": "markdown",
   "metadata": {},
   "source": [
    "## Closing Comments\n",
    "After tuning the decision tree model with respect to hyper-parameters as well as feature selection, we are able to reduce the overfitting but still we are getting the mean test accuracy of around 83%. Since, our dataset is very small, the decision tree model will likely have more variance. So, instead we can use either Linear Discriminant Analysis model or Logistic Regression model as both of them have similar accuracy of around 82.7%, closer to decision trees.   "
   ]
  },
  {
   "cell_type": "code",
   "execution_count": null,
   "metadata": {},
   "outputs": [],
   "source": []
  }
 ],
 "metadata": {
  "kernelspec": {
   "display_name": "Python 3",
   "language": "python",
   "name": "python3"
  },
  "language_info": {
   "codemirror_mode": {
    "name": "ipython",
    "version": 3
   },
   "file_extension": ".py",
   "mimetype": "text/x-python",
   "name": "python",
   "nbconvert_exporter": "python",
   "pygments_lexer": "ipython3",
   "version": "3.6.5"
  }
 },
 "nbformat": 4,
 "nbformat_minor": 2
}
